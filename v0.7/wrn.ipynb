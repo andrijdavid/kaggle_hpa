{
 "cells": [
  {
   "cell_type": "code",
   "execution_count": 1,
   "metadata": {
    "_cell_guid": "79c7e3d0-c299-4dcb-8224-4455121ee9b0",
    "_uuid": "d629ff2d2480ee46fbb7e2d37f6b5fab8052498a"
   },
   "outputs": [],
   "source": [
    "import numpy as np\n",
    "import pandas as pd\n",
    "import os"
   ]
  },
  {
   "cell_type": "code",
   "execution_count": 2,
   "metadata": {
    "_uuid": "14da00fd2d9e39a4b2a3024375fb8e30e92bc10a"
   },
   "outputs": [],
   "source": [
    "from fastai.conv_learner import *\n",
    "from fastai.dataset import *\n",
    "\n",
    "from pathlib import Path\n",
    "import json\n",
    "torch.cuda.set_device(0)\n",
    "from pathlib import Path\n",
    "torch.cuda.set_device(0)"
   ]
  },
  {
   "cell_type": "code",
   "execution_count": 3,
   "metadata": {
    "_uuid": "712cf41b95d08b64eb6a2eacce63007a753cb010"
   },
   "outputs": [
    {
     "data": {
      "text/html": [
       "<div>\n",
       "<style scoped>\n",
       "    .dataframe tbody tr th:only-of-type {\n",
       "        vertical-align: middle;\n",
       "    }\n",
       "\n",
       "    .dataframe tbody tr th {\n",
       "        vertical-align: top;\n",
       "    }\n",
       "\n",
       "    .dataframe thead th {\n",
       "        text-align: right;\n",
       "    }\n",
       "</style>\n",
       "<table border=\"1\" class=\"dataframe\">\n",
       "  <thead>\n",
       "    <tr style=\"text-align: right;\">\n",
       "      <th></th>\n",
       "      <th>Target</th>\n",
       "    </tr>\n",
       "    <tr>\n",
       "      <th>Id</th>\n",
       "      <th></th>\n",
       "    </tr>\n",
       "  </thead>\n",
       "  <tbody>\n",
       "    <tr>\n",
       "      <th>00070df0-bbc3-11e8-b2bc-ac1f6b6435d0</th>\n",
       "      <td>16 0</td>\n",
       "    </tr>\n",
       "    <tr>\n",
       "      <th>000a6c98-bb9b-11e8-b2b9-ac1f6b6435d0</th>\n",
       "      <td>7 1 2 0</td>\n",
       "    </tr>\n",
       "    <tr>\n",
       "      <th>000a9596-bbc4-11e8-b2bc-ac1f6b6435d0</th>\n",
       "      <td>5</td>\n",
       "    </tr>\n",
       "    <tr>\n",
       "      <th>000c99ba-bba4-11e8-b2b9-ac1f6b6435d0</th>\n",
       "      <td>1</td>\n",
       "    </tr>\n",
       "    <tr>\n",
       "      <th>001838f8-bbca-11e8-b2bc-ac1f6b6435d0</th>\n",
       "      <td>18</td>\n",
       "    </tr>\n",
       "  </tbody>\n",
       "</table>\n",
       "</div>"
      ],
      "text/plain": [
       "                                       Target\n",
       "Id                                           \n",
       "00070df0-bbc3-11e8-b2bc-ac1f6b6435d0     16 0\n",
       "000a6c98-bb9b-11e8-b2b9-ac1f6b6435d0  7 1 2 0\n",
       "000a9596-bbc4-11e8-b2bc-ac1f6b6435d0        5\n",
       "000c99ba-bba4-11e8-b2b9-ac1f6b6435d0        1\n",
       "001838f8-bbca-11e8-b2bc-ac1f6b6435d0       18"
      ]
     },
     "execution_count": 3,
     "metadata": {},
     "output_type": "execute_result"
    }
   ],
   "source": [
    "MASKS = 'train.csv'\n",
    "SUB = 'sample_submission.csv'\n",
    "TRAIN64 = Path('train64/')\n",
    "TRAIN128 = Path('train128/')\n",
    "TEST = Path('test/')\n",
    "PATH = Path('HPA/')\n",
    "TMP = Path('tmp/')\n",
    "MODEL = Path('model/')\n",
    "\n",
    "seg = pd.read_csv(PATH/MASKS).set_index('Id')\n",
    "# sample_sub = pd.read_csv(PATH/SUB).set_index('Id')\n",
    "\n",
    "sample= 31072\n",
    "\n",
    "seg2 = seg.iloc[0:sample]\n",
    "val_idxs = get_cv_idxs(sample)\n",
    "\n",
    "seg.head()"
   ]
  },
  {
   "cell_type": "code",
   "execution_count": 4,
   "metadata": {
    "_uuid": "4a9fd1df3c6948cc66f7acd8bd1981ff40487563"
   },
   "outputs": [
    {
     "data": {
      "text/plain": [
       "(31072,)"
      ]
     },
     "execution_count": 4,
     "metadata": {},
     "output_type": "execute_result"
    }
   ],
   "source": [
    "train_names_png = [TRAIN64/f for f in os.listdir(PATH/TRAIN64)]\n",
    "train_names = list(seg.index.values)\n",
    "train_names_sample = list(seg.index.values)[0:sample]\n",
    "# test_names_png = [TEST/f for f in os.listdir(PATH/TEST)]\n",
    "# test_names = list(sample_sub.index.values)\n",
    "# test_names_sample = list(sample_sub.index.values)[0:sample]\n",
    "len(train_names_sample), #len(test_names)"
   ]
  },
  {
   "cell_type": "code",
   "execution_count": 5,
   "metadata": {
    "_uuid": "30faaaa4a7623a7cc66ab7e703b1497277f7a194"
   },
   "outputs": [],
   "source": [
    "TMP.mkdir(exist_ok=True)\n",
    "MODEL.mkdir(exist_ok=True)"
   ]
  },
  {
   "cell_type": "code",
   "execution_count": 6,
   "metadata": {
    "_uuid": "30cf4c4eff0e3104892bf0348dcb2d71168ca078"
   },
   "outputs": [],
   "source": [
    "def rgba_open(fname, path=PATH, sz=128):\n",
    "    '''open RGBA image from 4 different 1-channel files.\n",
    "    return: numpy array [4, sz, sz]'''\n",
    "    flags = cv2.IMREAD_GRAYSCALE\n",
    "    red = cv2.imread(str(path/(fname+ '_red.png')), flags)\n",
    "    blue = cv2.imread(str(path/(fname+ '_blue.png')), flags)\n",
    "    green = cv2.imread(str(path/(fname+ '_green.png')), flags)\n",
    "    yellow = cv2.imread(str(path/(fname+ '_yellow.png')),flags)\n",
    "    im = np.array([red, green, blue, yellow], dtype=np.float32)\n",
    "    rgba = cv2.resize(np.rollaxis(im, 0,3), (sz, sz), interpolation = cv2.INTER_CUBIC)\n",
    "    return np.rollaxis(rgba, 2,0)/255\n",
    "\n",
    "def rgba_open2(fname, path=PATH, sz=128):\n",
    "    '''open RGBA image from 1 4-channel image.\n",
    "    return: numpy array [4, sz, sz]'''\n",
    "    flags = cv2.IMREAD_UNCHANGED\n",
    "    rgba = cv2.imread(str(path/(fname+ '.png')),flags)/255\n",
    "    return rgba #np.rollaxis(rgba, 2,0)"
   ]
  },
  {
   "cell_type": "code",
   "execution_count": 7,
   "metadata": {
    "_uuid": "36e81202b77ae5a08419dccdbb76baad751e870a"
   },
   "outputs": [
    {
     "data": {
      "text/plain": [
       "'000a6c98-bb9b-11e8-b2b9-ac1f6b6435d0'"
      ]
     },
     "execution_count": 7,
     "metadata": {},
     "output_type": "execute_result"
    }
   ],
   "source": [
    "train_names[1]"
   ]
  },
  {
   "cell_type": "code",
   "execution_count": 8,
   "metadata": {
    "_uuid": "f688afb3f3f150b69bf6bfb5ea04f84b573272ed"
   },
   "outputs": [
    {
     "name": "stdout",
     "output_type": "stream",
     "text": [
      "CPU times: user 672 µs, sys: 211 µs, total: 883 µs\n",
      "Wall time: 525 µs\n"
     ]
    }
   ],
   "source": [
    "%time im = rgba_open2(train_names[1], PATH/TRAIN64); im.shape"
   ]
  },
  {
   "cell_type": "code",
   "execution_count": 9,
   "metadata": {
    "_uuid": "b1fa9d0c61c898f96de89520691d0547a84cdb61"
   },
   "outputs": [],
   "source": [
    "class CustomDataset(FilesDataset):\n",
    "    def __init__(self, fnames, y, transform, path, sz):\n",
    "        self.y=y\n",
    "        self.fnames = fnames\n",
    "        self.sz = sz\n",
    "        assert(len(fnames)==len(y))\n",
    "        super().__init__(fnames, transform, path)\n",
    "        \n",
    "    def get_x(self, i): \n",
    "        return rgba_open2(self.fnames[i], self.path, self.sz)\n",
    "        \n",
    "    def get_y(self, i):\n",
    "        return self.y[i]\n",
    "    def get_sz(self): return self.sz\n",
    "    def get_c(self): return 28\n",
    "    @property\n",
    "    def is_multi(self):\n",
    "        return True"
   ]
  },
  {
   "cell_type": "code",
   "execution_count": 10,
   "metadata": {
    "_uuid": "5c254c0d62f95403ff325d391d0cd20a36088907"
   },
   "outputs": [],
   "source": [
    "indexes = seg2.Target.apply(str.split)\n",
    "y = np.zeros((sample, 28))\n",
    "for i in range(sample):\n",
    "    y[i,np.array(indexes[i], dtype=int)]=1"
   ]
  },
  {
   "cell_type": "code",
   "execution_count": 11,
   "metadata": {
    "_uuid": "4f4fc9a6beb90e931b07a785481c34c3d27de9f6"
   },
   "outputs": [
    {
     "data": {
      "text/plain": [
       "(31072, (31072, 28), dtype('float64'))"
      ]
     },
     "execution_count": 11,
     "metadata": {},
     "output_type": "execute_result"
    }
   ],
   "source": [
    "len(train_names_sample),  y.shape, y.dtype"
   ]
  },
  {
   "cell_type": "code",
   "execution_count": 12,
   "metadata": {
    "_uuid": "4bb91eb8375953649d680e6de6e2dfd2e35c812d"
   },
   "outputs": [],
   "source": [
    "((val_x,trn_x),(val_y,trn_y)) = split_by_idx(val_idxs, np.array(train_names_sample), y)"
   ]
  },
  {
   "cell_type": "code",
   "execution_count": 31,
   "metadata": {
    "_uuid": "94c96e20381707a9a0136077f1bb1848dcc89fee"
   },
   "outputs": [],
   "source": [
    "# tfms = tfms_from_model(resnet34, sz=sz, crop_type=CropType.NO, aug_tfms=[])\n",
    "def get_data(sz=64, bs=32, aug=False):\n",
    "    if aug:\n",
    "        aug_tfms = [RandomRotate(30, tfm_y=TfmType.NO),\n",
    "                    RandomDihedral(tfm_y=TfmType.NO),\n",
    "                    RandomLighting(0.05, 0.05, tfm_y=TfmType.NO)]\n",
    "    else: \n",
    "        aug_tfms = []\n",
    "    #mean and std in of each channel in the train set\n",
    "    stats = A([0.08069, 0.05258, 0.05487, 0.08282], [0.13704, 0.10145, 0.15313, 0.13814])\n",
    "    tfms = tfms_from_stats(stats, sz, crop_type=CropType.NO, tfm_y=TfmType.NO, \n",
    "                aug_tfms=aug_tfms)\n",
    "    if sz==64:\n",
    "        datasets = ImageData.get_ds(CustomDataset, (trn_x,trn_y), (val_x,val_y), sz=sz, tfms=tfms, path=PATH/TRAIN64)\n",
    "    if sz==128:\n",
    "        datasets = ImageData.get_ds(CustomDataset, (trn_x,trn_y), (val_x,val_y), sz=sz, tfms=tfms, path=PATH/TRAIN128)\n",
    "    if sz==256:\n",
    "        datasets = ImageData.get_ds(CustomDataset, (trn_x,trn_y), (val_x,val_y), sz=sz, tfms=tfms, path=PATH/TRAIN256)\n",
    "        datasets[4] = CustomDataset(test_names, test_names, tfms[0], PATH/TEST, sz)\n",
    "    return ImageData(PATH, datasets, bs=bs, num_workers=4, classes=28)"
   ]
  },
  {
   "cell_type": "code",
   "execution_count": 44,
   "metadata": {
    "_uuid": "67ba6315e3ccb314a25dcff0902ef698a575a832"
   },
   "outputs": [],
   "source": [
    "import math\n",
    "import torch\n",
    "import torch.nn as nn\n",
    "import torch.nn.functional as F\n",
    "from fastai.layers import *\n",
    "\n",
    "def conv_2d(ni, nf, ks, stride): return nn.Conv2d(ni, nf, kernel_size=ks, stride=stride, padding=ks//2, bias=False)\n",
    "\n",
    "def bn(ni, init_zero=False):\n",
    "    m = nn.BatchNorm2d(ni)\n",
    "    m.weight.data.fill_(0 if init_zero else 1)\n",
    "    m.bias.data.zero_()\n",
    "    return m\n",
    "\n",
    "def bn_relu_conv(ni, nf, ks, stride, init_zero=False):\n",
    "    bn_initzero = bn(ni, init_zero=init_zero)\n",
    "    return nn.Sequential(bn_initzero, nn.ReLU(inplace=True), conv_2d(ni, nf, ks, stride))\n",
    "\n",
    "def noop(x): return x\n",
    "\n",
    "class BasicBlock(nn.Module):\n",
    "    def __init__(self, ni, nf, stride, drop_p=0.0):\n",
    "        super().__init__()\n",
    "        self.bn = nn.BatchNorm2d(ni)\n",
    "        self.conv1 = conv_2d(ni, nf, 3, stride)\n",
    "        self.conv2 = bn_relu_conv(nf, nf, 3, 1)\n",
    "        self.drop = nn.Dropout(drop_p, inplace=True) if drop_p else None\n",
    "        self.shortcut = conv_2d(ni, nf, 1, stride) if ni != nf else noop\n",
    "\n",
    "    def forward(self, x):\n",
    "        x2 = F.relu(self.bn(x), inplace=True)\n",
    "        r = self.shortcut(x2)\n",
    "        x = self.conv1(x2)\n",
    "        if self.drop: x = self.drop(x)\n",
    "        x = self.conv2(x) * 0.2\n",
    "        return x.add_(r)\n",
    "\n",
    "\n",
    "def _make_group(N, ni, nf, block, stride, drop_p):\n",
    "    return [block(ni if i == 0 else nf, nf, stride if i == 0 else 1, drop_p) for i in range(N)]\n",
    "\n",
    "class WideResNet(nn.Module):\n",
    "    def __init__(self, num_groups, N, num_classes, k=1, drop_p=0.0, start_nf=16):\n",
    "        super().__init__()\n",
    "        n_channels = [start_nf]\n",
    "        for i in range(num_groups): n_channels.append(start_nf*(2**i)*k)\n",
    "\n",
    "        layers = [conv_2d(4, n_channels[0], 3, 1)]  # conv1\n",
    "        for i in range(num_groups):\n",
    "            layers += _make_group(N, n_channels[i], n_channels[i+1], BasicBlock, (1 if i==0 else 2), drop_p)\n",
    "\n",
    "        layers += [nn.BatchNorm2d(n_channels[3]), nn.ReLU(inplace=True), nn.AdaptiveAvgPool2d(1),\n",
    "                   Flatten(), nn.Linear(n_channels[3], num_classes)]\n",
    "#         layers += [nn.Sigmoid()]\n",
    "        self.features = nn.Sequential(*layers)\n",
    "\n",
    "    def forward(self, x): return self.features(x)\n",
    "\n",
    "\n",
    "def wrn_22(): return WideResNet(num_groups=3, N=3, num_classes=28, k=6, drop_p=0.1)"
   ]
  },
  {
   "cell_type": "code",
   "execution_count": 45,
   "metadata": {
    "_uuid": "c937e712cd9f5326beae44dcfcb4698d42d22c95"
   },
   "outputs": [],
   "source": [
    "# m = Darknet([1,2,4], 28)\n",
    "m = wrn_22()"
   ]
  },
  {
   "cell_type": "code",
   "execution_count": 46,
   "metadata": {
    "_uuid": "cf833a0b6c43365f545ea1c363ea7bcd4b1f1741"
   },
   "outputs": [],
   "source": [
    "from sklearn.metrics import fbeta_score\n",
    "import warnings\n",
    "\n",
    "def f1_(preds, targs, start=0.17, end=0.24, step=0.01):\n",
    "    with warnings.catch_warnings():\n",
    "        warnings.simplefilter(\"ignore\")\n",
    "        return max([fbeta_score(targs, (preds>th), 1, average='samples')\n",
    "                    for th in np.arange(start,end,step)])"
   ]
  },
  {
   "cell_type": "code",
   "execution_count": 48,
   "metadata": {},
   "outputs": [],
   "source": [
    "class FocalLoss(nn.Module):\n",
    "    def __init__(self, gamma=2):\n",
    "        super().__init__()\n",
    "        self.gamma = gamma\n",
    "        \n",
    "    def forward(self, input, target):\n",
    "        if not (target.size() == input.size()):\n",
    "            raise ValueError(\"Target size ({}) must be the same as input size ({})\"\n",
    "                             .format(target.size(), input.size()))\n",
    "\n",
    "        max_val = (-input).clamp(min=0)\n",
    "        loss = input - input * target + max_val + \\\n",
    "            ((-max_val).exp() + (-input - max_val).exp()).log()\n",
    "\n",
    "        invprobs = F.logsigmoid(-input * (target * 2.0 - 1.0))\n",
    "        loss = (invprobs * self.gamma).exp() * loss\n",
    "        \n",
    "        return loss.sum(dim=1).mean()\n",
    "    \n",
    "\n",
    "\n",
    "def acc(preds,targs,th=0.0):\n",
    "    preds = (preds > th).int()\n",
    "    targs = targs.int()\n",
    "    return (preds==targs).float().mean()"
   ]
  },
  {
   "cell_type": "code",
   "execution_count": 49,
   "metadata": {
    "_uuid": "d6dc8c435478e77570d5aa60ff2e3313acc22932"
   },
   "outputs": [],
   "source": [
    "md = get_data(sz=64, bs=128)"
   ]
  },
  {
   "cell_type": "code",
   "execution_count": 50,
   "metadata": {
    "_uuid": "9b0b404ac3941ef5a80f58426df3002b84b3098c"
   },
   "outputs": [],
   "source": [
    "learn = ConvLearner.from_model_data(m, md, tmp_name=TMP, models_name=MODEL)\n",
    "learn.crit = FocalLoss()#nn.BCEWithLogitsLoss()\n",
    "learn.opt_fn = optim.Adam\n",
    "learn.metrics = [f1_, acc]"
   ]
  },
  {
   "cell_type": "code",
   "execution_count": 51,
   "metadata": {
    "_uuid": "0ad18d87f30c3266284e331f2def28af39d7631f"
   },
   "outputs": [
    {
     "data": {
      "application/vnd.jupyter.widget-view+json": {
       "model_id": "dc3e9dfbde4846b49cfd6d8e9f77ab0c",
       "version_major": 2,
       "version_minor": 0
      },
      "text/plain": [
       "HBox(children=(IntProgress(value=0, description='Epoch', max=1), HTML(value='')))"
      ]
     },
     "metadata": {},
     "output_type": "display_data"
    },
    {
     "name": "stdout",
     "output_type": "stream",
     "text": [
      " 89%|████████▉ | 174/195 [01:41<00:12,  1.71it/s, loss=7.56]"
     ]
    },
    {
     "data": {
      "image/png": "[encoded data removed]",
      "text/plain": [
       "<Figure size 432x288 with 1 Axes>"
      ]
     },
     "metadata": {
      "needs_background": "light"
     },
     "output_type": "display_data"
    }
   ],
   "source": [
    "learn.lr_find()\n",
    "learn.sched.plot()"
   ]
  },
  {
   "cell_type": "code",
   "execution_count": 52,
   "metadata": {
    "_uuid": "16e3bf6f18fe788ddf487a1493ac1963c633a4ec"
   },
   "outputs": [],
   "source": [
    "# lr = 1e-2 #darknet\n",
    "lr = 1e-2\n",
    "\n",
    "wd=1e-5"
   ]
  },
  {
   "cell_type": "code",
   "execution_count": 53,
   "metadata": {
    "_uuid": "549667fe39a3d057ab919d24d1ebd05e4597b678"
   },
   "outputs": [
    {
     "data": {
      "application/vnd.jupyter.widget-view+json": {
       "model_id": "eb80e712251f426a86a8db43e6a98e37",
       "version_major": 2,
       "version_minor": 0
      },
      "text/plain": [
       "HBox(children=(IntProgress(value=0, description='Epoch', max=6), HTML(value='')))"
      ]
     },
     "metadata": {},
     "output_type": "display_data"
    },
    {
     "name": "stdout",
     "output_type": "stream",
     "text": [
      "epoch      trn_loss   val_loss   f1_        acc             \n",
      "    0      1.229063   1.463405   0.18218    0.931951  \n",
      "    1      1.186539   1.334655   0.250601   0.948854        \n",
      "    2      1.119723   1.204033   0.299968   0.946739        \n",
      "    3      1.056073   1.137824   0.323967   0.951486        \n",
      "    4      1.004204   1.113901   0.34352    0.951963         \n",
      "    5      0.959218   1.097033   0.398992   0.952636         \n",
      "CPU times: user 9min, sys: 4min 58s, total: 13min 59s\n",
      "Wall time: 12min 15s\n"
     ]
    },
    {
     "data": {
      "text/plain": [
       "[1.0970331773061173, 0.39899152451453707, 0.9526357974198841]"
      ]
     },
     "execution_count": 53,
     "metadata": {},
     "output_type": "execute_result"
    }
   ],
   "source": [
    "%time learn.fit(lr,1,cycle_len=6, use_clr_beta=(10, 10, 0.85, 0.9))"
   ]
  },
  {
   "cell_type": "code",
   "execution_count": 54,
   "metadata": {},
   "outputs": [
    {
     "data": {
      "image/png": "[encoded data removed]",
      "text/plain": [
       "<Figure size 432x288 with 1 Axes>"
      ]
     },
     "metadata": {
      "needs_background": "light"
     },
     "output_type": "display_data"
    }
   ],
   "source": [
    "learn.sched.plot_loss()"
   ]
  },
  {
   "cell_type": "code",
   "execution_count": 55,
   "metadata": {
    "_uuid": "cd37111e79b85b2332ea843c29cceb59c383b6f2"
   },
   "outputs": [],
   "source": [
    "learn.save('wrn_64')"
   ]
  },
  {
   "cell_type": "code",
   "execution_count": 56,
   "metadata": {},
   "outputs": [],
   "source": [
    "learn.load('wrn_64')"
   ]
  },
  {
   "cell_type": "code",
   "execution_count": 57,
   "metadata": {
    "_uuid": "e2596e729cf8efe266515486f49758a7745ce5ee"
   },
   "outputs": [],
   "source": [
    "learn.set_data(get_data(128, 32))"
   ]
  },
  {
   "cell_type": "code",
   "execution_count": null,
   "metadata": {
    "_uuid": "f1b8d2fcf98c925766cd49e339f4403acf5e7f05"
   },
   "outputs": [
    {
     "data": {
      "application/vnd.jupyter.widget-view+json": {
       "model_id": "83d5aab70350430883618581421fc73c",
       "version_major": 2,
       "version_minor": 0
      },
      "text/plain": [
       "HBox(children=(IntProgress(value=0, description='Epoch', max=8), HTML(value='')))"
      ]
     },
     "metadata": {},
     "output_type": "display_data"
    },
    {
     "name": "stdout",
     "output_type": "stream",
     "text": [
      "epoch      trn_loss   val_loss   f1_        acc              \n",
      "    0      0.961124   1.139271   0.390393   0.951756  \n",
      "    1      0.898399   1.273104   0.420079   0.946607         \n",
      "    2      0.886908   1.176329   0.494099   0.952113         \n",
      " 51%|█████     | 393/777 [03:35<03:30,  1.83it/s, loss=0.86] "
     ]
    }
   ],
   "source": [
    "learn.fit(lr/4,4,cycle_len=2,use_clr=(10,20))"
   ]
  },
  {
   "cell_type": "code",
   "execution_count": null,
   "metadata": {},
   "outputs": [],
   "source": [
    "learn.sched.plot_lr()"
   ]
  },
  {
   "cell_type": "code",
   "execution_count": 44,
   "metadata": {},
   "outputs": [],
   "source": [
    "learn.save('wrn_128')"
   ]
  },
  {
   "cell_type": "code",
   "execution_count": 36,
   "metadata": {},
   "outputs": [
    {
     "data": {
      "text/plain": [
       "'/notebooks'"
      ]
     },
     "execution_count": 36,
     "metadata": {},
     "output_type": "execute_result"
    }
   ],
   "source": [
    "pwd"
   ]
  },
  {
   "cell_type": "code",
   "execution_count": null,
   "metadata": {
    "_uuid": "07642cfefa9de7ff75c6c1fa0c3114d114dfb7cd"
   },
   "outputs": [],
   "source": [
    "preds = learn.predict(is_test=True)"
   ]
  },
  {
   "cell_type": "code",
   "execution_count": null,
   "metadata": {
    "_uuid": "d14f7637c015996f27b0da58efc502b772e43e2f"
   },
   "outputs": [],
   "source": [
    "threshold = 0.17\n",
    "print(preds.shape)\n",
    "classes = np.array([str(n) for n in range(28)])\n",
    "res = np.array([\" \".join(classes[(np.where(pp>threshold))])for pp in preds])"
   ]
  },
  {
   "cell_type": "code",
   "execution_count": null,
   "metadata": {
    "_uuid": "4c717a5305006a95b73829b9b67f3851af2fa6af"
   },
   "outputs": [],
   "source": [
    "filenames = np.array([os.path.basename(fn).split('.')[0] for fn in test_names])"
   ]
  },
  {
   "cell_type": "code",
   "execution_count": null,
   "metadata": {
    "_uuid": "01bedf77ceb3fd749ea7715e9a53eb6d74f5cf83"
   },
   "outputs": [],
   "source": [
    "res.shape, filenames.shape"
   ]
  },
  {
   "cell_type": "code",
   "execution_count": null,
   "metadata": {
    "_uuid": "30c553b5d14355abf7a67ca6964266e46c906179"
   },
   "outputs": [],
   "source": [
    "frame = pd.DataFrame(np.array([filenames, res]).T, columns = ['Id','Predicted'])"
   ]
  },
  {
   "cell_type": "code",
   "execution_count": null,
   "metadata": {
    "_uuid": "e93ecf56b1b17e5708072e3410c4c0c86aee4b2c"
   },
   "outputs": [],
   "source": [
    "frame.head()"
   ]
  },
  {
   "cell_type": "code",
   "execution_count": null,
   "metadata": {
    "_uuid": "24785f511a021607bda3b2dea7516fa48323adb8"
   },
   "outputs": [],
   "source": [
    "frame.to_csv('submission.csv', index=False)"
   ]
  }
 ],
 "metadata": {
  "kernelspec": {
   "display_name": "Python 3",
   "language": "python",
   "name": "python3"
  },
  "language_info": {
   "codemirror_mode": {
    "name": "ipython",
    "version": 3
   },
   "file_extension": ".py",
   "mimetype": "text/x-python",
   "name": "python",
   "nbconvert_exporter": "python",
   "pygments_lexer": "ipython3",
   "version": "3.7.0"
  }
 },
 "nbformat": 4,
 "nbformat_minor": 1
}
