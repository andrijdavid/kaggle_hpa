{
 "cells": [
  {
   "cell_type": "code",
   "execution_count": 1,
   "metadata": {},
   "outputs": [],
   "source": [
    "import numpy as np\n",
    "import pandas as pd\n",
    "from pathlib import Path\n",
    "import cv2\n",
    "from concurrent.futures import ThreadPoolExecutor"
   ]
  },
  {
   "cell_type": "code",
   "execution_count": 45,
   "metadata": {},
   "outputs": [],
   "source": [
    "INPATH = Path('train/')\n",
    "OUTPATH = Path('../aug/train/')\n",
    "seg = pd.read_csv('train.csv')\n",
    "seg2 = pd.read_csv('../aug/augment.csv', header=None)\n",
    "test = pd.read_csv('sample_submission.csv')"
   ]
  },
  {
   "cell_type": "code",
   "execution_count": 47,
   "metadata": {},
   "outputs": [
    {
     "data": {
      "text/plain": [
       "68094"
      ]
     },
     "execution_count": 47,
     "metadata": {},
     "output_type": "execute_result"
    }
   ],
   "source": [
    "len([f for f in OUTPATH.iterdir()])"
   ]
  },
  {
   "cell_type": "code",
   "execution_count": null,
   "metadata": {},
   "outputs": [],
   "source": []
  },
  {
   "cell_type": "code",
   "execution_count": 32,
   "metadata": {},
   "outputs": [],
   "source": [
    "seg2.columns = seg.columns"
   ]
  },
  {
   "cell_type": "code",
   "execution_count": 33,
   "metadata": {},
   "outputs": [
    {
     "data": {
      "text/html": [
       "<div>\n",
       "<style scoped>\n",
       "    .dataframe tbody tr th:only-of-type {\n",
       "        vertical-align: middle;\n",
       "    }\n",
       "\n",
       "    .dataframe tbody tr th {\n",
       "        vertical-align: top;\n",
       "    }\n",
       "\n",
       "    .dataframe thead th {\n",
       "        text-align: right;\n",
       "    }\n",
       "</style>\n",
       "<table border=\"1\" class=\"dataframe\">\n",
       "  <thead>\n",
       "    <tr style=\"text-align: right;\">\n",
       "      <th></th>\n",
       "      <th>Id</th>\n",
       "      <th>Target</th>\n",
       "    </tr>\n",
       "  </thead>\n",
       "  <tbody>\n",
       "    <tr>\n",
       "      <th>0</th>\n",
       "      <td>d75fa7ac-93ea-434d-aa09-f56af3f3238d</td>\n",
       "      <td>25</td>\n",
       "    </tr>\n",
       "    <tr>\n",
       "      <th>1</th>\n",
       "      <td>3601c9cc-4d47-4b25-ad33-bb85ad5c8dd7</td>\n",
       "      <td>25</td>\n",
       "    </tr>\n",
       "    <tr>\n",
       "      <th>2</th>\n",
       "      <td>278cb8fa-b84e-4022-81c0-c8371ffa33f4</td>\n",
       "      <td>6</td>\n",
       "    </tr>\n",
       "    <tr>\n",
       "      <th>3</th>\n",
       "      <td>e08b8709-829c-44bc-828f-dfdbff3a9264</td>\n",
       "      <td>6</td>\n",
       "    </tr>\n",
       "    <tr>\n",
       "      <th>4</th>\n",
       "      <td>9149e078-8305-45f7-ba21-41d0d753de5e</td>\n",
       "      <td>7 21 25</td>\n",
       "    </tr>\n",
       "  </tbody>\n",
       "</table>\n",
       "</div>"
      ],
      "text/plain": [
       "                                     Id   Target\n",
       "0  d75fa7ac-93ea-434d-aa09-f56af3f3238d       25\n",
       "1  3601c9cc-4d47-4b25-ad33-bb85ad5c8dd7       25\n",
       "2  278cb8fa-b84e-4022-81c0-c8371ffa33f4        6\n",
       "3  e08b8709-829c-44bc-828f-dfdbff3a9264        6\n",
       "4  9149e078-8305-45f7-ba21-41d0d753de5e  7 21 25"
      ]
     },
     "execution_count": 33,
     "metadata": {},
     "output_type": "execute_result"
    }
   ],
   "source": [
    "seg2.head()"
   ]
  },
  {
   "cell_type": "code",
   "execution_count": 27,
   "metadata": {},
   "outputs": [
    {
     "data": {
      "text/plain": [
       "(31072, 68093)"
      ]
     },
     "execution_count": 27,
     "metadata": {},
     "output_type": "execute_result"
    }
   ],
   "source": [
    "len(seg),len(seg2)"
   ]
  },
  {
   "cell_type": "code",
   "execution_count": 40,
   "metadata": {},
   "outputs": [],
   "source": [
    "train_names = seg.Id.values\n",
    "test_names = test.Id.values"
   ]
  },
  {
   "cell_type": "code",
   "execution_count": 48,
   "metadata": {},
   "outputs": [],
   "source": [
    "def combine_rgb(fname, path=INPATH, out_path=OUTPATH, sz=256):\n",
    "    '''open RGBA image from 4 different 1-channel files.\n",
    "    return: numpy image with 3 channels'''\n",
    "    flags = cv2.IMREAD_GRAYSCALE\n",
    "    red = cv2.imread(str(path/(fname+ '_red.png')), flags)\n",
    "    blue = cv2.imread(str(path/(fname+ '_blue.png')), flags)\n",
    "    green = cv2.imread(str(path/(fname+ '_green.png')), flags)\n",
    "    \n",
    "    im = np.stack([red, green, blue], axis=-1)\n",
    "#     im = cv2.resize(im, (sz, sz), interpolation = cv2.INTER_CUBIC)\n",
    "    cv2.imwrite(str(out_path/(fname+'.png')), im)\n",
    "    return rgba"
   ]
  },
  {
   "cell_type": "code",
   "execution_count": 49,
   "metadata": {},
   "outputs": [],
   "source": [
    "with ThreadPoolExecutor(8) as e: e.map(combine_rgb, train_names)"
   ]
  },
  {
   "cell_type": "code",
   "execution_count": 42,
   "metadata": {},
   "outputs": [],
   "source": [
    "with ThreadPoolExecutor(8) as e: e.map(combine_rgb, test_names)"
   ]
  },
  {
   "cell_type": "code",
   "execution_count": null,
   "metadata": {},
   "outputs": [],
   "source": []
  }
 ],
 "metadata": {
  "kernelspec": {
   "display_name": "Python 3",
   "language": "python",
   "name": "python3"
  },
  "language_info": {
   "codemirror_mode": {
    "name": "ipython",
    "version": 3
   },
   "file_extension": ".py",
   "mimetype": "text/x-python",
   "name": "python",
   "nbconvert_exporter": "python",
   "pygments_lexer": "ipython3",
   "version": "3.7.0"
  }
 },
 "nbformat": 4,
 "nbformat_minor": 2
}
