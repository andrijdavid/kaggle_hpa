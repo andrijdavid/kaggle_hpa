{
 "cells": [
  {
   "cell_type": "code",
   "execution_count": 19,
   "metadata": {},
   "outputs": [],
   "source": [
    "%reload_ext autoreload\n",
    "%autoreload 2\n",
    "\n",
    "from fastai import *\n",
    "from fastai.vision import *\n",
    "from pathlib import Path\n",
    "import PIL\n",
    "import cv2\n",
    "\n",
    "from utils import FocalLoss, f1\n",
    "from dark import *\n",
    "\n",
    "torch.backends.cudnn.benchmark = True"
   ]
  },
  {
   "cell_type": "code",
   "execution_count": 20,
   "metadata": {},
   "outputs": [],
   "source": [
    "MASKS = 'train.csv'\n",
    "\n",
    "PATH = Path('./')\n",
    "\n",
    "TRAIN = Path('train/')\n",
    "TRAIN64 = Path('train64/')\n",
    "\n",
    "TEST = Path('test/')\n",
    "\n",
    "SAMPLE = Path('sample_submission.csv')\n",
    "\n",
    "seg = pd.read_csv(PATH/MASKS)\n",
    "sample_sub = pd.read_csv(PATH/SAMPLE)\n",
    "train_names = list(seg.Id.values)\n",
    "test_names = list(sample_sub.Id.values)"
   ]
  },
  {
   "cell_type": "code",
   "execution_count": 21,
   "metadata": {},
   "outputs": [],
   "source": [
    "def open_image4d(path:PathOrStr)->Image:\n",
    "    '''open RGBA image from 4 different 1-channel files.\n",
    "    return: numpy array [4, sz, sz]'''\n",
    "    path=str(path)\n",
    "    flags = cv2.IMREAD_GRAYSCALE\n",
    "    red = cv2.imread(path+ '_red.png', flags)\n",
    "    blue = cv2.imread(path+ '_blue.png', flags)\n",
    "    green = cv2.imread(path+ '_green.png', flags)\n",
    "    yellow = cv2.imread(path+ '_yellow.png', flags)\n",
    "    im = np.stack(([red, green, blue, yellow]))\n",
    "\n",
    "    return Image(Tensor(im/255).float())\n",
    "\n",
    "# def open_image4d(path:PathOrStr)->Image:\n",
    "#     '''open RGBA image from a single 4-channel file\n",
    "#     return: numpy array [4, sz, sz]'''\n",
    "#     path=str(path)\n",
    "#     flags = cv2.IMREAD_UNCHANGED\n",
    "#     im = cv2.imread(path+ '.png', flags)\n",
    "#     return Image(Tensor(np.rollaxis(im, 2, 0)/255).float())\n"
   ]
  },
  {
   "cell_type": "code",
   "execution_count": 22,
   "metadata": {},
   "outputs": [],
   "source": [
    "fname = train_names[0]"
   ]
  },
  {
   "cell_type": "code",
   "execution_count": 23,
   "metadata": {},
   "outputs": [
    {
     "name": "stdout",
     "output_type": "stream",
     "text": [
      "CPU times: user 12 ms, sys: 4 ms, total: 16 ms\n",
      "Wall time: 16.9 ms\n"
     ]
    }
   ],
   "source": [
    "%time im = open_image4d(TRAIN/fname); "
   ]
  },
  {
   "cell_type": "code",
   "execution_count": 24,
   "metadata": {},
   "outputs": [
    {
     "data": {
      "text/plain": [
       "torch.Size([4, 512, 512])"
      ]
     },
     "execution_count": 24,
     "metadata": {},
     "output_type": "execute_result"
    }
   ],
   "source": [
    "im.shape"
   ]
  },
  {
   "cell_type": "code",
   "execution_count": 25,
   "metadata": {},
   "outputs": [],
   "source": [
    "class Image4C_ds(ImageMultiDataset):\n",
    "    def __init__(self, fns:FilePathList, labels:ImgLabels, classes:Optional[Collection[Any]]=None):\n",
    "        super().__init__(fns, labels, classes)\n",
    "    def __getitem__(self,i:int)->Tuple[Image, np.ndarray]: return open_image4d(self.x[i]), self.encode(self.y[i])\n",
    "    def _get_x(self,i): return open_image4d(self.x[i])"
   ]
  },
  {
   "cell_type": "code",
   "execution_count": 26,
   "metadata": {},
   "outputs": [],
   "source": [
    "from fastai.data_block import _df_to_fns_labels\n",
    "fnames, labels = _df_to_fns_labels(seg, label_delim=' ', fn_col=0, label_col=1)\n",
    "test_fnames, _ = _df_to_fns_labels(sample_sub, fn_col=0, label_col=1)"
   ]
  },
  {
   "cell_type": "code",
   "execution_count": 27,
   "metadata": {},
   "outputs": [],
   "source": [
    "classes = uniqueify(np.concatenate(labels))"
   ]
  },
  {
   "cell_type": "code",
   "execution_count": 28,
   "metadata": {},
   "outputs": [],
   "source": [
    "stats = ([0.485, 0.456, 0.406, 0.406], [0.229, 0.224, 0.225, 0.225])\n",
    "norm,denorm = normalize_funcs(*stats)"
   ]
  },
  {
   "cell_type": "code",
   "execution_count": 29,
   "metadata": {},
   "outputs": [],
   "source": [
    "tfms = get_transforms(do_flip=True, flip_vert=True, max_lighting=0.1, max_zoom=1.05, max_warp=0.2)"
   ]
  },
  {
   "cell_type": "code",
   "execution_count": 30,
   "metadata": {},
   "outputs": [],
   "source": [
    "def get_data(sz=64, bs=64, is_test=False):\n",
    "    folder=TRAIN\n",
    "    test_ds=None\n",
    "    if is_test: \n",
    "        t_names = [TEST/f for f in test_names]\n",
    "        test_labels = [[classes[0]]] * len(test_names)\n",
    "        test_ds = Image4C_ds(t_names, test_labels, classes)\n",
    "    train, val = Image4C_ds.from_folder(PATH, folder, fnames, labels, valid_pct=0.2, classes=classes)\n",
    "    return ImageDataBunch.create(train_ds=train, valid_ds=val, test_ds=test_ds,\n",
    "                                 ds_tfms=tfms, tfms=norm, bs=bs, size=sz)\n"
   ]
  },
  {
   "cell_type": "code",
   "execution_count": 31,
   "metadata": {},
   "outputs": [],
   "source": [
    "# train, val = Image4C_ds.from_folder(PATH, TRAIN, fnames, labels, valid_pct=0.2, classes=classes)"
   ]
  },
  {
   "cell_type": "code",
   "execution_count": 32,
   "metadata": {},
   "outputs": [
    {
     "name": "stdout",
     "output_type": "stream",
     "text": [
      "[12885  1254  3621  1561  1858  2513  1008  2822    53    45    28  1093   688   537  1066    21   530   210   902\n",
      "  1482   172  3777   802  2965   322  8228   328    11]\n"
     ]
    }
   ],
   "source": [
    "class_sample_count = array([12885,  1254,  3621,  1561,  1858,  2513,  1008,  2822,    53,\n",
    "          45,    28,  1093,   688,   537,  1066,    21,   530,   210,\n",
    "         902,  1482,   172,  3777,   802,  2965,   322,  8228,   328,\n",
    "          11])\n",
    "print(class_sample_count)"
   ]
  },
  {
   "cell_type": "code",
   "execution_count": 33,
   "metadata": {},
   "outputs": [],
   "source": [
    "# from torch.utils.data.sampler import WeightedRandomSampler\n",
    "# wrs = WeightedRandomSampler(weight, len(weight))"
   ]
  },
  {
   "cell_type": "code",
   "execution_count": 34,
   "metadata": {},
   "outputs": [],
   "source": [
    "arch = dark_small()"
   ]
  },
  {
   "cell_type": "code",
   "execution_count": 35,
   "metadata": {},
   "outputs": [],
   "source": [
    "def get_learner(data, focal=False, fp16=False, load=False):\n",
    "    learn = Learner(data, arch , metrics=[accuracy_thresh, f1])\n",
    "    if focal: learn.loss_func=FocalLoss()\n",
    "    if fp16: learn.to_fp16();\n",
    "    if load: learn.load('dk_small_128')\n",
    "    return learn.mixup(stack_y=False)"
   ]
  },
  {
   "cell_type": "markdown",
   "metadata": {},
   "source": [
    "# 128"
   ]
  },
  {
   "cell_type": "code",
   "execution_count": 29,
   "metadata": {},
   "outputs": [],
   "source": [
    "data = get_data(128, 64, True)\n",
    "learn = get_learner(data, focal=True, fp16=True, load=True)"
   ]
  },
  {
   "cell_type": "code",
   "execution_count": 30,
   "metadata": {},
   "outputs": [],
   "source": [
    "lr = 1e-3"
   ]
  },
  {
   "cell_type": "code",
   "execution_count": 31,
   "metadata": {},
   "outputs": [
    {
     "name": "stdout",
     "output_type": "stream",
     "text": [
      "Total time: 26:12\n",
      "epoch  train_loss  valid_loss  accuracy_thresh  f1      \n",
      "1      0.782900    0.779457    0.962631         0.559220  (02:39)\n",
      "2      0.781806    0.786682    0.962265         0.551928  (02:36)\n",
      "3      0.785489    0.780561    0.962132         0.554400  (02:36)\n",
      "4      0.772191    0.821040    0.960872         0.543858  (02:37)\n",
      "5      0.770650    0.810780    0.960907         0.543184  (02:36)\n",
      "6      0.773621    0.787830    0.962091         0.563164  (02:36)\n",
      "7      0.762334    0.782296    0.962736         0.564191  (02:35)\n",
      "8      0.752613    0.769049    0.962956         0.576203  (02:37)\n",
      "9      0.743054    0.755566    0.963583         0.577648  (02:37)\n",
      "10     0.738194    0.753090    0.963548         0.583601  (02:38)\n",
      "\n",
      "CPU times: user 14min 33s, sys: 9min 23s, total: 23min 56s\n",
      "Wall time: 26min 12s\n"
     ]
    }
   ],
   "source": [
    "%time learn.fit_one_cycle(10, lr/10, wd=0.2, div_factor=10, pct_start=0.5)"
   ]
  },
  {
   "cell_type": "code",
   "execution_count": 32,
   "metadata": {},
   "outputs": [],
   "source": [
    "# learn.save('dk_small_128')"
   ]
  },
  {
   "cell_type": "markdown",
   "metadata": {},
   "source": [
    "# 256"
   ]
  },
  {
   "cell_type": "code",
   "execution_count": 38,
   "metadata": {},
   "outputs": [],
   "source": [
    "data = get_data(256, 32, True)\n",
    "learn = get_learner(data, focal=True, fp16=True, load=True)\n",
    "lr = 1e-3"
   ]
  },
  {
   "cell_type": "code",
   "execution_count": 39,
   "metadata": {},
   "outputs": [
    {
     "name": "stdout",
     "output_type": "stream",
     "text": [
      "Total time: 3:04:45\n",
      "epoch  train_loss  valid_loss  accuracy_thresh  f1      \n",
      "1      0.771201    0.740258    0.964988         0.576388  (06:17)\n",
      "2      0.738599    0.718715    0.965941         0.610401  (06:07)\n",
      "3      0.743672    0.714801    0.966061         0.619789  (06:10)\n",
      "4      0.720661    0.709069    0.966352         0.616876  (06:08)\n",
      "5      0.751419    0.708755    0.966552         0.611740  (06:09)\n",
      "6      0.728126    0.710326    0.966523         0.612481  (06:09)\n",
      "7      0.727537    0.703583    0.966860         0.634245  (06:09)\n",
      "8      0.729292    0.708085    0.966700         0.629488  (06:09)\n",
      "9      0.728417    0.703185    0.966324         0.622278  (06:09)\n",
      "10     0.718099    0.721909    0.965519         0.611132  (06:10)\n",
      "11     0.704615    0.761682    0.964731         0.626543  (06:09)\n",
      "12     0.708886    0.720824    0.966420         0.641063  (06:10)\n",
      "13     0.714534    0.717520    0.965953         0.610833  (06:09)\n",
      "14     0.716870    0.746732    0.965005         0.621779  (06:10)\n",
      "15     0.707649    0.731002    0.965530         0.607395  (06:09)\n",
      "16     0.698756    0.697473    0.967642         0.641189  (06:08)\n",
      "17     0.691048    0.706763    0.966940         0.641083  (06:09)\n",
      "18     0.696680    0.675925    0.968047         0.656077  (06:09)\n",
      "19     0.699276    0.701246    0.967191         0.642902  (06:09)\n",
      "20     0.675571    0.693043    0.968224         0.663219  (06:08)\n",
      "21     0.694421    0.672535    0.968664         0.666352  (06:08)\n",
      "22     0.655242    0.664988    0.968721         0.649558  (06:08)\n",
      "23     0.654493    0.656025    0.969383         0.671981  (06:08)\n",
      "24     0.648681    0.641041    0.969845         0.676572  (06:09)\n",
      "25     0.636334    0.623159    0.970976         0.691961  (06:08)\n",
      "26     0.627802    0.614344    0.971090         0.689773  (06:09)\n",
      "27     0.627474    0.609116    0.971307         0.697241  (06:08)\n",
      "28     0.618448    0.610876    0.971409         0.696825  (06:07)\n",
      "29     0.613910    0.607448    0.971306         0.699077  (06:08)\n",
      "30     0.631314    0.606519    0.971506         0.700220  (06:09)\n",
      "\n"
     ]
    }
   ],
   "source": [
    "learn.fit_one_cycle(30, lr/10, wd=0.2, div_factor=10, pct_start=0.5)"
   ]
  },
  {
   "cell_type": "code",
   "execution_count": 40,
   "metadata": {},
   "outputs": [],
   "source": [
    "learn.save('dk_small_256')"
   ]
  },
  {
   "cell_type": "markdown",
   "metadata": {},
   "source": [
    "# Validation and Preds"
   ]
  },
  {
   "cell_type": "code",
   "execution_count": 41,
   "metadata": {},
   "outputs": [],
   "source": [
    "# learn.data.test_dl.add_tfm(to_half)\n",
    "# learn.data.valid_dl.add_tfm(to_half)"
   ]
  },
  {
   "cell_type": "code",
   "execution_count": 42,
   "metadata": {},
   "outputs": [],
   "source": [
    "p,t = learn.get_preds(ds_type=DatasetType.Test)"
   ]
  },
  {
   "cell_type": "code",
   "execution_count": 43,
   "metadata": {},
   "outputs": [
    {
     "data": {
      "text/plain": [
       "torch.Size([11702, 28])"
      ]
     },
     "execution_count": 43,
     "metadata": {},
     "output_type": "execute_result"
    }
   ],
   "source": [
    "p.shape"
   ]
  },
  {
   "cell_type": "code",
   "execution_count": 44,
   "metadata": {},
   "outputs": [],
   "source": [
    "#valid data\n",
    "learn.data.valid_dl.add_tfm(to_half)\n",
    "p_v, t_v = learn.get_preds()"
   ]
  },
  {
   "cell_type": "code",
   "execution_count": 45,
   "metadata": {},
   "outputs": [
    {
     "data": {
      "text/plain": [
       "torch.Size([6257, 28])"
      ]
     },
     "execution_count": 45,
     "metadata": {},
     "output_type": "execute_result"
    }
   ],
   "source": [
    "p_v.shape"
   ]
  },
  {
   "cell_type": "code",
   "execution_count": 46,
   "metadata": {},
   "outputs": [],
   "source": [
    "def f1_np(y_pred, y_true, threshold=0.5):\n",
    "    y_pred = (y_pred>threshold).astype(int)\n",
    "    TP = (y_pred*y_true).sum(1)\n",
    "    prec = TP/(y_pred.sum(1)+1e-7)\n",
    "    rec = TP/(y_true.sum(1)+1e-7)\n",
    "    res = 2*prec*rec/(prec+rec+1e-7)\n",
    "    return res.mean()"
   ]
  },
  {
   "cell_type": "code",
   "execution_count": 47,
   "metadata": {},
   "outputs": [],
   "source": [
    "p_v_s = p_v.sigmoid()"
   ]
  },
  {
   "cell_type": "code",
   "execution_count": 48,
   "metadata": {},
   "outputs": [
    {
     "data": {
      "text/plain": [
       "tensor(0.7002)"
      ]
     },
     "execution_count": 48,
     "metadata": {},
     "output_type": "execute_result"
    }
   ],
   "source": [
    "f1(p_v, t_v)"
   ]
  },
  {
   "cell_type": "code",
   "execution_count": 49,
   "metadata": {},
   "outputs": [],
   "source": [
    "p_v_np, t_v_np = to_np(p_v_s), to_np(t_v)"
   ]
  },
  {
   "cell_type": "code",
   "execution_count": 50,
   "metadata": {},
   "outputs": [
    {
     "data": {
      "text/plain": [
       "0.7002198587896546"
      ]
     },
     "execution_count": 50,
     "metadata": {},
     "output_type": "execute_result"
    }
   ],
   "source": [
    "f1_np(p_v_np, t_v_np)"
   ]
  },
  {
   "cell_type": "code",
   "execution_count": 51,
   "metadata": {},
   "outputs": [],
   "source": [
    "def f1_n(y_pred, y_true, thresh, n, default=0.5):\n",
    "    threshold = default * np.ones(y_pred.shape[1])\n",
    "    threshold[n]=thresh\n",
    "    return f1_np(y_pred, y_true, threshold)"
   ]
  },
  {
   "cell_type": "code",
   "execution_count": 52,
   "metadata": {},
   "outputs": [],
   "source": [
    "def find_thresh(y_pred, y_true):\n",
    "    ths = []\n",
    "    for i in range(y_pred.shape[1]):\n",
    "        aux = []\n",
    "        for th in np.linspace(0,1,100):\n",
    "            aux += [f1_n(y_pred, y_true, th, i)]\n",
    "        ths += [np.array(aux).argmax()/100]\n",
    "    return np.array(ths)"
   ]
  },
  {
   "cell_type": "code",
   "execution_count": 53,
   "metadata": {},
   "outputs": [],
   "source": [
    "x = np.linspace(0,1,100)"
   ]
  },
  {
   "cell_type": "code",
   "execution_count": 54,
   "metadata": {},
   "outputs": [],
   "source": [
    "y = np.array([f1_n(p_v_np, t_v_np, th, 1) for th in x])"
   ]
  },
  {
   "cell_type": "code",
   "execution_count": 55,
   "metadata": {},
   "outputs": [],
   "source": [
    "import matplotlib.pyplot as plt"
   ]
  },
  {
   "cell_type": "code",
   "execution_count": 56,
   "metadata": {},
   "outputs": [
    {
     "data": {
      "text/plain": [
       "[<matplotlib.lines.Line2D at 0x7f68fff870b8>]"
      ]
     },
     "execution_count": 56,
     "metadata": {},
     "output_type": "execute_result"
    },
    {
     "data": {
      "image/png": "[encoded data removed]",
      "text/plain": [
       "<Figure size 432x288 with 1 Axes>"
      ]
     },
     "metadata": {
      "needs_background": "light"
     },
     "output_type": "display_data"
    }
   ],
   "source": [
    "plt.plot(y)"
   ]
  },
  {
   "cell_type": "code",
   "execution_count": 57,
   "metadata": {},
   "outputs": [],
   "source": [
    "ths = find_thresh(p_v_np, t_v_np)"
   ]
  },
  {
   "cell_type": "code",
   "execution_count": 58,
   "metadata": {},
   "outputs": [
    {
     "data": {
      "text/plain": [
       "array([0.48, 0.43, 0.34, 0.39, 0.36, 0.41, 0.38, 0.42, 0.36, 0.36, 0.39, 0.39, 0.29, 0.37, 0.32, 0.44, 0.45, 0.44,\n",
       "       0.35, 0.38, 0.42, 0.36, 0.33, 0.46, 0.58, 0.38, 0.23, 0.35])"
      ]
     },
     "execution_count": 58,
     "metadata": {},
     "output_type": "execute_result"
    }
   ],
   "source": [
    "ths"
   ]
  },
  {
   "cell_type": "code",
   "execution_count": 59,
   "metadata": {},
   "outputs": [
    {
     "data": {
      "text/plain": [
       "0.7358056522831731"
      ]
     },
     "execution_count": 59,
     "metadata": {},
     "output_type": "execute_result"
    }
   ],
   "source": [
    "f1_np(p_v_np, t_v_np, 0.4)"
   ]
  },
  {
   "cell_type": "markdown",
   "metadata": {},
   "source": [
    "# Sub File"
   ]
  },
  {
   "cell_type": "code",
   "execution_count": 60,
   "metadata": {},
   "outputs": [
    {
     "name": "stdout",
     "output_type": "stream",
     "text": [
      "(11702, 28)\n"
     ]
    }
   ],
   "source": [
    "preds = to_np(p.sigmoid())\n",
    "threshold = ths\n",
    "print(preds.shape)\n",
    "classes = np.array(classes)\n",
    "res = np.array([\" \".join(classes[(np.where(pp>threshold))])for pp in preds])"
   ]
  },
  {
   "cell_type": "code",
   "execution_count": 61,
   "metadata": {},
   "outputs": [
    {
     "data": {
      "text/plain": [
       "array(['16', '0', '7', '1', '2', '5', '18', '25', '23', '21', '24', '6', '11', '3', '12', '13', '14', '4', '20', '22',\n",
       "       '17', '19', '8', '9', '10', '26', '27', '15'], dtype='<U2')"
      ]
     },
     "execution_count": 61,
     "metadata": {},
     "output_type": "execute_result"
    }
   ],
   "source": [
    "classes"
   ]
  },
  {
   "cell_type": "code",
   "execution_count": 62,
   "metadata": {},
   "outputs": [],
   "source": [
    "frame = pd.DataFrame(np.array([test_names, res]).T, columns = ['Id','Predicted'])\n",
    "frame.to_csv('my_submission.csv', index=False)"
   ]
  },
  {
   "cell_type": "code",
   "execution_count": 63,
   "metadata": {},
   "outputs": [
    {
     "data": {
      "text/html": [
       "<div>\n",
       "<style scoped>\n",
       "    .dataframe tbody tr th:only-of-type {\n",
       "        vertical-align: middle;\n",
       "    }\n",
       "\n",
       "    .dataframe tbody tr th {\n",
       "        vertical-align: top;\n",
       "    }\n",
       "\n",
       "    .dataframe thead th {\n",
       "        text-align: right;\n",
       "    }\n",
       "</style>\n",
       "<table border=\"1\" class=\"dataframe\">\n",
       "  <thead>\n",
       "    <tr style=\"text-align: right;\">\n",
       "      <th></th>\n",
       "      <th>Id</th>\n",
       "      <th>Predicted</th>\n",
       "    </tr>\n",
       "  </thead>\n",
       "  <tbody>\n",
       "    <tr>\n",
       "      <th>0</th>\n",
       "      <td>00008af0-bad0-11e8-b2b8-ac1f6b6435d0</td>\n",
       "      <td>2</td>\n",
       "    </tr>\n",
       "    <tr>\n",
       "      <th>1</th>\n",
       "      <td>0000a892-bacf-11e8-b2b8-ac1f6b6435d0</td>\n",
       "      <td>5</td>\n",
       "    </tr>\n",
       "    <tr>\n",
       "      <th>2</th>\n",
       "      <td>0006faa6-bac7-11e8-b2b7-ac1f6b6435d0</td>\n",
       "      <td>0 5 25</td>\n",
       "    </tr>\n",
       "    <tr>\n",
       "      <th>3</th>\n",
       "      <td>0008baca-bad7-11e8-b2b9-ac1f6b6435d0</td>\n",
       "      <td>0 25</td>\n",
       "    </tr>\n",
       "    <tr>\n",
       "      <th>4</th>\n",
       "      <td>000cce7e-bad4-11e8-b2b8-ac1f6b6435d0</td>\n",
       "      <td>25 23</td>\n",
       "    </tr>\n",
       "  </tbody>\n",
       "</table>\n",
       "</div>"
      ],
      "text/plain": [
       "                                     Id Predicted\n",
       "0  00008af0-bad0-11e8-b2b8-ac1f6b6435d0         2\n",
       "1  0000a892-bacf-11e8-b2b8-ac1f6b6435d0         5\n",
       "2  0006faa6-bac7-11e8-b2b7-ac1f6b6435d0    0 5 25\n",
       "3  0008baca-bad7-11e8-b2b9-ac1f6b6435d0      0 25\n",
       "4  000cce7e-bad4-11e8-b2b8-ac1f6b6435d0     25 23"
      ]
     },
     "execution_count": 63,
     "metadata": {},
     "output_type": "execute_result"
    }
   ],
   "source": [
    "frame.head()"
   ]
  },
  {
   "cell_type": "code",
   "execution_count": null,
   "metadata": {},
   "outputs": [],
   "source": []
  }
 ],
 "metadata": {
  "kernelspec": {
   "display_name": "Python 3",
   "language": "python",
   "name": "python3"
  },
  "language_info": {
   "codemirror_mode": {
    "name": "ipython",
    "version": 3
   },
   "file_extension": ".py",
   "mimetype": "text/x-python",
   "name": "python",
   "nbconvert_exporter": "python",
   "pygments_lexer": "ipython3",
   "version": "3.7.0"
  }
 },
 "nbformat": 4,
 "nbformat_minor": 2
}
