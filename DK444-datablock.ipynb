{
 "cells": [
  {
   "cell_type": "code",
   "execution_count": 29,
   "metadata": {},
   "outputs": [],
   "source": [
    "%reload_ext autoreload\n",
    "%autoreload 2\n",
    "\n",
    "from fastai import *\n",
    "from fastai.vision import *\n",
    "from pathlib import Path\n",
    "import PIL\n",
    "import cv2\n",
    "\n",
    "from utils import *\n",
    "from dark import *\n",
    "from wrn4 import *\n",
    "\n",
    "# from torch.utils.data.sampler import WeightedRandomSampler\n",
    "from imba_sampler import ImbalancedDatasetSampler\n",
    "\n",
    "torch.backends.cudnn.benchmark = False"
   ]
  },
  {
   "cell_type": "code",
   "execution_count": 30,
   "metadata": {},
   "outputs": [],
   "source": [
    "MASKS = 'train.csv'\n",
    "\n",
    "PATH = Path('./')\n",
    "TRAIN = Path('train/')\n",
    "TEST = Path('test/')\n",
    "TRAIN_AUG = Path('../aug/train/')\n",
    "\n",
    "SAMPLE = Path('sample_submission.csv')\n",
    "\n",
    "seg = pd.read_csv(PATH/MASKS)\n",
    "seg_aug = pd.read_csv('../aug/augment.csv', header=None)\n",
    "sample_sub = pd.read_csv(PATH/SAMPLE)\n",
    "train_names = list(seg.Id.values)\n",
    "test_names = list(sample_sub.Id.values)"
   ]
  },
  {
   "cell_type": "code",
   "execution_count": 31,
   "metadata": {},
   "outputs": [
    {
     "data": {
      "text/plain": [
       "array(['00008af0-bad0-11e8-b2b8-ac1f6b6435d0', '0000a892-bacf-11e8-b2b8-ac1f6b6435d0',\n",
       "       '0006faa6-bac7-11e8-b2b7-ac1f6b6435d0', '0008baca-bad7-11e8-b2b9-ac1f6b6435d0', ...,\n",
       "       'ffdfc590-bad4-11e8-b2b8-ac1f6b6435d0', 'ffecb8a4-bad4-11e8-b2b8-ac1f6b6435d0',\n",
       "       'fff03816-bad5-11e8-b2b9-ac1f6b6435d0', 'fffe6f9c-bacd-11e8-b2b8-ac1f6b6435d0'], dtype=object)"
      ]
     },
     "execution_count": 31,
     "metadata": {},
     "output_type": "execute_result"
    }
   ],
   "source": [
    "sample_sub.Id.values"
   ]
  },
  {
   "cell_type": "code",
   "execution_count": 32,
   "metadata": {},
   "outputs": [
    {
     "data": {
      "text/plain": [
       "Darknet(\n",
       "  (layers): Sequential(\n",
       "    (0): Sequential(\n",
       "      (0): Conv2d(4, 32, kernel_size=(3, 3), stride=(1, 1), padding=(1, 1), bias=False)\n",
       "      (1): BatchNorm2d(32, eps=1e-05, momentum=0.1, affine=True, track_running_stats=True)\n",
       "      (2): LeakyReLU(negative_slope=0.1, inplace)\n",
       "    )\n",
       "    (1): Sequential(\n",
       "      (0): Conv2d(32, 64, kernel_size=(3, 3), stride=(2, 2), padding=(1, 1), bias=False)\n",
       "      (1): BatchNorm2d(64, eps=1e-05, momentum=0.1, affine=True, track_running_stats=True)\n",
       "      (2): LeakyReLU(negative_slope=0.1, inplace)\n",
       "    )\n",
       "    (2): ResLayerSE(\n",
       "      (conv1): Sequential(\n",
       "        (0): Conv2d(64, 32, kernel_size=(1, 1), stride=(1, 1), bias=False)\n",
       "        (1): BatchNorm2d(32, eps=1e-05, momentum=0.1, affine=True, track_running_stats=True)\n",
       "        (2): LeakyReLU(negative_slope=0.1, inplace)\n",
       "      )\n",
       "      (conv2): Sequential(\n",
       "        (0): Conv2d(32, 64, kernel_size=(3, 3), stride=(1, 1), padding=(1, 1), bias=False)\n",
       "        (1): BatchNorm2d(64, eps=1e-05, momentum=0.1, affine=True, track_running_stats=True)\n",
       "        (2): LeakyReLU(negative_slope=0.1, inplace)\n",
       "      )\n",
       "      (SE): SEModule(\n",
       "        (se): Sequential(\n",
       "          (0): AdaptiveAvgPool2d(output_size=1)\n",
       "          (1): Conv2d(64, 32, kernel_size=(1, 1), stride=(1, 1))\n",
       "          (2): ReLU(inplace)\n",
       "          (3): Conv2d(32, 64, kernel_size=(1, 1), stride=(1, 1))\n",
       "          (4): Sigmoid()\n",
       "        )\n",
       "      )\n",
       "    )\n",
       "    (3): Sequential(\n",
       "      (0): Conv2d(64, 128, kernel_size=(3, 3), stride=(1, 1), padding=(1, 1), bias=False)\n",
       "      (1): BatchNorm2d(128, eps=1e-05, momentum=0.1, affine=True, track_running_stats=True)\n",
       "      (2): LeakyReLU(negative_slope=0.1, inplace)\n",
       "    )\n",
       "    (4): ResLayerSE(\n",
       "      (conv1): Sequential(\n",
       "        (0): Conv2d(128, 64, kernel_size=(1, 1), stride=(1, 1), bias=False)\n",
       "        (1): BatchNorm2d(64, eps=1e-05, momentum=0.1, affine=True, track_running_stats=True)\n",
       "        (2): LeakyReLU(negative_slope=0.1, inplace)\n",
       "      )\n",
       "      (conv2): Sequential(\n",
       "        (0): Conv2d(64, 128, kernel_size=(3, 3), stride=(1, 1), padding=(1, 1), bias=False)\n",
       "        (1): BatchNorm2d(128, eps=1e-05, momentum=0.1, affine=True, track_running_stats=True)\n",
       "        (2): LeakyReLU(negative_slope=0.1, inplace)\n",
       "      )\n",
       "      (SE): SEModule(\n",
       "        (se): Sequential(\n",
       "          (0): AdaptiveAvgPool2d(output_size=1)\n",
       "          (1): Conv2d(128, 64, kernel_size=(1, 1), stride=(1, 1))\n",
       "          (2): ReLU(inplace)\n",
       "          (3): Conv2d(64, 128, kernel_size=(1, 1), stride=(1, 1))\n",
       "          (4): Sigmoid()\n",
       "        )\n",
       "      )\n",
       "    )\n",
       "    (5): ResLayerSE(\n",
       "      (conv1): Sequential(\n",
       "        (0): Conv2d(128, 64, kernel_size=(1, 1), stride=(1, 1), bias=False)\n",
       "        (1): BatchNorm2d(64, eps=1e-05, momentum=0.1, affine=True, track_running_stats=True)\n",
       "        (2): LeakyReLU(negative_slope=0.1, inplace)\n",
       "      )\n",
       "      (conv2): Sequential(\n",
       "        (0): Conv2d(64, 128, kernel_size=(3, 3), stride=(1, 1), padding=(1, 1), bias=False)\n",
       "        (1): BatchNorm2d(128, eps=1e-05, momentum=0.1, affine=True, track_running_stats=True)\n",
       "        (2): LeakyReLU(negative_slope=0.1, inplace)\n",
       "      )\n",
       "      (SE): SEModule(\n",
       "        (se): Sequential(\n",
       "          (0): AdaptiveAvgPool2d(output_size=1)\n",
       "          (1): Conv2d(128, 64, kernel_size=(1, 1), stride=(1, 1))\n",
       "          (2): ReLU(inplace)\n",
       "          (3): Conv2d(64, 128, kernel_size=(1, 1), stride=(1, 1))\n",
       "          (4): Sigmoid()\n",
       "        )\n",
       "      )\n",
       "    )\n",
       "    (6): Sequential(\n",
       "      (0): Conv2d(128, 256, kernel_size=(3, 3), stride=(2, 2), padding=(1, 1), bias=False)\n",
       "      (1): BatchNorm2d(256, eps=1e-05, momentum=0.1, affine=True, track_running_stats=True)\n",
       "      (2): LeakyReLU(negative_slope=0.1, inplace)\n",
       "    )\n",
       "    (7): ResLayerSE(\n",
       "      (conv1): Sequential(\n",
       "        (0): Conv2d(256, 128, kernel_size=(1, 1), stride=(1, 1), bias=False)\n",
       "        (1): BatchNorm2d(128, eps=1e-05, momentum=0.1, affine=True, track_running_stats=True)\n",
       "        (2): LeakyReLU(negative_slope=0.1, inplace)\n",
       "      )\n",
       "      (conv2): Sequential(\n",
       "        (0): Conv2d(128, 256, kernel_size=(3, 3), stride=(1, 1), padding=(1, 1), bias=False)\n",
       "        (1): BatchNorm2d(256, eps=1e-05, momentum=0.1, affine=True, track_running_stats=True)\n",
       "        (2): LeakyReLU(negative_slope=0.1, inplace)\n",
       "      )\n",
       "      (SE): SEModule(\n",
       "        (se): Sequential(\n",
       "          (0): AdaptiveAvgPool2d(output_size=1)\n",
       "          (1): Conv2d(256, 128, kernel_size=(1, 1), stride=(1, 1))\n",
       "          (2): ReLU(inplace)\n",
       "          (3): Conv2d(128, 256, kernel_size=(1, 1), stride=(1, 1))\n",
       "          (4): Sigmoid()\n",
       "        )\n",
       "      )\n",
       "    )\n",
       "    (8): ResLayerSE(\n",
       "      (conv1): Sequential(\n",
       "        (0): Conv2d(256, 128, kernel_size=(1, 1), stride=(1, 1), bias=False)\n",
       "        (1): BatchNorm2d(128, eps=1e-05, momentum=0.1, affine=True, track_running_stats=True)\n",
       "        (2): LeakyReLU(negative_slope=0.1, inplace)\n",
       "      )\n",
       "      (conv2): Sequential(\n",
       "        (0): Conv2d(128, 256, kernel_size=(3, 3), stride=(1, 1), padding=(1, 1), bias=False)\n",
       "        (1): BatchNorm2d(256, eps=1e-05, momentum=0.1, affine=True, track_running_stats=True)\n",
       "        (2): LeakyReLU(negative_slope=0.1, inplace)\n",
       "      )\n",
       "      (SE): SEModule(\n",
       "        (se): Sequential(\n",
       "          (0): AdaptiveAvgPool2d(output_size=1)\n",
       "          (1): Conv2d(256, 128, kernel_size=(1, 1), stride=(1, 1))\n",
       "          (2): ReLU(inplace)\n",
       "          (3): Conv2d(128, 256, kernel_size=(1, 1), stride=(1, 1))\n",
       "          (4): Sigmoid()\n",
       "        )\n",
       "      )\n",
       "    )\n",
       "    (9): ResLayerSE(\n",
       "      (conv1): Sequential(\n",
       "        (0): Conv2d(256, 128, kernel_size=(1, 1), stride=(1, 1), bias=False)\n",
       "        (1): BatchNorm2d(128, eps=1e-05, momentum=0.1, affine=True, track_running_stats=True)\n",
       "        (2): LeakyReLU(negative_slope=0.1, inplace)\n",
       "      )\n",
       "      (conv2): Sequential(\n",
       "        (0): Conv2d(128, 256, kernel_size=(3, 3), stride=(1, 1), padding=(1, 1), bias=False)\n",
       "        (1): BatchNorm2d(256, eps=1e-05, momentum=0.1, affine=True, track_running_stats=True)\n",
       "        (2): LeakyReLU(negative_slope=0.1, inplace)\n",
       "      )\n",
       "      (SE): SEModule(\n",
       "        (se): Sequential(\n",
       "          (0): AdaptiveAvgPool2d(output_size=1)\n",
       "          (1): Conv2d(256, 128, kernel_size=(1, 1), stride=(1, 1))\n",
       "          (2): ReLU(inplace)\n",
       "          (3): Conv2d(128, 256, kernel_size=(1, 1), stride=(1, 1))\n",
       "          (4): Sigmoid()\n",
       "        )\n",
       "      )\n",
       "    )\n",
       "    (10): ResLayerSE(\n",
       "      (conv1): Sequential(\n",
       "        (0): Conv2d(256, 128, kernel_size=(1, 1), stride=(1, 1), bias=False)\n",
       "        (1): BatchNorm2d(128, eps=1e-05, momentum=0.1, affine=True, track_running_stats=True)\n",
       "        (2): LeakyReLU(negative_slope=0.1, inplace)\n",
       "      )\n",
       "      (conv2): Sequential(\n",
       "        (0): Conv2d(128, 256, kernel_size=(3, 3), stride=(1, 1), padding=(1, 1), bias=False)\n",
       "        (1): BatchNorm2d(256, eps=1e-05, momentum=0.1, affine=True, track_running_stats=True)\n",
       "        (2): LeakyReLU(negative_slope=0.1, inplace)\n",
       "      )\n",
       "      (SE): SEModule(\n",
       "        (se): Sequential(\n",
       "          (0): AdaptiveAvgPool2d(output_size=1)\n",
       "          (1): Conv2d(256, 128, kernel_size=(1, 1), stride=(1, 1))\n",
       "          (2): ReLU(inplace)\n",
       "          (3): Conv2d(128, 256, kernel_size=(1, 1), stride=(1, 1))\n",
       "          (4): Sigmoid()\n",
       "        )\n",
       "      )\n",
       "    )\n",
       "    (11): Sequential(\n",
       "      (0): Conv2d(256, 512, kernel_size=(3, 3), stride=(2, 2), padding=(1, 1), bias=False)\n",
       "      (1): BatchNorm2d(512, eps=1e-05, momentum=0.1, affine=True, track_running_stats=True)\n",
       "      (2): LeakyReLU(negative_slope=0.1, inplace)\n",
       "    )\n",
       "    (12): ResLayerSE(\n",
       "      (conv1): Sequential(\n",
       "        (0): Conv2d(512, 256, kernel_size=(1, 1), stride=(1, 1), bias=False)\n",
       "        (1): BatchNorm2d(256, eps=1e-05, momentum=0.1, affine=True, track_running_stats=True)\n",
       "        (2): LeakyReLU(negative_slope=0.1, inplace)\n",
       "      )\n",
       "      (conv2): Sequential(\n",
       "        (0): Conv2d(256, 512, kernel_size=(3, 3), stride=(1, 1), padding=(1, 1), bias=False)\n",
       "        (1): BatchNorm2d(512, eps=1e-05, momentum=0.1, affine=True, track_running_stats=True)\n",
       "        (2): LeakyReLU(negative_slope=0.1, inplace)\n",
       "      )\n",
       "      (SE): SEModule(\n",
       "        (se): Sequential(\n",
       "          (0): AdaptiveAvgPool2d(output_size=1)\n",
       "          (1): Conv2d(512, 256, kernel_size=(1, 1), stride=(1, 1))\n",
       "          (2): ReLU(inplace)\n",
       "          (3): Conv2d(256, 512, kernel_size=(1, 1), stride=(1, 1))\n",
       "          (4): Sigmoid()\n",
       "        )\n",
       "      )\n",
       "    )\n",
       "    (13): ResLayerSE(\n",
       "      (conv1): Sequential(\n",
       "        (0): Conv2d(512, 256, kernel_size=(1, 1), stride=(1, 1), bias=False)\n",
       "        (1): BatchNorm2d(256, eps=1e-05, momentum=0.1, affine=True, track_running_stats=True)\n",
       "        (2): LeakyReLU(negative_slope=0.1, inplace)\n",
       "      )\n",
       "      (conv2): Sequential(\n",
       "        (0): Conv2d(256, 512, kernel_size=(3, 3), stride=(1, 1), padding=(1, 1), bias=False)\n",
       "        (1): BatchNorm2d(512, eps=1e-05, momentum=0.1, affine=True, track_running_stats=True)\n",
       "        (2): LeakyReLU(negative_slope=0.1, inplace)\n",
       "      )\n",
       "      (SE): SEModule(\n",
       "        (se): Sequential(\n",
       "          (0): AdaptiveAvgPool2d(output_size=1)\n",
       "          (1): Conv2d(512, 256, kernel_size=(1, 1), stride=(1, 1))\n",
       "          (2): ReLU(inplace)\n",
       "          (3): Conv2d(256, 512, kernel_size=(1, 1), stride=(1, 1))\n",
       "          (4): Sigmoid()\n",
       "        )\n",
       "      )\n",
       "    )\n",
       "    (14): ResLayerSE(\n",
       "      (conv1): Sequential(\n",
       "        (0): Conv2d(512, 256, kernel_size=(1, 1), stride=(1, 1), bias=False)\n",
       "        (1): BatchNorm2d(256, eps=1e-05, momentum=0.1, affine=True, track_running_stats=True)\n",
       "        (2): LeakyReLU(negative_slope=0.1, inplace)\n",
       "      )\n",
       "      (conv2): Sequential(\n",
       "        (0): Conv2d(256, 512, kernel_size=(3, 3), stride=(1, 1), padding=(1, 1), bias=False)\n",
       "        (1): BatchNorm2d(512, eps=1e-05, momentum=0.1, affine=True, track_running_stats=True)\n",
       "        (2): LeakyReLU(negative_slope=0.1, inplace)\n",
       "      )\n",
       "      (SE): SEModule(\n",
       "        (se): Sequential(\n",
       "          (0): AdaptiveAvgPool2d(output_size=1)\n",
       "          (1): Conv2d(512, 256, kernel_size=(1, 1), stride=(1, 1))\n",
       "          (2): ReLU(inplace)\n",
       "          (3): Conv2d(256, 512, kernel_size=(1, 1), stride=(1, 1))\n",
       "          (4): Sigmoid()\n",
       "        )\n",
       "      )\n",
       "    )\n",
       "    (15): ResLayerSE(\n",
       "      (conv1): Sequential(\n",
       "        (0): Conv2d(512, 256, kernel_size=(1, 1), stride=(1, 1), bias=False)\n",
       "        (1): BatchNorm2d(256, eps=1e-05, momentum=0.1, affine=True, track_running_stats=True)\n",
       "        (2): LeakyReLU(negative_slope=0.1, inplace)\n",
       "      )\n",
       "      (conv2): Sequential(\n",
       "        (0): Conv2d(256, 512, kernel_size=(3, 3), stride=(1, 1), padding=(1, 1), bias=False)\n",
       "        (1): BatchNorm2d(512, eps=1e-05, momentum=0.1, affine=True, track_running_stats=True)\n",
       "        (2): LeakyReLU(negative_slope=0.1, inplace)\n",
       "      )\n",
       "      (SE): SEModule(\n",
       "        (se): Sequential(\n",
       "          (0): AdaptiveAvgPool2d(output_size=1)\n",
       "          (1): Conv2d(512, 256, kernel_size=(1, 1), stride=(1, 1))\n",
       "          (2): ReLU(inplace)\n",
       "          (3): Conv2d(256, 512, kernel_size=(1, 1), stride=(1, 1))\n",
       "          (4): Sigmoid()\n",
       "        )\n",
       "      )\n",
       "    )\n",
       "    (16): Sequential(\n",
       "      (0): Conv2d(512, 1024, kernel_size=(3, 3), stride=(2, 2), padding=(1, 1), bias=False)\n",
       "      (1): BatchNorm2d(1024, eps=1e-05, momentum=0.1, affine=True, track_running_stats=True)\n",
       "      (2): LeakyReLU(negative_slope=0.1, inplace)\n",
       "    )\n",
       "    (17): ResLayerSE(\n",
       "      (conv1): Sequential(\n",
       "        (0): Conv2d(1024, 512, kernel_size=(1, 1), stride=(1, 1), bias=False)\n",
       "        (1): BatchNorm2d(512, eps=1e-05, momentum=0.1, affine=True, track_running_stats=True)\n",
       "        (2): LeakyReLU(negative_slope=0.1, inplace)\n",
       "      )\n",
       "      (conv2): Sequential(\n",
       "        (0): Conv2d(512, 1024, kernel_size=(3, 3), stride=(1, 1), padding=(1, 1), bias=False)\n",
       "        (1): BatchNorm2d(1024, eps=1e-05, momentum=0.1, affine=True, track_running_stats=True)\n",
       "        (2): LeakyReLU(negative_slope=0.1, inplace)\n",
       "      )\n",
       "      (SE): SEModule(\n",
       "        (se): Sequential(\n",
       "          (0): AdaptiveAvgPool2d(output_size=1)\n",
       "          (1): Conv2d(1024, 512, kernel_size=(1, 1), stride=(1, 1))\n",
       "          (2): ReLU(inplace)\n",
       "          (3): Conv2d(512, 1024, kernel_size=(1, 1), stride=(1, 1))\n",
       "          (4): Sigmoid()\n",
       "        )\n",
       "      )\n",
       "    )\n",
       "    (18): ResLayerSE(\n",
       "      (conv1): Sequential(\n",
       "        (0): Conv2d(1024, 512, kernel_size=(1, 1), stride=(1, 1), bias=False)\n",
       "        (1): BatchNorm2d(512, eps=1e-05, momentum=0.1, affine=True, track_running_stats=True)\n",
       "        (2): LeakyReLU(negative_slope=0.1, inplace)\n",
       "      )\n",
       "      (conv2): Sequential(\n",
       "        (0): Conv2d(512, 1024, kernel_size=(3, 3), stride=(1, 1), padding=(1, 1), bias=False)\n",
       "        (1): BatchNorm2d(1024, eps=1e-05, momentum=0.1, affine=True, track_running_stats=True)\n",
       "        (2): LeakyReLU(negative_slope=0.1, inplace)\n",
       "      )\n",
       "      (SE): SEModule(\n",
       "        (se): Sequential(\n",
       "          (0): AdaptiveAvgPool2d(output_size=1)\n",
       "          (1): Conv2d(1024, 512, kernel_size=(1, 1), stride=(1, 1))\n",
       "          (2): ReLU(inplace)\n",
       "          (3): Conv2d(512, 1024, kernel_size=(1, 1), stride=(1, 1))\n",
       "          (4): Sigmoid()\n",
       "        )\n",
       "      )\n",
       "    )\n",
       "    (19): ResLayerSE(\n",
       "      (conv1): Sequential(\n",
       "        (0): Conv2d(1024, 512, kernel_size=(1, 1), stride=(1, 1), bias=False)\n",
       "        (1): BatchNorm2d(512, eps=1e-05, momentum=0.1, affine=True, track_running_stats=True)\n",
       "        (2): LeakyReLU(negative_slope=0.1, inplace)\n",
       "      )\n",
       "      (conv2): Sequential(\n",
       "        (0): Conv2d(512, 1024, kernel_size=(3, 3), stride=(1, 1), padding=(1, 1), bias=False)\n",
       "        (1): BatchNorm2d(1024, eps=1e-05, momentum=0.1, affine=True, track_running_stats=True)\n",
       "        (2): LeakyReLU(negative_slope=0.1, inplace)\n",
       "      )\n",
       "      (SE): SEModule(\n",
       "        (se): Sequential(\n",
       "          (0): AdaptiveAvgPool2d(output_size=1)\n",
       "          (1): Conv2d(1024, 512, kernel_size=(1, 1), stride=(1, 1))\n",
       "          (2): ReLU(inplace)\n",
       "          (3): Conv2d(512, 1024, kernel_size=(1, 1), stride=(1, 1))\n",
       "          (4): Sigmoid()\n",
       "        )\n",
       "      )\n",
       "    )\n",
       "    (20): ResLayerSE(\n",
       "      (conv1): Sequential(\n",
       "        (0): Conv2d(1024, 512, kernel_size=(1, 1), stride=(1, 1), bias=False)\n",
       "        (1): BatchNorm2d(512, eps=1e-05, momentum=0.1, affine=True, track_running_stats=True)\n",
       "        (2): LeakyReLU(negative_slope=0.1, inplace)\n",
       "      )\n",
       "      (conv2): Sequential(\n",
       "        (0): Conv2d(512, 1024, kernel_size=(3, 3), stride=(1, 1), padding=(1, 1), bias=False)\n",
       "        (1): BatchNorm2d(1024, eps=1e-05, momentum=0.1, affine=True, track_running_stats=True)\n",
       "        (2): LeakyReLU(negative_slope=0.1, inplace)\n",
       "      )\n",
       "      (SE): SEModule(\n",
       "        (se): Sequential(\n",
       "          (0): AdaptiveAvgPool2d(output_size=1)\n",
       "          (1): Conv2d(1024, 512, kernel_size=(1, 1), stride=(1, 1))\n",
       "          (2): ReLU(inplace)\n",
       "          (3): Conv2d(512, 1024, kernel_size=(1, 1), stride=(1, 1))\n",
       "          (4): Sigmoid()\n",
       "        )\n",
       "      )\n",
       "    )\n",
       "    (21): AdaptiveAvgPool2d(output_size=1)\n",
       "    (22): Lambda()\n",
       "    (23): Linear(in_features=1024, out_features=28, bias=True)\n",
       "  )\n",
       ")"
      ]
     },
     "execution_count": 32,
     "metadata": {},
     "output_type": "execute_result"
    }
   ],
   "source": [
    "arch = Darknet([1,2,4,4,4], 28, 32, se=True); arch\n",
    "# arch = wrn_22_10()"
   ]
  },
  {
   "cell_type": "code",
   "execution_count": 33,
   "metadata": {},
   "outputs": [],
   "source": [
    "fname = train_names[0]"
   ]
  },
  {
   "cell_type": "code",
   "execution_count": 34,
   "metadata": {},
   "outputs": [
    {
     "name": "stdout",
     "output_type": "stream",
     "text": [
      "CPU times: user 20 ms, sys: 4 ms, total: 24 ms\n",
      "Wall time: 23.8 ms\n"
     ]
    }
   ],
   "source": [
    "%time im = open_image4d(TRAIN/fname); "
   ]
  },
  {
   "cell_type": "code",
   "execution_count": 35,
   "metadata": {},
   "outputs": [
    {
     "data": {
      "text/plain": [
       "torch.Size([4, 512, 512])"
      ]
     },
     "execution_count": 35,
     "metadata": {},
     "output_type": "execute_result"
    }
   ],
   "source": [
    "im.shape"
   ]
  },
  {
   "cell_type": "markdown",
   "metadata": {},
   "source": [
    "Extra Data from Protein Atals V18"
   ]
  },
  {
   "cell_type": "code",
   "execution_count": 36,
   "metadata": {},
   "outputs": [
    {
     "data": {
      "text/html": [
       "<div>\n",
       "<style scoped>\n",
       "    .dataframe tbody tr th:only-of-type {\n",
       "        vertical-align: middle;\n",
       "    }\n",
       "\n",
       "    .dataframe tbody tr th {\n",
       "        vertical-align: top;\n",
       "    }\n",
       "\n",
       "    .dataframe thead th {\n",
       "        text-align: right;\n",
       "    }\n",
       "</style>\n",
       "<table border=\"1\" class=\"dataframe\">\n",
       "  <thead>\n",
       "    <tr style=\"text-align: right;\">\n",
       "      <th></th>\n",
       "      <th>0</th>\n",
       "      <th>1</th>\n",
       "    </tr>\n",
       "  </thead>\n",
       "  <tbody>\n",
       "    <tr>\n",
       "      <th>0</th>\n",
       "      <td>d75fa7ac-93ea-434d-aa09-f56af3f3238d</td>\n",
       "      <td>25</td>\n",
       "    </tr>\n",
       "    <tr>\n",
       "      <th>1</th>\n",
       "      <td>3601c9cc-4d47-4b25-ad33-bb85ad5c8dd7</td>\n",
       "      <td>25</td>\n",
       "    </tr>\n",
       "    <tr>\n",
       "      <th>2</th>\n",
       "      <td>278cb8fa-b84e-4022-81c0-c8371ffa33f4</td>\n",
       "      <td>6</td>\n",
       "    </tr>\n",
       "    <tr>\n",
       "      <th>3</th>\n",
       "      <td>e08b8709-829c-44bc-828f-dfdbff3a9264</td>\n",
       "      <td>6</td>\n",
       "    </tr>\n",
       "    <tr>\n",
       "      <th>4</th>\n",
       "      <td>9149e078-8305-45f7-ba21-41d0d753de5e</td>\n",
       "      <td>7 21 25</td>\n",
       "    </tr>\n",
       "  </tbody>\n",
       "</table>\n",
       "</div>"
      ],
      "text/plain": [
       "                                      0        1\n",
       "0  d75fa7ac-93ea-434d-aa09-f56af3f3238d       25\n",
       "1  3601c9cc-4d47-4b25-ad33-bb85ad5c8dd7       25\n",
       "2  278cb8fa-b84e-4022-81c0-c8371ffa33f4        6\n",
       "3  e08b8709-829c-44bc-828f-dfdbff3a9264        6\n",
       "4  9149e078-8305-45f7-ba21-41d0d753de5e  7 21 25"
      ]
     },
     "execution_count": 36,
     "metadata": {},
     "output_type": "execute_result"
    }
   ],
   "source": [
    "seg_aug.head()"
   ]
  },
  {
   "cell_type": "code",
   "execution_count": 37,
   "metadata": {},
   "outputs": [
    {
     "data": {
      "text/plain": [
       "torch.Size([3, 512, 512])"
      ]
     },
     "execution_count": 37,
     "metadata": {},
     "output_type": "execute_result"
    }
   ],
   "source": [
    "im_aug = open_image(TRAIN_AUG/'d75fa7ac-93ea-434d-aa09-f56af3f3238d.png'); im_aug.shape"
   ]
  },
  {
   "cell_type": "code",
   "execution_count": 38,
   "metadata": {},
   "outputs": [],
   "source": [
    "class MyImageItemList(ImageItemList):\n",
    "    def open(self, fn:PathOrStr)->Image:\n",
    "        image = open_image4d(fn)\n",
    "        return image"
   ]
  },
  {
   "cell_type": "code",
   "execution_count": 39,
   "metadata": {},
   "outputs": [],
   "source": [
    "stats = ([0.08069, 0.05258, 0.05487, 0.08282], [0.13704,0.10145, 0.15313, 0.13814])\n",
    "tfms = get_transforms(do_flip=True, flip_vert=True, max_rotate=25, \n",
    "                      max_lighting=0.1, max_zoom=1.4, max_warp=0.4)"
   ]
  },
  {
   "cell_type": "code",
   "execution_count": 40,
   "metadata": {},
   "outputs": [],
   "source": [
    "def get_data(sz=64, bs=64, pct=0.2, sample=5000):\n",
    "#     sz, pct, bs = 64, 0.2, 64\n",
    "    src = (MyImageItemList.from_df(df=seg, path=PATH, folder=TRAIN)\n",
    "           .random_split_by_pct(pct)\n",
    "           .label_from_df(sep=' ')\n",
    "           .add_test([TEST/f for f in test_names]))\n",
    "    data = (src.transform(tfms, size=sz))\n",
    "    #         .databunch(bs=bs).normalize(stats))\n",
    "\n",
    "    test_ds = data.test\n",
    "    train_ds, val_ds = data.train, data.valid\n",
    "    datasets = [train_ds,val_ds, test_ds]\n",
    "    sampler = ImbalancedDatasetSampler(datasets[0], num_samples=sample)\n",
    "    train_dl = DataLoader(datasets[0], bs, sampler=sampler, num_workers=12)\n",
    "    val_dl = DataLoader(datasets[1], 2*bs, False, num_workers=8)\n",
    "    test_dl = DataLoader(datasets[2], 2*bs, False, num_workers=8)\n",
    "\n",
    "    return ImageDataBunch(train_dl, val_dl, test_dl).normalize(stats)"
   ]
  },
  {
   "cell_type": "code",
   "execution_count": 41,
   "metadata": {},
   "outputs": [],
   "source": [
    "data = get_data()"
   ]
  },
  {
   "cell_type": "code",
   "execution_count": 42,
   "metadata": {},
   "outputs": [
    {
     "data": {
      "image/png": "[encoded data removed]",
      "text/plain": [
       "<Figure size 864x648 with 9 Axes>"
      ]
     },
     "metadata": {
      "needs_background": "light"
     },
     "output_type": "display_data"
    }
   ],
   "source": [
    "data.show_batch(rows=3, figsize=(12,9))"
   ]
  },
  {
   "cell_type": "code",
   "execution_count": 43,
   "metadata": {},
   "outputs": [],
   "source": [
    "def get_learner(data, focal=False, fp16=False):\n",
    "    learn = Learner(data, arch , metrics=[accuracy_thresh, f1])\n",
    "    if focal: learn.loss_func = FocalLoss()\n",
    "    if fp16: learn.to_fp16();\n",
    "    learn.split((arch.layers[11],arch.layers[20]))  #Split for 444 model [11,20]\n",
    "    return learn.mixup(stack_y=False)"
   ]
  },
  {
   "cell_type": "markdown",
   "metadata": {},
   "source": [
    "# 64"
   ]
  },
  {
   "cell_type": "code",
   "execution_count": 44,
   "metadata": {},
   "outputs": [],
   "source": [
    "data = get_data(sz=64, bs=128, pct=0.1, sample=5000)\n",
    "learn = get_learner(data, focal=False, fp16=True)"
   ]
  },
  {
   "cell_type": "code",
   "execution_count": 95,
   "metadata": {},
   "outputs": [
    {
     "name": "stdout",
     "output_type": "stream",
     "text": [
      "LR Finder is complete, type {learner_name}.recorder.plot() to see the graph.\n"
     ]
    },
    {
     "data": {
      "image/png": "[encoded data removed]",
      "text/plain": [
       "<Figure size 432x288 with 1 Axes>"
      ]
     },
     "metadata": {
      "needs_background": "light"
     },
     "output_type": "display_data"
    }
   ],
   "source": [
    "learn.lr_find()\n",
    "learn.recorder.plot()"
   ]
  },
  {
   "cell_type": "code",
   "execution_count": 27,
   "metadata": {},
   "outputs": [],
   "source": [
    "lr=1e-2"
   ]
  },
  {
   "cell_type": "code",
   "execution_count": 28,
   "metadata": {},
   "outputs": [
    {
     "name": "stdout",
     "output_type": "stream",
     "text": [
      "Total time: 25:46\n",
      "epoch  train_loss  valid_loss  accuracy_thresh  f1      \n",
      "1      0.220755    0.191774    0.940862         0.049606  (00:39)\n",
      "2      0.211131    0.198706    0.943511         0.011867  (00:38)\n",
      "3      0.207095    0.178012    0.945024         0.036566  (00:38)\n",
      "4      0.205133    0.180228    0.944405         0.052459  (00:38)\n",
      "5      0.202792    0.179660    0.944646         0.047818  (00:38)\n",
      "6      0.201211    0.172737    0.947237         0.049586  (00:38)\n",
      "7      0.198098    0.172272    0.946515         0.052272  (00:38)\n",
      "8      0.196183    0.172004    0.946583         0.057760  (00:38)\n",
      "9      0.192853    0.174739    0.941722         0.052071  (00:38)\n",
      "10     0.190256    0.163124    0.948211         0.077923  (00:38)\n",
      "11     0.188727    0.168287    0.946767         0.060670  (00:38)\n",
      "12     0.187145    0.178177    0.944221         0.049094  (00:38)\n",
      "13     0.183781    0.186967    0.940633         0.062852  (00:39)\n",
      "14     0.182004    0.159168    0.948819         0.083092  (00:38)\n",
      "15     0.181720    0.165999    0.943499         0.076486  (00:38)\n",
      "16     0.180814    0.176741    0.939062         0.058851  (00:38)\n",
      "17     0.178948    0.201799    0.935370         0.090831  (00:38)\n",
      "18     0.176978    0.193273    0.934740         0.069969  (00:38)\n",
      "19     0.176923    0.185268    0.938260         0.099781  (00:38)\n",
      "20     0.176927    0.158348    0.947134         0.106758  (00:38)\n",
      "21     0.176202    0.253452    0.918677         0.082599  (00:38)\n",
      "22     0.176005    0.168077    0.946010         0.100072  (00:38)\n",
      "23     0.174621    0.185736    0.941103         0.094453  (00:38)\n",
      "24     0.174403    0.164373    0.945620         0.085792  (00:38)\n",
      "25     0.171961    0.151089    0.948120         0.103833  (00:38)\n",
      "26     0.171458    0.157467    0.948269         0.122636  (00:39)\n",
      "27     0.170495    0.164906    0.943786         0.097453  (00:38)\n",
      "28     0.169682    0.167264    0.943958         0.121936  (00:38)\n",
      "29     0.167217    0.163124    0.942800         0.127521  (00:38)\n",
      "30     0.165645    0.142643    0.950814         0.155412  (00:38)\n",
      "31     0.163854    0.144958    0.950401         0.174475  (00:38)\n",
      "32     0.160571    0.156823    0.946801         0.171707  (00:39)\n",
      "33     0.158861    0.156198    0.946194         0.182465  (00:38)\n",
      "34     0.156156    0.148203    0.949037         0.195282  (00:38)\n",
      "35     0.153037    0.131942    0.953554         0.227363  (00:39)\n",
      "36     0.150330    0.130806    0.953944         0.254987  (00:39)\n",
      "37     0.147574    0.130662    0.954368         0.295867  (00:38)\n",
      "38     0.147933    0.126646    0.955859         0.297679  (00:38)\n",
      "39     0.146947    0.126253    0.955320         0.302525  (00:38)\n",
      "40     0.147151    0.125784    0.955538         0.303835  (00:38)\n",
      "\n",
      "CPU times: user 9min 18s, sys: 5min 47s, total: 15min 5s\n",
      "Wall time: 25min 46s\n"
     ]
    }
   ],
   "source": [
    "%time learn.fit_one_cycle(40, lr, wd=0.3, div_factor=10, pct_start=0.5)"
   ]
  },
  {
   "cell_type": "code",
   "execution_count": 29,
   "metadata": {},
   "outputs": [],
   "source": [
    "learn.save('dk_444_se_64')"
   ]
  },
  {
   "cell_type": "markdown",
   "metadata": {},
   "source": [
    "# 128"
   ]
  },
  {
   "cell_type": "code",
   "execution_count": 30,
   "metadata": {},
   "outputs": [],
   "source": [
    "learn.data = get_data_custom(128, 96, 0.1, 20000)\n",
    "# learn = get_learner(data, focal=True, fp16=True)"
   ]
  },
  {
   "cell_type": "code",
   "execution_count": 31,
   "metadata": {},
   "outputs": [],
   "source": [
    "# learn.load('dk_se_64_new');"
   ]
  },
  {
   "cell_type": "code",
   "execution_count": 32,
   "metadata": {},
   "outputs": [],
   "source": [
    "# learn.freeze_to(4)"
   ]
  },
  {
   "cell_type": "code",
   "execution_count": 33,
   "metadata": {},
   "outputs": [
    {
     "name": "stdout",
     "output_type": "stream",
     "text": [
      "Total time: 1:24:43\n",
      "epoch  train_loss  valid_loss  accuracy_thresh  f1      \n",
      "1      0.142216    0.122030    0.956619         0.327063  (02:48)\n",
      "2      0.139419    0.119724    0.956945         0.314964  (02:49)\n",
      "3      0.139598    0.130442    0.953583         0.305083  (02:49)\n",
      "4      0.137937    0.126462    0.954328         0.304951  (02:49)\n",
      "5      0.140227    0.123155    0.955561         0.322169  (02:49)\n",
      "6      0.138019    0.126943    0.955060         0.314073  (02:49)\n",
      "7      0.137983    0.125445    0.954700         0.309241  (02:49)\n",
      "8      0.139485    0.129762    0.953281         0.307393  (02:49)\n",
      "9      0.138913    0.135114    0.951966         0.284129  (02:49)\n",
      "10     0.139851    0.133003    0.952490         0.272988  (02:49)\n",
      "11     0.141601    0.156116    0.945498         0.232046  (02:48)\n",
      "12     0.140650    0.149683    0.947045         0.241290  (02:49)\n",
      "13     0.140495    0.133425    0.953083         0.280362  (02:49)\n",
      "14     0.142022    0.143011    0.947755         0.268398  (02:49)\n",
      "15     0.142663    0.194494    0.937773         0.173871  (02:49)\n",
      "16     0.141735    0.164718    0.943009         0.232849  (02:49)\n",
      "17     0.141277    0.177481    0.935866         0.152656  (02:48)\n",
      "18     0.139333    0.152487    0.943253         0.191686  (02:49)\n",
      "19     0.137614    0.139513    0.949104         0.250233  (02:49)\n",
      "20     0.135058    0.148307    0.945905         0.247957  (02:49)\n",
      "21     0.131638    0.127393    0.955375         0.325141  (02:49)\n",
      "22     0.129950    0.129151    0.952559         0.288908  (02:49)\n",
      "23     0.128237    0.119933    0.955817         0.317787  (02:49)\n",
      "24     0.124352    0.118141    0.956817         0.384344  (02:49)\n",
      "25     0.122176    0.109680    0.960168         0.403560  (02:49)\n",
      "26     0.117911    0.114013    0.958318         0.407343  (02:50)\n",
      "27     0.115389    0.095384    0.965181         0.476726  (02:49)\n",
      "28     0.113933    0.094236    0.965705         0.480489  (02:49)\n",
      "29     0.111666    0.092967    0.966182         0.494551  (02:49)\n",
      "30     0.112247    0.093365    0.966066         0.493464  (02:49)\n",
      "\n",
      "CPU times: user 41min 16s, sys: 39min 32s, total: 1h 20min 48s\n",
      "Wall time: 1h 24min 43s\n"
     ]
    }
   ],
   "source": [
    "%time learn.fit_one_cycle(30, lr/3, wd=0.2, div_factor=10, pct_start=0.5)"
   ]
  },
  {
   "cell_type": "code",
   "execution_count": 34,
   "metadata": {},
   "outputs": [],
   "source": [
    "learn.save('dk_444_se_128')"
   ]
  },
  {
   "cell_type": "markdown",
   "metadata": {},
   "source": [
    "# 256"
   ]
  },
  {
   "cell_type": "code",
   "execution_count": 17,
   "metadata": {},
   "outputs": [],
   "source": [
    "data = get_data_custom(256, 48, 0.01, sample=None)"
   ]
  },
  {
   "cell_type": "code",
   "execution_count": null,
   "metadata": {},
   "outputs": [],
   "source": [
    "learn = get_learner(data, focal=True, fp16=True)"
   ]
  },
  {
   "cell_type": "code",
   "execution_count": 30,
   "metadata": {},
   "outputs": [],
   "source": [
    "# learn.layer_groups = split_model_idx(arch, [19,48,103, 158, -3])\n",
    "# learn.split((arch.layers[11],arch.layers[20]))"
   ]
  },
  {
   "cell_type": "code",
   "execution_count": 29,
   "metadata": {},
   "outputs": [],
   "source": [
    "learn.load('dk_444_se_128');"
   ]
  },
  {
   "cell_type": "code",
   "execution_count": 30,
   "metadata": {},
   "outputs": [],
   "source": [
    "learn.freeze()"
   ]
  },
  {
   "cell_type": "code",
   "execution_count": 31,
   "metadata": {},
   "outputs": [
    {
     "name": "stdout",
     "output_type": "stream",
     "text": [
      "Total time: 1:11:18\n",
      "epoch  train_loss  valid_loss  accuracy_thresh  f1      \n",
      "1      0.654233    0.633427    0.969925         0.503498  (07:08)\n",
      "2      0.621339    0.602995    0.971217         0.505410  (07:08)\n",
      "3      0.617080    0.593016    0.970395         0.501920  (07:08)\n",
      "4      0.619088    0.605670    0.970747         0.497142  (07:07)\n",
      "5      0.598674    0.600169    0.971452         0.494520  (07:08)\n",
      "6      0.584079    0.597105    0.970747         0.500710  (07:07)\n",
      "7      0.590395    0.576506    0.973449         0.527191  (07:06)\n",
      "8      0.577506    0.568232    0.971570         0.501305  (07:08)\n",
      "9      0.566611    0.568505    0.973332         0.518704  (07:08)\n",
      "10     0.582836    0.565819    0.972274         0.518897  (07:07)\n",
      "\n",
      "CPU times: user 29min 3s, sys: 41min 35s, total: 1h 10min 38s\n",
      "Wall time: 1h 11min 18s\n"
     ]
    }
   ],
   "source": [
    "%time learn.fit_one_cycle(10, slice(1e-3), wd=0.3, div_factor=10, pct_start=0.3)"
   ]
  },
  {
   "cell_type": "code",
   "execution_count": 32,
   "metadata": {},
   "outputs": [],
   "source": [
    "learn.save('dk_444_se_256');"
   ]
  },
  {
   "cell_type": "code",
   "execution_count": 33,
   "metadata": {},
   "outputs": [],
   "source": [
    "learn.unfreeze()"
   ]
  },
  {
   "cell_type": "code",
   "execution_count": 34,
   "metadata": {},
   "outputs": [
    {
     "name": "stdout",
     "output_type": "stream",
     "text": [
      "Total time: 1:31:22\n",
      "epoch  train_loss  valid_loss  accuracy_thresh  f1      \n",
      "1      0.586983    0.590271    0.970865         0.511462  (09:07)\n",
      "2      0.597639    0.589503    0.970277         0.507499  (09:07)\n",
      "3      0.605415    0.609968    0.969220         0.480729  (09:08)\n",
      "4      0.604607    0.616451    0.971335         0.510478  (09:08)\n",
      "5      0.597599    0.610122    0.970512         0.496908  (09:08)\n",
      "6      0.553571    0.571872    0.972039         0.515013  (09:08)\n",
      "7      0.545225    0.569565    0.971805         0.508798  (09:08)\n",
      "8      0.526132    0.569061    0.972744         0.509010  (09:07)\n",
      "9      0.537468    0.550339    0.973567         0.519620  (09:08)\n",
      "10     0.509023    0.549182    0.973684         0.530200  (09:08)\n",
      "\n",
      "CPU times: user 44min 23s, sys: 46min 20s, total: 1h 30min 43s\n",
      "Wall time: 1h 31min 22s\n"
     ]
    }
   ],
   "source": [
    "%time learn.fit_one_cycle(10, slice(1e-4, 1e-2/5), wd=0.3, div_factor=10, pct_start=0.3)"
   ]
  },
  {
   "cell_type": "code",
   "execution_count": 35,
   "metadata": {},
   "outputs": [],
   "source": [
    "learn.save('dk_444_se_256');"
   ]
  },
  {
   "cell_type": "code",
   "execution_count": 46,
   "metadata": {},
   "outputs": [],
   "source": [
    "learn = get_learner(data, focal=True, fp16=True)\n",
    "learn.load('dk_444_se_256');\n",
    "learn.unfreeze()"
   ]
  },
  {
   "cell_type": "code",
   "execution_count": 47,
   "metadata": {},
   "outputs": [
    {
     "name": "stdout",
     "output_type": "stream",
     "text": [
      "Total time: 4:38:36\n",
      "epoch  train_loss  valid_loss  accuracy_thresh  f1      \n",
      "1      0.524976    0.523568    0.972811         0.513302  (13:53)\n",
      "2      0.516199    0.554878    0.971429         0.499693  (13:54)\n",
      "3      0.509291    0.545275    0.972811         0.506285  (13:54)\n",
      "4      0.527384    0.563893    0.971889         0.510238  (13:54)\n",
      "5      0.521021    0.561514    0.970507         0.489917  (13:56)\n",
      "6      0.513259    0.610516    0.970853         0.501725  (13:56)\n",
      "7      0.534006    0.576600    0.970046         0.479486  (13:54)\n",
      "8      0.518870    0.606870    0.970737         0.478482  (13:55)\n",
      "9      0.505476    0.608334    0.969355         0.476970  (13:56)\n",
      "10     0.503765    0.596166    0.970968         0.488283  (13:55)\n",
      "11     0.498434    0.569368    0.971198         0.495728  (13:55)\n",
      "12     0.492287    0.565673    0.972005         0.500732  (13:56)\n",
      "13     0.475972    0.557628    0.972465         0.503962  (13:56)\n",
      "14     0.473882    0.545845    0.972696         0.522205  (13:56)\n",
      "15     0.446451    0.556598    0.973387         0.515047  (13:56)\n",
      "16     0.440502    0.534875    0.973272         0.523028  (13:55)\n",
      "17     0.425886    0.520021    0.974194         0.517498  (13:56)\n",
      "18     0.408111    0.512611    0.974539         0.528324  (13:57)\n",
      "19     0.419210    0.509785    0.975576         0.532439  (13:56)\n",
      "20     0.416990    0.516481    0.975346         0.522562  (13:56)\n",
      "\n",
      "CPU times: user 2h 18min 14s, sys: 2h 19min 5s, total: 4h 37min 20s\n",
      "Wall time: 4h 38min 36s\n"
     ]
    }
   ],
   "source": [
    "%time learn.fit_one_cycle(20, slice(1e-4/2, 1e-3), wd=0.3, div_factor=10, pct_start=0.3)"
   ]
  },
  {
   "cell_type": "code",
   "execution_count": 48,
   "metadata": {},
   "outputs": [
    {
     "name": "stderr",
     "output_type": "stream",
     "text": [
      "[autoreload of utils failed: Traceback (most recent call last):\n",
      "  File \"/opt/conda/lib/python3.7/site-packages/IPython/extensions/autoreload.py\", line 244, in check\n",
      "    superreload(m, reload, self.old_objects)\n",
      "  File \"/opt/conda/lib/python3.7/site-packages/IPython/extensions/autoreload.py\", line 376, in superreload\n",
      "    module = reload(module)\n",
      "  File \"/opt/conda/lib/python3.7/imp.py\", line 315, in reload\n",
      "    return importlib.reload(module)\n",
      "  File \"/opt/conda/lib/python3.7/importlib/__init__.py\", line 169, in reload\n",
      "    _bootstrap._exec(spec, module)\n",
      "  File \"<frozen importlib._bootstrap>\", line 630, in _exec\n",
      "  File \"<frozen importlib._bootstrap_external>\", line 728, in exec_module\n",
      "  File \"<frozen importlib._bootstrap>\", line 219, in _call_with_frames_removed\n",
      "  File \"/workspace/kaggle_hpa/utils.py\", line 9, in <module>\n",
      "    def open_image4d(path:PathOrStr)->Image:\n",
      "NameError: name 'PathOrStr' is not defined\n",
      "]\n"
     ]
    }
   ],
   "source": [
    "learn.save('dk_444_se_256v2');"
   ]
  },
  {
   "cell_type": "code",
   "execution_count": 49,
   "metadata": {},
   "outputs": [],
   "source": [
    "learn.data.test_dl.add_tfm(to_half)\n",
    "p,t = learn.get_preds(ds_type=DatasetType.Test)"
   ]
  },
  {
   "cell_type": "markdown",
   "metadata": {},
   "source": [
    "## 512"
   ]
  },
  {
   "cell_type": "markdown",
   "metadata": {},
   "source": [
    "Training with size = 512 does not work, I don't know why.\n",
    "Probably comes from the SE module, beacuase it works without this module."
   ]
  },
  {
   "cell_type": "code",
   "execution_count": 25,
   "metadata": {},
   "outputs": [],
   "source": [
    "data = get_data_custom(500, 16, 0.01, sample = None)  #training with 512 size does not work.\n",
    "learn = get_learner(data, focal=True, fp16=True)"
   ]
  },
  {
   "cell_type": "code",
   "execution_count": 18,
   "metadata": {},
   "outputs": [],
   "source": [
    "learn.load('dk_444_se_256');"
   ]
  },
  {
   "cell_type": "code",
   "execution_count": 19,
   "metadata": {},
   "outputs": [],
   "source": [
    "learn.freeze()"
   ]
  },
  {
   "cell_type": "code",
   "execution_count": 20,
   "metadata": {},
   "outputs": [
    {
     "name": "stdout",
     "output_type": "stream",
     "text": [
      "Total time: 5:00:48\n",
      "epoch  train_loss  valid_loss  accuracy_thresh  f1      \n",
      "1      0.805172    0.922284    0.958079         0.250193  (50:06)\n",
      "2      0.833734    0.988092    0.955031         0.215251  (50:08)\n",
      "3      0.840235    0.969652    0.953942         0.224623  (50:11)\n",
      "4      0.771709    0.878946    0.958842         0.240016  (50:07)\n",
      "5      0.771375    0.815986    0.960475         0.246118  (50:07)\n",
      "6      0.721159    0.831685    0.959386         0.256636  (50:06)\n",
      "\n",
      "CPU times: user 2h 7min 2s, sys: 2h 53min 45s, total: 5h 47s\n",
      "Wall time: 5h 48s\n"
     ]
    }
   ],
   "source": [
    "%time learn.fit_one_cycle(6, slice(1e-3), wd=0.3, div_factor=10, pct_start=0.3)"
   ]
  },
  {
   "cell_type": "code",
   "execution_count": 21,
   "metadata": {},
   "outputs": [],
   "source": [
    "learn.save('dk_444_se_500');"
   ]
  },
  {
   "cell_type": "code",
   "execution_count": 26,
   "metadata": {},
   "outputs": [],
   "source": [
    "learn.load('dk_444_se_500');"
   ]
  },
  {
   "cell_type": "code",
   "execution_count": 27,
   "metadata": {},
   "outputs": [],
   "source": [
    "learn.unfreeze()"
   ]
  },
  {
   "cell_type": "code",
   "execution_count": 30,
   "metadata": {},
   "outputs": [
    {
     "name": "stdout",
     "output_type": "stream",
     "text": [
      "Total time: 9:31:30\n",
      "epoch  train_loss  valid_loss  accuracy_thresh  f1      \n",
      "1      0.675519    0.770466    0.964165         0.342275  (57:13)\n",
      "2      0.679093    0.812860    0.961269         0.323943  (57:10)\n",
      "3      0.676465    0.783376    0.962476         0.328304  (57:08)\n",
      "4      0.622843    0.856160    0.958977         0.319174  (57:07)\n",
      "5      0.629718    0.748121    0.964165         0.342526  (57:07)\n",
      "6      0.626913    0.822372    0.960666         0.330728  (57:08)\n",
      "7      0.575359    0.721762    0.963321         0.341208  (57:03)\n",
      "8      0.553358    0.766244    0.964406         0.355758  (57:08)\n",
      "9      0.571075    0.778329    0.964889         0.340282  (57:11)\n",
      "10     0.547229    0.709605    0.966096         0.349183  (57:11)\n",
      "\n",
      "CPU times: user 4h 39min 5s, sys: 4h 52min 6s, total: 9h 31min 12s\n",
      "Wall time: 9h 31min 30s\n"
     ]
    }
   ],
   "source": [
    "%time learn.fit_one_cycle(10, slice(1e-4/5, 1e-3), div_factor=25, pct_start=0.3)"
   ]
  },
  {
   "cell_type": "code",
   "execution_count": 31,
   "metadata": {},
   "outputs": [],
   "source": [
    "learn.save('dk_444_se_500');"
   ]
  },
  {
   "cell_type": "markdown",
   "metadata": {},
   "source": [
    "# Validation and Preds"
   ]
  },
  {
   "cell_type": "code",
   "execution_count": 68,
   "metadata": {},
   "outputs": [
    {
     "name": "stdout",
     "output_type": "stream",
     "text": [
      "Total time: 1:25:22\n",
      "\n"
     ]
    }
   ],
   "source": [
    "learn.data.test_dl.add_tfm(to_half)\n",
    "p,t = learn.get_preds(ds_type=DatasetType.Test)"
   ]
  },
  {
   "cell_type": "code",
   "execution_count": 50,
   "metadata": {},
   "outputs": [],
   "source": [
    "ths=array([0.52, 0.42, 0.34, 0.5 , 0.46, 0.38, 0.36, 0.41, 0.35, 0.4 , 0.41, 0.4 , 0.39, 0.43, 0.4 , 0.39, 0.37, 0.39,\n",
    "       0.4 , 0.41, 0.46, 0.36, 0.31, 0.41, 0.49, 0.39, 0.31, 0.5 ])"
   ]
  },
  {
   "cell_type": "markdown",
   "metadata": {},
   "source": [
    "# Sub File"
   ]
  },
  {
   "cell_type": "code",
   "execution_count": 51,
   "metadata": {},
   "outputs": [
    {
     "name": "stdout",
     "output_type": "stream",
     "text": [
      "(11702, 28)\n"
     ]
    }
   ],
   "source": [
    "preds = to_np(p.sigmoid())  #Check if we are using focal loss or BCE.\n",
    "# threshold = 0.5\n",
    "print(preds.shape)\n",
    "classes = np.array(classes)\n",
    "res = np.array([\" \".join(classes[(np.where(pp>threshold))])for pp in preds])"
   ]
  },
  {
   "cell_type": "code",
   "execution_count": 52,
   "metadata": {},
   "outputs": [
    {
     "data": {
      "text/plain": [
       "array(['16', '0', '7', '1', '2', '5', '18', '25', '23', '21', '24', '6', '11', '3', '12', '13', '14', '4', '20', '22',\n",
       "       '17', '19', '8', '9', '10', '26', '27', '15'], dtype='<U2')"
      ]
     },
     "execution_count": 52,
     "metadata": {},
     "output_type": "execute_result"
    }
   ],
   "source": [
    "classes"
   ]
  },
  {
   "cell_type": "code",
   "execution_count": 53,
   "metadata": {},
   "outputs": [],
   "source": [
    "frame = pd.DataFrame(np.array([test_names, res]).T, columns = ['Id','Predicted'])\n",
    "frame.to_csv('protein_se.csv', index=False)"
   ]
  },
  {
   "cell_type": "code",
   "execution_count": 54,
   "metadata": {},
   "outputs": [
    {
     "data": {
      "text/html": [
       "<div>\n",
       "<style scoped>\n",
       "    .dataframe tbody tr th:only-of-type {\n",
       "        vertical-align: middle;\n",
       "    }\n",
       "\n",
       "    .dataframe tbody tr th {\n",
       "        vertical-align: top;\n",
       "    }\n",
       "\n",
       "    .dataframe thead th {\n",
       "        text-align: right;\n",
       "    }\n",
       "</style>\n",
       "<table border=\"1\" class=\"dataframe\">\n",
       "  <thead>\n",
       "    <tr style=\"text-align: right;\">\n",
       "      <th></th>\n",
       "      <th>Id</th>\n",
       "      <th>Predicted</th>\n",
       "    </tr>\n",
       "  </thead>\n",
       "  <tbody>\n",
       "    <tr>\n",
       "      <th>0</th>\n",
       "      <td>00008af0-bad0-11e8-b2b8-ac1f6b6435d0</td>\n",
       "      <td>2</td>\n",
       "    </tr>\n",
       "    <tr>\n",
       "      <th>1</th>\n",
       "      <td>0000a892-bacf-11e8-b2b8-ac1f6b6435d0</td>\n",
       "      <td>5</td>\n",
       "    </tr>\n",
       "    <tr>\n",
       "      <th>2</th>\n",
       "      <td>0006faa6-bac7-11e8-b2b7-ac1f6b6435d0</td>\n",
       "      <td>0 5 25</td>\n",
       "    </tr>\n",
       "    <tr>\n",
       "      <th>3</th>\n",
       "      <td>0008baca-bad7-11e8-b2b9-ac1f6b6435d0</td>\n",
       "      <td>0 25</td>\n",
       "    </tr>\n",
       "    <tr>\n",
       "      <th>4</th>\n",
       "      <td>000cce7e-bad4-11e8-b2b8-ac1f6b6435d0</td>\n",
       "      <td></td>\n",
       "    </tr>\n",
       "  </tbody>\n",
       "</table>\n",
       "</div>"
      ],
      "text/plain": [
       "                                     Id Predicted\n",
       "0  00008af0-bad0-11e8-b2b8-ac1f6b6435d0         2\n",
       "1  0000a892-bacf-11e8-b2b8-ac1f6b6435d0         5\n",
       "2  0006faa6-bac7-11e8-b2b7-ac1f6b6435d0    0 5 25\n",
       "3  0008baca-bad7-11e8-b2b9-ac1f6b6435d0      0 25\n",
       "4  000cce7e-bad4-11e8-b2b8-ac1f6b6435d0          "
      ]
     },
     "execution_count": 54,
     "metadata": {},
     "output_type": "execute_result"
    }
   ],
   "source": [
    "frame.head()"
   ]
  },
  {
   "cell_type": "code",
   "execution_count": null,
   "metadata": {},
   "outputs": [],
   "source": []
  }
 ],
 "metadata": {
  "kernelspec": {
   "display_name": "Python 3",
   "language": "python",
   "name": "python3"
  },
  "language_info": {
   "codemirror_mode": {
    "name": "ipython",
    "version": 3
   },
   "file_extension": ".py",
   "mimetype": "text/x-python",
   "name": "python",
   "nbconvert_exporter": "python",
   "pygments_lexer": "ipython3",
   "version": "3.7.0"
  }
 },
 "nbformat": 4,
 "nbformat_minor": 2
}
