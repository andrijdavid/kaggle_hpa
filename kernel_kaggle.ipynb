{
  "cells": [
    {
      "metadata": {
        "_cell_guid": "79c7e3d0-c299-4dcb-8224-4455121ee9b0",
        "_uuid": "d629ff2d2480ee46fbb7e2d37f6b5fab8052498a",
        "trusted": true
      },
      "cell_type": "code",
      "source": "import numpy as np\nimport pandas as pd\nimport os",
      "execution_count": null,
      "outputs": []
    },
    {
      "metadata": {
        "trusted": true,
        "_uuid": "14da00fd2d9e39a4b2a3024375fb8e30e92bc10a"
      },
      "cell_type": "code",
      "source": "from fastai.conv_learner import *\nfrom fastai.dataset import *\n\nfrom pathlib import Path\nimport json\ntorch.cuda.set_device(0)\nfrom pathlib import Path\ntorch.cuda.set_device(0)",
      "execution_count": null,
      "outputs": []
    },
    {
      "metadata": {
        "trusted": true,
        "_uuid": "712cf41b95d08b64eb6a2eacce63007a753cb010"
      },
      "cell_type": "code",
      "source": "MASKS = 'train.csv'\nSUB = 'sample_submission.csv'\nTRAIN = Path('train/')\nTEST = Path('test/')\nPATH = Path('/kaggle/input/')\nTMP = Path('/kaggle/working/tmp/')\nMODEL = Path('/kaggle/working/model/')\n\nseg = pd.read_csv(PATH/MASKS).set_index('Id')\nsample_sub = pd.read_csv(PATH/SUB).set_index('Id')\n\nsample= 31072\nseg.head()",
      "execution_count": null,
      "outputs": []
    },
    {
      "metadata": {
        "trusted": true,
        "_uuid": "4a9fd1df3c6948cc66f7acd8bd1981ff40487563"
      },
      "cell_type": "code",
      "source": "train_names_png = [TRAIN/f for f in os.listdir(PATH/TRAIN)]\ntrain_names = list(seg.index.values)\ntrain_names_sample = list(seg.index.values)[0:sample]\ntest_names_png = [TEST/f for f in os.listdir(PATH/TEST)]\ntest_names = list(sample_sub.index.values)\ntest_names_sample = list(sample_sub.index.values)[0:sample]\nlen(train_names_sample), len(test_names)",
      "execution_count": null,
      "outputs": []
    },
    {
      "metadata": {
        "trusted": true,
        "_uuid": "30faaaa4a7623a7cc66ab7e703b1497277f7a194"
      },
      "cell_type": "code",
      "source": "TMP.mkdir(exist_ok=True)\nMODEL.mkdir(exist_ok=True)",
      "execution_count": null,
      "outputs": []
    },
    {
      "metadata": {
        "trusted": true,
        "_uuid": "30cf4c4eff0e3104892bf0348dcb2d71168ca078"
      },
      "cell_type": "code",
      "source": "def rgba_open(fname, path=PATH, sz=128):\n    '''open RGBA image from 4 different 1-channel files.\n    return: numpy array [4, sz, sz]'''\n    flags = cv2.IMREAD_GRAYSCALE\n    red = cv2.imread(str(path/(fname+ '_red.png')), flags)\n    blue = cv2.imread(str(path/(fname+ '_blue.png')), flags)\n    green = cv2.imread(str(path/(fname+ '_green.png')), flags)\n    yellow = cv2.imread(str(path/(fname+ '_yellow.png')),flags)\n    im = np.array([red, green, blue, yellow], dtype=np.float32)\n    rgba = cv2.resize(np.rollaxis(im, 0,3), (sz, sz), interpolation = cv2.INTER_CUBIC)\n    return np.rollaxis(rgba, 2,0)/255\n",
      "execution_count": null,
      "outputs": []
    },
    {
      "metadata": {
        "trusted": true,
        "_uuid": "36e81202b77ae5a08419dccdbb76baad751e870a"
      },
      "cell_type": "code",
      "source": "train_names[1]",
      "execution_count": null,
      "outputs": []
    },
    {
      "metadata": {
        "trusted": true,
        "_uuid": "f688afb3f3f150b69bf6bfb5ea04f84b573272ed"
      },
      "cell_type": "code",
      "source": "im = rgba_open(train_names[1], PATH/TRAIN); im.shape",
      "execution_count": null,
      "outputs": []
    },
    {
      "metadata": {
        "trusted": true,
        "_uuid": "88b6f47090534442174cb45275b64aad3cb61cba"
      },
      "cell_type": "code",
      "source": "def open_rgby(path,id): #a function that reads RGBY image\n    colors = ['red','green','blue','yellow']\n    flags = cv2.IMREAD_GRAYSCALE\n    img = [cv2.imread(os.path.join(path, id+'_'+color+'.png'), flags).astype(np.float32)/255\n           for color in colors]\n    return img",
      "execution_count": null,
      "outputs": []
    },
    {
      "metadata": {
        "trusted": true,
        "_uuid": "560dd95a2fb61ad72b29499e50a36da7255a0413"
      },
      "cell_type": "code",
      "source": "im = open_rgby(PATH/TRAIN, train_names[1]); np.stack(im).shape",
      "execution_count": null,
      "outputs": []
    },
    {
      "metadata": {
        "trusted": true,
        "_uuid": "b9f99290040effabecad459a2bd64c16ef49ea3e"
      },
      "cell_type": "code",
      "source": "# import h5py",
      "execution_count": null,
      "outputs": []
    },
    {
      "metadata": {
        "trusted": true,
        "_uuid": "a5de0188013dde66971b503ab90f263bc5f7f704"
      },
      "cell_type": "code",
      "source": "# with h5py.File('128.h5', 'w') as hf:\n#     hf.create_dataset(\"train128_dataset\",  data=train_ims)\n       \n# class dataset_h5(torch.utils.data.Dataset):\n# def __init__(self, in_file):\n#     super(dataset_h5, self).__init__()\n\n#     self.file = h5py.File(in_file, 'r')\n#     self.n_images, self.nx, self.ny = self.file['images'].shape\n\n# def __getitem__(self, index):\n#     input = self.file['images'][index,:,:]\n#     return input.astype('float32')\n\n# def __len__(self):\n#     return self.n_images",
      "execution_count": null,
      "outputs": []
    },
    {
      "metadata": {
        "trusted": true,
        "_uuid": "74a1b205c7c0f7614fc5a2e22c09b55a3d8eb766"
      },
      "cell_type": "code",
      "source": "# file = h5py.File('train_64.h5', 'r')",
      "execution_count": null,
      "outputs": []
    },
    {
      "metadata": {
        "trusted": true,
        "_uuid": "140a4dbc907b3e655e033a59b87d46978ee9b787"
      },
      "cell_type": "code",
      "source": "# file['train64_dataset'].shape",
      "execution_count": null,
      "outputs": []
    },
    {
      "metadata": {
        "trusted": true,
        "_uuid": "98f15fe713bf01f0eda87b9fc9abeee71a7d4341"
      },
      "cell_type": "code",
      "source": "seg2 = seg.iloc[0:sample]\nval_idxs = get_cv_idxs(sample)",
      "execution_count": null,
      "outputs": []
    },
    {
      "metadata": {
        "trusted": true,
        "_uuid": "b1fa9d0c61c898f96de89520691d0547a84cdb61"
      },
      "cell_type": "code",
      "source": "class CustomDataset(FilesDataset):\n    def __init__(self, fnames, y, transform, path, sz):\n        self.y=y\n        self.fnames = fnames\n        self.sz = sz\n        assert(len(fnames)==len(y))\n        super().__init__(fnames, transform, path)\n        \n    def get_x(self, i): \n        return rgba_open(self.fnames[i], self.path, self.sz)\n        \n    def get_y(self, i):\n        return self.y[i]\n    def get_sz(self): return self.sz\n    def get_c(self): return 28\n    @property\n    def is_multi(self):\n        return True",
      "execution_count": null,
      "outputs": []
    },
    {
      "metadata": {
        "trusted": true,
        "_uuid": "5c254c0d62f95403ff325d391d0cd20a36088907"
      },
      "cell_type": "code",
      "source": "indexes = seg2.Target.apply(str.split)\ny = np.zeros((sample, 28))\nfor i in range(sample):\n    y[i,np.array(indexes[i], dtype=int)]=1",
      "execution_count": null,
      "outputs": []
    },
    {
      "metadata": {
        "trusted": true,
        "_uuid": "4f4fc9a6beb90e931b07a785481c34c3d27de9f6"
      },
      "cell_type": "code",
      "source": "len(train_names_sample),  y.shape, y.dtype",
      "execution_count": null,
      "outputs": []
    },
    {
      "metadata": {
        "trusted": true,
        "_uuid": "4bb91eb8375953649d680e6de6e2dfd2e35c812d"
      },
      "cell_type": "code",
      "source": "((val_x,trn_x),(val_y,trn_y)) = split_by_idx(val_idxs, np.array(train_names_sample), y)",
      "execution_count": null,
      "outputs": []
    },
    {
      "metadata": {
        "trusted": true,
        "_uuid": "94c96e20381707a9a0136077f1bb1848dcc89fee"
      },
      "cell_type": "code",
      "source": "# tfms = tfms_from_model(resnet34, sz=sz, crop_type=CropType.NO, aug_tfms=[])\ndef get_data(sz=128, bs=32):\n    datasets = ImageData.get_ds(CustomDataset, (trn_x,trn_y), (val_x,val_y), sz=sz, tfms=(None,None), path=PATH/TRAIN)\n    datasets[4] = CustomDataset(test_names, test_names, None, PATH/TEST, sz)\n    return ImageData(PATH, datasets, bs=bs, num_workers=4, classes=28)",
      "execution_count": null,
      "outputs": []
    },
    {
      "metadata": {
        "trusted": true,
        "_uuid": "bc74dda6b30139be3ab4f8a38f09ad67e7f22791"
      },
      "cell_type": "code",
      "source": "md = get_data(128)",
      "execution_count": null,
      "outputs": []
    },
    {
      "metadata": {
        "trusted": true,
        "_uuid": "ab9aeec7cdc3082d58cae360f5b4a55eda38280b"
      },
      "cell_type": "code",
      "source": "x,y = next(iter(md.trn_dl))",
      "execution_count": null,
      "outputs": []
    },
    {
      "metadata": {
        "trusted": true,
        "_uuid": "125c3d934c08419ff8d69568698837269a5129c2"
      },
      "cell_type": "code",
      "source": "(x.shape, x.dtype), (y.shape, y.dtype)",
      "execution_count": null,
      "outputs": []
    },
    {
      "metadata": {
        "trusted": true,
        "_uuid": "38aeb65f69255f15ac409983a87dbad8a98268d1"
      },
      "cell_type": "code",
      "source": "x[0].dtype, y[0].dtype, len(y)",
      "execution_count": null,
      "outputs": []
    },
    {
      "metadata": {
        "trusted": true,
        "_uuid": "67ba6315e3ccb314a25dcff0902ef698a575a832"
      },
      "cell_type": "code",
      "source": "import math\nimport torch\nimport torch.nn as nn\nimport torch.nn.functional as F\nfrom fastai.layers import *\n\ndef conv_2d(ni, nf, ks, stride): return nn.Conv2d(ni, nf, kernel_size=ks, stride=stride, padding=ks//2, bias=False)\n\ndef bn(ni, init_zero=False):\n    m = nn.BatchNorm2d(ni)\n    m.weight.data.fill_(0 if init_zero else 1)\n    m.bias.data.zero_()\n    return m\n\ndef bn_relu_conv(ni, nf, ks, stride, init_zero=False):\n    bn_initzero = bn(ni, init_zero=init_zero)\n    return nn.Sequential(bn_initzero, nn.ReLU(inplace=True), conv_2d(ni, nf, ks, stride))\n\ndef noop(x): return x\n\nclass BasicBlock(nn.Module):\n    def __init__(self, ni, nf, stride, drop_p=0.0):\n        super().__init__()\n        self.bn = nn.BatchNorm2d(ni)\n        self.conv1 = conv_2d(ni, nf, 3, stride)\n        self.conv2 = bn_relu_conv(nf, nf, 3, 1)\n        self.drop = nn.Dropout(drop_p, inplace=True) if drop_p else None\n        self.shortcut = conv_2d(ni, nf, 1, stride) if ni != nf else noop\n\n    def forward(self, x):\n        x2 = F.relu(self.bn(x), inplace=True)\n        r = self.shortcut(x2)\n        x = self.conv1(x2)\n        if self.drop: x = self.drop(x)\n        x = self.conv2(x) * 0.2\n        return x.add_(r)\n\n\ndef _make_group(N, ni, nf, block, stride, drop_p):\n    return [block(ni if i == 0 else nf, nf, stride if i == 0 else 1, drop_p) for i in range(N)]\n\nclass WideResNet(nn.Module):\n    def __init__(self, num_groups, N, num_classes, k=1, drop_p=0.0, start_nf=16):\n        super().__init__()\n        n_channels = [start_nf]\n        for i in range(num_groups): n_channels.append(start_nf*(2**i)*k)\n\n        layers = [conv_2d(4, n_channels[0], 3, 1)]  # conv1\n        for i in range(num_groups):\n            layers += _make_group(N, n_channels[i], n_channels[i+1], BasicBlock, (1 if i==0 else 2), drop_p)\n\n        layers += [nn.BatchNorm2d(n_channels[3]), nn.ReLU(inplace=True), nn.AdaptiveAvgPool2d(1),\n                   Flatten(), nn.Linear(n_channels[3], num_classes)]\n        layers += [nn.Sigmoid()]\n        self.features = nn.Sequential(*layers)\n\n    def forward(self, x): return self.features(x)\n\n\ndef wrn_22(): return WideResNet(num_groups=3, N=3, num_classes=28, k=6, drop_p=0.)",
      "execution_count": null,
      "outputs": []
    },
    {
      "metadata": {
        "trusted": true,
        "_uuid": "fd6f8d8db8977a57bffbd1ac803bb26499c9f87b"
      },
      "cell_type": "code",
      "source": "",
      "execution_count": null,
      "outputs": []
    },
    {
      "metadata": {
        "trusted": true,
        "_uuid": "ecf4e0652a81a8034109d91d603d0d0b3fecdb0a"
      },
      "cell_type": "code",
      "source": "class ConvBN(nn.Module):\n    \"convolutional layer then batchnorm\"\n\n    def __init__(self, ch_in, ch_out, kernel_size = 3, stride=1, padding=0):\n        super().__init__()\n        self.conv = nn.Conv2d(ch_in, ch_out, kernel_size=kernel_size, stride=stride, padding=padding, bias=False)\n        self.bn = nn.BatchNorm2d(ch_out, momentum=0.01)\n        self.relu = nn.LeakyReLU(0.1, inplace=True)\n\n    def forward(self, x): return self.relu(self.bn(self.conv(x)))",
      "execution_count": null,
      "outputs": []
    },
    {
      "metadata": {
        "trusted": true,
        "_uuid": "a02c2035ee950267564a21000b765b69e7d21ee7"
      },
      "cell_type": "code",
      "source": "class DarknetBlock(nn.Module):\n    def __init__(self, ch_in):\n        super().__init__()\n        ch_hid = ch_in//2\n        self.conv1 = ConvBN(ch_in, ch_hid, kernel_size=1, stride=1, padding=0)\n        self.conv2 = ConvBN(ch_hid, ch_in, kernel_size=3, stride=1, padding=1)\n\n    def forward(self, x): return self.conv2(self.conv1(x)) + x",
      "execution_count": null,
      "outputs": []
    },
    {
      "metadata": {
        "trusted": true,
        "_uuid": "8f4be203e73b30c456c3ae0288d36174d0ec4f04"
      },
      "cell_type": "code",
      "source": "class Darknet(nn.Module):\n    \"Replicates the darknet classifier from the YOLOv3 paper (table 1)\"\n\n    def make_group_layer(self, ch_in, num_blocks, stride=1):\n        layers = [ConvBN(ch_in,ch_in*2,stride=stride)]\n        for i in range(num_blocks): layers.append(DarknetBlock(ch_in*2))\n        return layers\n\n    def __init__(self, num_blocks, num_classes=1000, start_nf=32):\n        super().__init__()\n        nf = start_nf\n        layers = [ConvBN(4, nf, kernel_size=3, stride=1, padding=1)]\n        for i,nb in enumerate(num_blocks):\n            layers += self.make_group_layer(nf, nb, stride=(1 if i==1 else 2))\n            nf *= 2\n        layers += [nn.AdaptiveAvgPool2d(1), Flatten(), nn.Linear(nf, num_classes)]\n        layers += [nn.Sigmoid()]\n        self.layers = nn.Sequential(*layers)\n\n    def forward(self, x): return self.layers(x)",
      "execution_count": null,
      "outputs": []
    },
    {
      "metadata": {
        "trusted": true,
        "_uuid": "c937e712cd9f5326beae44dcfcb4698d42d22c95"
      },
      "cell_type": "code",
      "source": "# m = Darknet([1,2,8,8,4], 28)\nm = wrn_22()",
      "execution_count": null,
      "outputs": []
    },
    {
      "metadata": {
        "trusted": true,
        "_uuid": "1cdc81e975f70e85212a3ed31c118d1833ddfaf2"
      },
      "cell_type": "code",
      "source": "m",
      "execution_count": null,
      "outputs": []
    },
    {
      "metadata": {
        "trusted": true,
        "_uuid": "cf833a0b6c43365f545ea1c363ea7bcd4b1f1741"
      },
      "cell_type": "code",
      "source": "from sklearn.metrics import fbeta_score\nimport warnings\n\ndef f1_(preds, targs, start=0.17, end=0.24, step=0.01):\n    with warnings.catch_warnings():\n        warnings.simplefilter(\"ignore\")\n        return max([fbeta_score(targs, (preds>th), 1, average='samples')\n                    for th in np.arange(start,end,step)])",
      "execution_count": null,
      "outputs": []
    },
    {
      "metadata": {
        "trusted": true,
        "_uuid": "d6dc8c435478e77570d5aa60ff2e3313acc22932"
      },
      "cell_type": "code",
      "source": "md = get_data(128, bs=32)",
      "execution_count": null,
      "outputs": []
    },
    {
      "metadata": {
        "trusted": true,
        "_uuid": "9b0b404ac3941ef5a80f58426df3002b84b3098c"
      },
      "cell_type": "code",
      "source": "learn = Learner.from_model_data(m, md, tmp_name=TMP, models_name=MODEL)\nlearn.crit = nn.BCELoss() #nn.BCEWithLogitsLoss()\nlearn.opt_fn = optim.Adam\nlearn.metrics = [f1_]",
      "execution_count": null,
      "outputs": []
    },
    {
      "metadata": {
        "trusted": true,
        "_uuid": "0ad18d87f30c3266284e331f2def28af39d7631f"
      },
      "cell_type": "code",
      "source": "learn.lr_find()\nlearn.sched.plot_loss()",
      "execution_count": null,
      "outputs": []
    },
    {
      "metadata": {
        "trusted": true,
        "_uuid": "16e3bf6f18fe788ddf487a1493ac1963c633a4ec"
      },
      "cell_type": "code",
      "source": "lr = 1E-2",
      "execution_count": null,
      "outputs": []
    },
    {
      "metadata": {
        "trusted": true,
        "_uuid": "549667fe39a3d057ab919d24d1ebd05e4597b678"
      },
      "cell_type": "code",
      "source": "learn.fit(lr,1,cycle_len=10,use_clr_beta=(10,10, 0.85, 0.9))",
      "execution_count": null,
      "outputs": []
    },
    {
      "metadata": {
        "trusted": true,
        "_uuid": "cd37111e79b85b2332ea843c29cceb59c383b6f2"
      },
      "cell_type": "code",
      "source": "learn.save('128')",
      "execution_count": null,
      "outputs": []
    },
    {
      "metadata": {
        "trusted": true,
        "_uuid": "bcbad45ed5c5a2b570298644278b563a6f108956"
      },
      "cell_type": "code",
      "source": "learn.load('128')",
      "execution_count": null,
      "outputs": []
    },
    {
      "metadata": {
        "trusted": true,
        "_uuid": "c4bee913467a7a8d70dde2472f09636002bb7c92"
      },
      "cell_type": "code",
      "source": "# md = get_data(256, 16)",
      "execution_count": null,
      "outputs": []
    },
    {
      "metadata": {
        "trusted": true,
        "_uuid": "e2596e729cf8efe266515486f49758a7745ce5ee"
      },
      "cell_type": "code",
      "source": "# learn = Learner.from_model_data(m, md, tmp_name=TMP, models_name=MODEL)\n# learn.crit = nn.BCELoss() #nn.BCEWithLogitsLoss()\n# learn.opt_fn = optim.Adam\n# learn.metrics = [f1_]",
      "execution_count": null,
      "outputs": []
    },
    {
      "metadata": {
        "trusted": true,
        "_uuid": "f1b8d2fcf98c925766cd49e339f4403acf5e7f05"
      },
      "cell_type": "code",
      "source": "# learn.fit(lr/10,1,cycle_len=5,use_clr_beta=(10,10, 0.85, 0.9))",
      "execution_count": null,
      "outputs": []
    },
    {
      "metadata": {
        "trusted": true,
        "_uuid": "2d7ebd5ab63babefe7e1fec4b2a3ebc4e04e3567"
      },
      "cell_type": "code",
      "source": "# learn.save('256')",
      "execution_count": null,
      "outputs": []
    },
    {
      "metadata": {
        "trusted": true,
        "_uuid": "a5fd6953b6bfd1dc2566175a0f990c7332772d72"
      },
      "cell_type": "code",
      "source": "# learn.load('256')",
      "execution_count": null,
      "outputs": []
    },
    {
      "metadata": {
        "trusted": true,
        "_uuid": "50b8abba1d9e770f93d7ec8784494e2b031d0c58"
      },
      "cell_type": "code",
      "source": "# md = get_data(512, 4)",
      "execution_count": null,
      "outputs": []
    },
    {
      "metadata": {
        "trusted": true,
        "_uuid": "015486980b62b73dd512e1d18b538bd172b68876"
      },
      "cell_type": "code",
      "source": "# learn = Learner.from_model_data(m, md, tmp_name=TMP, models_name=MODEL)\n# learn.crit = nn.BCELoss() #nn.BCEWithLogitsLoss()\n# learn.opt_fn = optim.Adam\n# learn.metrics = [f1_]",
      "execution_count": null,
      "outputs": []
    },
    {
      "metadata": {
        "trusted": true,
        "_uuid": "840c008365defec3f1df6c946b72192e86ef2834"
      },
      "cell_type": "code",
      "source": "# learn.fit(lr/100,1,cycle_len=5,use_clr_beta=(10,10, 0.85, 0.9))",
      "execution_count": null,
      "outputs": []
    },
    {
      "metadata": {
        "trusted": true,
        "_uuid": "8cdb3b99bd79e47b98abfa1b21d6fc785f141ff9"
      },
      "cell_type": "code",
      "source": "# learn.save('512')",
      "execution_count": null,
      "outputs": []
    },
    {
      "metadata": {
        "trusted": true,
        "_uuid": "07642cfefa9de7ff75c6c1fa0c3114d114dfb7cd"
      },
      "cell_type": "code",
      "source": "preds = learn.predict(is_test=True)",
      "execution_count": null,
      "outputs": []
    },
    {
      "metadata": {
        "trusted": true,
        "_uuid": "d14f7637c015996f27b0da58efc502b772e43e2f"
      },
      "cell_type": "code",
      "source": "threshold = 0.17\nprint(preds.shape)\nclasses = np.array([str(n) for n in range(28)])\nres = np.array([\" \".join(classes[(np.where(pp>threshold))])for pp in preds])",
      "execution_count": null,
      "outputs": []
    },
    {
      "metadata": {
        "trusted": true,
        "_uuid": "4c717a5305006a95b73829b9b67f3851af2fa6af"
      },
      "cell_type": "code",
      "source": "filenames = np.array([os.path.basename(fn).split('.')[0] for fn in test_names])",
      "execution_count": null,
      "outputs": []
    },
    {
      "metadata": {
        "trusted": true,
        "_uuid": "01bedf77ceb3fd749ea7715e9a53eb6d74f5cf83"
      },
      "cell_type": "code",
      "source": "res.shape, filenames.shape",
      "execution_count": null,
      "outputs": []
    },
    {
      "metadata": {
        "trusted": true,
        "_uuid": "30c553b5d14355abf7a67ca6964266e46c906179"
      },
      "cell_type": "code",
      "source": "frame = pd.DataFrame(np.array([filenames, res]).T, columns = ['Id','Predicted'])",
      "execution_count": null,
      "outputs": []
    },
    {
      "metadata": {
        "trusted": true,
        "_uuid": "e93ecf56b1b17e5708072e3410c4c0c86aee4b2c"
      },
      "cell_type": "code",
      "source": "frame.head()",
      "execution_count": null,
      "outputs": []
    },
    {
      "metadata": {
        "trusted": true,
        "_uuid": "24785f511a021607bda3b2dea7516fa48323adb8"
      },
      "cell_type": "code",
      "source": "frame.to_csv('submission.csv', index=False)",
      "execution_count": null,
      "outputs": []
    }
  ],
  "metadata": {
    "kernelspec": {
      "display_name": "Python 3",
      "language": "python",
      "name": "python3"
    },
    "language_info": {
      "name": "python",
      "version": "3.6.6",
      "mimetype": "text/x-python",
      "codemirror_mode": {
        "name": "ipython",
        "version": 3
      },
      "pygments_lexer": "ipython3",
      "nbconvert_exporter": "python",
      "file_extension": ".py"
    }
  },
  "nbformat": 4,
  "nbformat_minor": 1
}