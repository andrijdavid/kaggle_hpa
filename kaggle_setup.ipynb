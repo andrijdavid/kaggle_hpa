{
 "cells": [
  {
   "cell_type": "markdown",
   "metadata": {},
   "source": [
    "# S3"
   ]
  },
  {
   "cell_type": "code",
   "execution_count": 17,
   "metadata": {},
   "outputs": [
    {
     "name": "stdout",
     "output_type": "stream",
     "text": [
      "--2018-10-31 09:11:35--  https://s3.eu-west-3.amazonaws.com/4c-hpa/train.csv\n",
      "Resolving s3.eu-west-3.amazonaws.com (s3.eu-west-3.amazonaws.com)... 52.95.156.1\n",
      "Connecting to s3.eu-west-3.amazonaws.com (s3.eu-west-3.amazonaws.com)|52.95.156.1|:443... connected.\n",
      "HTTP request sent, awaiting response... 200 OK\n",
      "Length: 1274400 (1.2M) [text/csv]\n",
      "Saving to: ‘train.csv’\n",
      "\n",
      "train.csv           100%[===================>]   1.21M   842KB/s    in 1.5s    \n",
      "\n",
      "2018-10-31 09:11:37 (842 KB/s) - ‘train.csv’ saved [1274400/1274400]\n",
      "\n"
     ]
    }
   ],
   "source": [
    "!wget https://s3.eu-west-3.amazonaws.com/4c-hpa/train.csv"
   ]
  },
  {
   "cell_type": "code",
   "execution_count": 15,
   "metadata": {},
   "outputs": [
    {
     "name": "stdout",
     "output_type": "stream",
     "text": [
      "--2018-10-31 09:09:35--  https://s3.eu-west-3.amazonaws.com/4c-hpa/train128.zip\n",
      "Resolving s3.eu-west-3.amazonaws.com (s3.eu-west-3.amazonaws.com)... 52.95.155.1\n",
      "Connecting to s3.eu-west-3.amazonaws.com (s3.eu-west-3.amazonaws.com)|52.95.155.1|:443... connected.\n",
      "HTTP request sent, awaiting response... 200 OK\n",
      "Length: 1079657450 (1.0G) [application/zip]\n",
      "Saving to: ‘train128.zip’\n",
      "\n",
      "train128.zip        100%[===================>]   1.00G  23.1MB/s    in 48s     \n",
      "\n",
      "2018-10-31 09:10:24 (21.4 MB/s) - ‘train128.zip’ saved [1079657450/1079657450]\n",
      "\n",
      "/bin/sh: 1: unzip: not found\n"
     ]
    }
   ],
   "source": [
    "!mkdir train128\n",
    "!wget https://s3.eu-west-3.amazonaws.com/4c-hpa/train128.zip\n",
    "!unzip -q train128.zip -d train128/"
   ]
  },
  {
   "cell_type": "code",
   "execution_count": 16,
   "metadata": {},
   "outputs": [
    {
     "name": "stdout",
     "output_type": "stream",
     "text": [
      "--2018-10-31 09:10:25--  https://s3.eu-west-3.amazonaws.com/4c-hpa/test256.zip\n",
      "Resolving s3.eu-west-3.amazonaws.com (s3.eu-west-3.amazonaws.com)... 52.95.154.21\n",
      "Connecting to s3.eu-west-3.amazonaws.com (s3.eu-west-3.amazonaws.com)|52.95.154.21|:443... connected.\n",
      "HTTP request sent, awaiting response... 200 OK\n",
      "Length: 1391483599 (1.3G) [application/zip]\n",
      "Saving to: ‘test256.zip’\n",
      "\n",
      "test256.zip         100%[===================>]   1.30G  22.0MB/s    in 69s     \n",
      "\n",
      "2018-10-31 09:11:34 (19.3 MB/s) - ‘test256.zip’ saved [1391483599/1391483599]\n",
      "\n",
      "/bin/sh: 1: unzip: not found\n"
     ]
    }
   ],
   "source": [
    "!mkdir test256\n",
    "!wget https://s3.eu-west-3.amazonaws.com/4c-hpa/test256.zip\n",
    "!unzip -q test256.zip -d test256/"
   ]
  },
  {
   "cell_type": "code",
   "execution_count": 19,
   "metadata": {},
   "outputs": [],
   "source": [
    "!rm *.zip"
   ]
  },
  {
   "cell_type": "code",
   "execution_count": 18,
   "metadata": {},
   "outputs": [
    {
     "name": "stdout",
     "output_type": "stream",
     "text": [
      "64.h5          exploring.ipynb      \u001b[0m\u001b[01;34mtest256\u001b[0m/     \u001b[01;34mtrain128\u001b[0m/     wrn.ipynb\r\n",
      "README.md      kaggle_setup.ipynb   test256.zip  train128.zip  wrn_128.h5\r\n",
      "explore.ipynb  paperspace_v1.ipynb  train.csv    vastai.md     wrn_64.h5\r\n"
     ]
    }
   ],
   "source": [
    "ls"
   ]
  },
  {
   "cell_type": "markdown",
   "metadata": {},
   "source": [
    "# Kaggle"
   ]
  },
  {
   "cell_type": "code",
   "execution_count": 8,
   "metadata": {},
   "outputs": [],
   "source": [
    "from kaggle.api.kaggle_api_extended import KaggleApi\n",
    "api = KaggleApi({\"username\":\"tcapelle\",\"key\":\"d9d0a01da391de2a038f3bbfe603e7ad\"})"
   ]
  },
  {
   "cell_type": "code",
   "execution_count": 9,
   "metadata": {},
   "outputs": [],
   "source": [
    "api.authenticate()\n",
    "# api = KaggleApi('copy and paste kaggle.json content here')"
   ]
  },
  {
   "cell_type": "code",
   "execution_count": 10,
   "metadata": {},
   "outputs": [],
   "source": [
    "!chmod 600 /root/.kaggle/kaggle.json"
   ]
  },
  {
   "cell_type": "code",
   "execution_count": 11,
   "metadata": {},
   "outputs": [
    {
     "ename": "ApiException",
     "evalue": "(401)\nReason: Unauthorized\nHTTP response headers: HTTPHeaderDict({'Cache-Control': 'private', 'Content-Length': '37', 'Content-Type': 'application/json; charset=utf-8', 'X-MiniProfiler-Ids': '[\"77bbb2cd-1bea-49e0-907f-26d74fb87dad\",\"9fa86efc-3252-42a7-9fc0-f9aeafdd8623\",\"8e4b2593-e617-4b78-8301-a7681dab584f\",\"5ad3ba9f-2dab-4c9c-84bd-4edb6e532850\",\"9d7c6fe2-41db-4def-91be-72380c9df4dd\",\"ae28b44c-9131-44f1-8815-135a000ef9ed\"]', 'X-Frame-Options': 'SAMEORIGIN', 'Referrer-Policy': 'strict-origin-when-cross-origin', 'Set-Cookie': 'ARRAffinity=d74c4c142eaf3696a0fbe85514b26bd80fb28a344df8f49b6a6126abb83e23d1;Path=/;HttpOnly;Domain=www.kaggle.com', 'Date': 'Wed, 31 Oct 2018 09:08:03 GMT'})\nHTTP response body: {\"code\":401,\"message\":\"Unauthorized\"}\n",
     "output_type": "error",
     "traceback": [
      "\u001b[0;31m\u001b[0m",
      "\u001b[0;31mApiException\u001b[0mTraceback (most recent call last)",
      "\u001b[0;32m<ipython-input-11-047707899de9>\u001b[0m in \u001b[0;36m<module>\u001b[0;34m\u001b[0m\n\u001b[0;32m----> 1\u001b[0;31m \u001b[0mapi\u001b[0m\u001b[0;34m.\u001b[0m\u001b[0mcompetitions_list\u001b[0m\u001b[0;34m(\u001b[0m\u001b[0;34m)\u001b[0m\u001b[0;34m\u001b[0m\u001b[0m\n\u001b[0m",
      "\u001b[0;32m/opt/conda/lib/python3.7/site-packages/kaggle/api/kaggle_api_extended.py\u001b[0m in \u001b[0;36mcompetitions_list\u001b[0;34m(self, group, category, sort_by, page, search)\u001b[0m\n",
      "\u001b[0;32m/opt/conda/lib/python3.7/site-packages/kaggle/api/kaggle_api.py\u001b[0m in \u001b[0;36mcompetitions_list_with_http_info\u001b[0;34m(self, **kwargs)\u001b[0m\n",
      "\u001b[0;32m/opt/conda/lib/python3.7/site-packages/kaggle/api_client.py\u001b[0m in \u001b[0;36mcall_api\u001b[0;34m(self, resource_path, method, path_params, query_params, header_params, body, post_params, files, response_type, auth_settings, async_req, _return_http_data_only, collection_formats, _preload_content, _request_timeout)\u001b[0m\n",
      "\u001b[0;32m/opt/conda/lib/python3.7/site-packages/kaggle/api_client.py\u001b[0m in \u001b[0;36m__call_api\u001b[0;34m(self, resource_path, method, path_params, query_params, header_params, body, post_params, files, response_type, auth_settings, _return_http_data_only, collection_formats, _preload_content, _request_timeout)\u001b[0m\n",
      "\u001b[0;32m/opt/conda/lib/python3.7/site-packages/kaggle/api_client.py\u001b[0m in \u001b[0;36mrequest\u001b[0;34m(self, method, url, query_params, headers, post_params, body, _preload_content, _request_timeout)\u001b[0m\n",
      "\u001b[0;32m/opt/conda/lib/python3.7/site-packages/kaggle/rest.py\u001b[0m in \u001b[0;36mGET\u001b[0;34m(self, url, headers, query_params, _preload_content, _request_timeout)\u001b[0m\n",
      "\u001b[0;32m/opt/conda/lib/python3.7/site-packages/kaggle/rest.py\u001b[0m in \u001b[0;36mrequest\u001b[0;34m(self, method, url, query_params, headers, body, post_params, _preload_content, _request_timeout)\u001b[0m\n",
      "\u001b[0;31mApiException\u001b[0m: (401)\nReason: Unauthorized\nHTTP response headers: HTTPHeaderDict({'Cache-Control': 'private', 'Content-Length': '37', 'Content-Type': 'application/json; charset=utf-8', 'X-MiniProfiler-Ids': '[\"77bbb2cd-1bea-49e0-907f-26d74fb87dad\",\"9fa86efc-3252-42a7-9fc0-f9aeafdd8623\",\"8e4b2593-e617-4b78-8301-a7681dab584f\",\"5ad3ba9f-2dab-4c9c-84bd-4edb6e532850\",\"9d7c6fe2-41db-4def-91be-72380c9df4dd\",\"ae28b44c-9131-44f1-8815-135a000ef9ed\"]', 'X-Frame-Options': 'SAMEORIGIN', 'Referrer-Policy': 'strict-origin-when-cross-origin', 'Set-Cookie': 'ARRAffinity=d74c4c142eaf3696a0fbe85514b26bd80fb28a344df8f49b6a6126abb83e23d1;Path=/;HttpOnly;Domain=www.kaggle.com', 'Date': 'Wed, 31 Oct 2018 09:08:03 GMT'})\nHTTP response body: {\"code\":401,\"message\":\"Unauthorized\"}\n"
     ]
    }
   ],
   "source": [
    "api.competitions_list()"
   ]
  },
  {
   "cell_type": "code",
   "execution_count": 12,
   "metadata": {},
   "outputs": [
    {
     "ename": "ApiException",
     "evalue": "(401)\nReason: Unauthorized\nHTTP response headers: HTTPHeaderDict({'Cache-Control': 'private', 'Content-Length': '37', 'Content-Type': 'application/json; charset=utf-8', 'X-MiniProfiler-Ids': '[\"b91cf719-4183-4d8b-8b40-52e569a96c78\",\"2d67fe23-b746-4549-b002-3b4ba4392e4b\",\"bbad7374-f7bf-4e0a-8a55-1a131832c2d5\",\"c4149b95-4085-4749-a211-e290018f920f\",\"b5bdb015-4c64-4320-baf4-f2af1720b106\",\"eb4f0d36-2e18-4695-8518-485cd895fe94\"]', 'X-Frame-Options': 'SAMEORIGIN', 'Referrer-Policy': 'strict-origin-when-cross-origin', 'Set-Cookie': 'ARRAffinity=7406707089e36c76511069e302665a115a9d662346c50c8b5663561620a7f404;Path=/;HttpOnly;Domain=www.kaggle.com', 'Date': 'Wed, 31 Oct 2018 09:08:10 GMT'})\nHTTP response body: {\"code\":401,\"message\":\"Unauthorized\"}\n",
     "output_type": "error",
     "traceback": [
      "\u001b[0;31m\u001b[0m",
      "\u001b[0;31mApiException\u001b[0mTraceback (most recent call last)",
      "\u001b[0;32m<ipython-input-12-b3f4e5fba252>\u001b[0m in \u001b[0;36m<module>\u001b[0;34m\u001b[0m\n\u001b[0;32m----> 1\u001b[0;31m \u001b[0mapi\u001b[0m\u001b[0;34m.\u001b[0m\u001b[0mcompetition_list_files\u001b[0m\u001b[0;34m(\u001b[0m\u001b[0;34m'human-protein-atlas-image-classification'\u001b[0m\u001b[0;34m)\u001b[0m\u001b[0;34m\u001b[0m\u001b[0m\n\u001b[0m",
      "\u001b[0;32m/opt/conda/lib/python3.7/site-packages/kaggle/api/kaggle_api_extended.py\u001b[0m in \u001b[0;36mcompetition_list_files\u001b[0;34m(self, competition)\u001b[0m\n",
      "\u001b[0;32m/opt/conda/lib/python3.7/site-packages/kaggle/api/kaggle_api.py\u001b[0m in \u001b[0;36mcompetitions_data_list_files_with_http_info\u001b[0;34m(self, id, **kwargs)\u001b[0m\n",
      "\u001b[0;32m/opt/conda/lib/python3.7/site-packages/kaggle/api_client.py\u001b[0m in \u001b[0;36mcall_api\u001b[0;34m(self, resource_path, method, path_params, query_params, header_params, body, post_params, files, response_type, auth_settings, async_req, _return_http_data_only, collection_formats, _preload_content, _request_timeout)\u001b[0m\n",
      "\u001b[0;32m/opt/conda/lib/python3.7/site-packages/kaggle/api_client.py\u001b[0m in \u001b[0;36m__call_api\u001b[0;34m(self, resource_path, method, path_params, query_params, header_params, body, post_params, files, response_type, auth_settings, _return_http_data_only, collection_formats, _preload_content, _request_timeout)\u001b[0m\n",
      "\u001b[0;32m/opt/conda/lib/python3.7/site-packages/kaggle/api_client.py\u001b[0m in \u001b[0;36mrequest\u001b[0;34m(self, method, url, query_params, headers, post_params, body, _preload_content, _request_timeout)\u001b[0m\n",
      "\u001b[0;32m/opt/conda/lib/python3.7/site-packages/kaggle/rest.py\u001b[0m in \u001b[0;36mGET\u001b[0;34m(self, url, headers, query_params, _preload_content, _request_timeout)\u001b[0m\n",
      "\u001b[0;32m/opt/conda/lib/python3.7/site-packages/kaggle/rest.py\u001b[0m in \u001b[0;36mrequest\u001b[0;34m(self, method, url, query_params, headers, body, post_params, _preload_content, _request_timeout)\u001b[0m\n",
      "\u001b[0;31mApiException\u001b[0m: (401)\nReason: Unauthorized\nHTTP response headers: HTTPHeaderDict({'Cache-Control': 'private', 'Content-Length': '37', 'Content-Type': 'application/json; charset=utf-8', 'X-MiniProfiler-Ids': '[\"b91cf719-4183-4d8b-8b40-52e569a96c78\",\"2d67fe23-b746-4549-b002-3b4ba4392e4b\",\"bbad7374-f7bf-4e0a-8a55-1a131832c2d5\",\"c4149b95-4085-4749-a211-e290018f920f\",\"b5bdb015-4c64-4320-baf4-f2af1720b106\",\"eb4f0d36-2e18-4695-8518-485cd895fe94\"]', 'X-Frame-Options': 'SAMEORIGIN', 'Referrer-Policy': 'strict-origin-when-cross-origin', 'Set-Cookie': 'ARRAffinity=7406707089e36c76511069e302665a115a9d662346c50c8b5663561620a7f404;Path=/;HttpOnly;Domain=www.kaggle.com', 'Date': 'Wed, 31 Oct 2018 09:08:10 GMT'})\nHTTP response body: {\"code\":401,\"message\":\"Unauthorized\"}\n"
     ]
    }
   ],
   "source": [
    "api.competition_list_files('human-protein-atlas-image-classification')"
   ]
  },
  {
   "cell_type": "code",
   "execution_count": 13,
   "metadata": {},
   "outputs": [
    {
     "ename": "ApiException",
     "evalue": "(401)\nReason: Unauthorized\nHTTP response headers: HTTPHeaderDict({'Cache-Control': 'private', 'Content-Length': '37', 'Content-Type': 'application/json; charset=utf-8', 'X-MiniProfiler-Ids': '[\"2d67fe23-b746-4549-b002-3b4ba4392e4b\",\"bbad7374-f7bf-4e0a-8a55-1a131832c2d5\",\"c4149b95-4085-4749-a211-e290018f920f\",\"b5bdb015-4c64-4320-baf4-f2af1720b106\",\"eb4f0d36-2e18-4695-8518-485cd895fe94\",\"2b935641-7fb2-4493-aa27-a8221d6c05fd\"]', 'X-Frame-Options': 'SAMEORIGIN', 'Referrer-Policy': 'strict-origin-when-cross-origin', 'Set-Cookie': 'ARRAffinity=7406707089e36c76511069e302665a115a9d662346c50c8b5663561620a7f404;Path=/;HttpOnly;Domain=www.kaggle.com', 'Date': 'Wed, 31 Oct 2018 09:08:11 GMT'})\nHTTP response body: {\"code\":401,\"message\":\"Unauthorized\"}\n",
     "output_type": "error",
     "traceback": [
      "\u001b[0;31m\u001b[0m",
      "\u001b[0;31mApiException\u001b[0mTraceback (most recent call last)",
      "\u001b[0;32m<ipython-input-13-b4e7988930c4>\u001b[0m in \u001b[0;36m<module>\u001b[0;34m\u001b[0m\n\u001b[0;32m----> 1\u001b[0;31m \u001b[0mfiles\u001b[0m \u001b[0;34m=\u001b[0m \u001b[0mapi\u001b[0m\u001b[0;34m.\u001b[0m\u001b[0mcompetition_download_files\u001b[0m\u001b[0;34m(\u001b[0m\u001b[0;34m\"human-protein-atlas-image-classification\"\u001b[0m\u001b[0;34m)\u001b[0m\u001b[0;34m\u001b[0m\u001b[0m\n\u001b[0m",
      "\u001b[0;32m/opt/conda/lib/python3.7/site-packages/kaggle/api/kaggle_api_extended.py\u001b[0m in \u001b[0;36mcompetition_download_files\u001b[0;34m(self, competition, path, force, quiet)\u001b[0m\n",
      "\u001b[0;32m/opt/conda/lib/python3.7/site-packages/kaggle/api/kaggle_api_extended.py\u001b[0m in \u001b[0;36mcompetition_list_files\u001b[0;34m(self, competition)\u001b[0m\n",
      "\u001b[0;32m/opt/conda/lib/python3.7/site-packages/kaggle/api/kaggle_api.py\u001b[0m in \u001b[0;36mcompetitions_data_list_files_with_http_info\u001b[0;34m(self, id, **kwargs)\u001b[0m\n",
      "\u001b[0;32m/opt/conda/lib/python3.7/site-packages/kaggle/api_client.py\u001b[0m in \u001b[0;36mcall_api\u001b[0;34m(self, resource_path, method, path_params, query_params, header_params, body, post_params, files, response_type, auth_settings, async_req, _return_http_data_only, collection_formats, _preload_content, _request_timeout)\u001b[0m\n",
      "\u001b[0;32m/opt/conda/lib/python3.7/site-packages/kaggle/api_client.py\u001b[0m in \u001b[0;36m__call_api\u001b[0;34m(self, resource_path, method, path_params, query_params, header_params, body, post_params, files, response_type, auth_settings, _return_http_data_only, collection_formats, _preload_content, _request_timeout)\u001b[0m\n",
      "\u001b[0;32m/opt/conda/lib/python3.7/site-packages/kaggle/api_client.py\u001b[0m in \u001b[0;36mrequest\u001b[0;34m(self, method, url, query_params, headers, post_params, body, _preload_content, _request_timeout)\u001b[0m\n",
      "\u001b[0;32m/opt/conda/lib/python3.7/site-packages/kaggle/rest.py\u001b[0m in \u001b[0;36mGET\u001b[0;34m(self, url, headers, query_params, _preload_content, _request_timeout)\u001b[0m\n",
      "\u001b[0;32m/opt/conda/lib/python3.7/site-packages/kaggle/rest.py\u001b[0m in \u001b[0;36mrequest\u001b[0;34m(self, method, url, query_params, headers, body, post_params, _preload_content, _request_timeout)\u001b[0m\n",
      "\u001b[0;31mApiException\u001b[0m: (401)\nReason: Unauthorized\nHTTP response headers: HTTPHeaderDict({'Cache-Control': 'private', 'Content-Length': '37', 'Content-Type': 'application/json; charset=utf-8', 'X-MiniProfiler-Ids': '[\"2d67fe23-b746-4549-b002-3b4ba4392e4b\",\"bbad7374-f7bf-4e0a-8a55-1a131832c2d5\",\"c4149b95-4085-4749-a211-e290018f920f\",\"b5bdb015-4c64-4320-baf4-f2af1720b106\",\"eb4f0d36-2e18-4695-8518-485cd895fe94\",\"2b935641-7fb2-4493-aa27-a8221d6c05fd\"]', 'X-Frame-Options': 'SAMEORIGIN', 'Referrer-Policy': 'strict-origin-when-cross-origin', 'Set-Cookie': 'ARRAffinity=7406707089e36c76511069e302665a115a9d662346c50c8b5663561620a7f404;Path=/;HttpOnly;Domain=www.kaggle.com', 'Date': 'Wed, 31 Oct 2018 09:08:11 GMT'})\nHTTP response body: {\"code\":401,\"message\":\"Unauthorized\"}\n"
     ]
    }
   ],
   "source": [
    "files = api.competition_download_files(\"human-protein-atlas-image-classification\")"
   ]
  },
  {
   "cell_type": "code",
   "execution_count": null,
   "metadata": {},
   "outputs": [],
   "source": []
  }
 ],
 "metadata": {
  "kernelspec": {
   "display_name": "Python 3",
   "language": "python",
   "name": "python3"
  },
  "language_info": {
   "codemirror_mode": {
    "name": "ipython",
    "version": 3
   },
   "file_extension": ".py",
   "mimetype": "text/x-python",
   "name": "python",
   "nbconvert_exporter": "python",
   "pygments_lexer": "ipython3",
   "version": "3.7.0"
  }
 },
 "nbformat": 4,
 "nbformat_minor": 2
}
