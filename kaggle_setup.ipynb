{
 "cells": [
  {
   "cell_type": "markdown",
   "metadata": {},
   "source": [
    "# S3"
   ]
  },
  {
   "cell_type": "markdown",
   "metadata": {},
   "source": [
    "remeber to install unzip !"
   ]
  },
  {
   "cell_type": "markdown",
   "metadata": {},
   "source": [
    "## csv"
   ]
  },
  {
   "cell_type": "code",
   "execution_count": 17,
   "metadata": {},
   "outputs": [
    {
     "name": "stdout",
     "output_type": "stream",
     "text": [
      "--2018-10-31 09:11:35--  https://s3.eu-west-3.amazonaws.com/4c-hpa/train.csv\n",
      "Resolving s3.eu-west-3.amazonaws.com (s3.eu-west-3.amazonaws.com)... 52.95.156.1\n",
      "Connecting to s3.eu-west-3.amazonaws.com (s3.eu-west-3.amazonaws.com)|52.95.156.1|:443... connected.\n",
      "HTTP request sent, awaiting response... 200 OK\n",
      "Length: 1274400 (1.2M) [text/csv]\n",
      "Saving to: ‘train.csv’\n",
      "\n",
      "train.csv           100%[===================>]   1.21M   842KB/s    in 1.5s    \n",
      "\n",
      "2018-10-31 09:11:37 (842 KB/s) - ‘train.csv’ saved [1274400/1274400]\n",
      "\n"
     ]
    }
   ],
   "source": [
    "!wget https://s3.eu-west-3.amazonaws.com/4c-hpa/train.csv"
   ]
  },
  {
   "cell_type": "code",
   "execution_count": 26,
   "metadata": {},
   "outputs": [
    {
     "name": "stdout",
     "output_type": "stream",
     "text": [
      "--2018-10-31 09:16:53--  https://s3.eu-west-3.amazonaws.com/4c-hpa/sample_submission.csv\n",
      "Resolving s3.eu-west-3.amazonaws.com (s3.eu-west-3.amazonaws.com)... 52.95.155.5\n",
      "Connecting to s3.eu-west-3.amazonaws.com (s3.eu-west-3.amazonaws.com)|52.95.155.5|:443... connected.\n",
      "HTTP request sent, awaiting response... 200 OK\n",
      "Length: 456391 (446K) [text/csv]\n",
      "Saving to: ‘sample_submission.csv’\n",
      "\n",
      "sample_submission.c 100%[===================>] 445.69K   455KB/s    in 1.0s    \n",
      "\n",
      "2018-10-31 09:16:55 (455 KB/s) - ‘sample_submission.csv’ saved [456391/456391]\n",
      "\n"
     ]
    }
   ],
   "source": [
    "!wget https://s3.eu-west-3.amazonaws.com/4c-hpa/sample_submission.csv"
   ]
  },
  {
   "cell_type": "markdown",
   "metadata": {},
   "source": [
    "## 64"
   ]
  },
  {
   "cell_type": "code",
   "execution_count": 31,
   "metadata": {},
   "outputs": [],
   "source": [
    "!mkdir train64\n",
    "!wget https://s3.eu-west-3.amazonaws.com/4c-hpa/train64.zip"
   ]
  },
  {
   "cell_type": "code",
   "execution_count": 32,
   "metadata": {},
   "outputs": [],
   "source": [
    "!unzip -q train64.zip -d train64/"
   ]
  },
  {
   "cell_type": "code",
   "execution_count": 27,
   "metadata": {},
   "outputs": [
    {
     "name": "stdout",
     "output_type": "stream",
     "text": [
      "mkdir: cannot create directory ‘train128’: File exists\n",
      "--2018-10-31 09:19:23--  https://s3.eu-west-3.amazonaws.com/4c-hpa/train128.zip\n",
      "Resolving s3.eu-west-3.amazonaws.com (s3.eu-west-3.amazonaws.com)... 52.95.156.13\n",
      "Connecting to s3.eu-west-3.amazonaws.com (s3.eu-west-3.amazonaws.com)|52.95.156.13|:443... connected.\n",
      "HTTP request sent, awaiting response... 200 OK\n",
      "Length: 1079657450 (1.0G) [application/zip]\n",
      "Saving to: ‘train128.zip’\n",
      "\n",
      "train128.zip        100%[===================>]   1.00G  18.2MB/s    in 55s     \n",
      "\n",
      "2018-10-31 09:20:19 (18.7 MB/s) - ‘train128.zip’ saved [1079657450/1079657450]\n",
      "\n"
     ]
    }
   ],
   "source": [
    "!mkdir train128\n",
    "!wget https://s3.eu-west-3.amazonaws.com/4c-hpa/train128.zip"
   ]
  },
  {
   "cell_type": "markdown",
   "metadata": {},
   "source": [
    "## 128"
   ]
  },
  {
   "cell_type": "code",
   "execution_count": null,
   "metadata": {},
   "outputs": [],
   "source": [
    "!unzip -q train128.zip -d train128/"
   ]
  },
  {
   "cell_type": "markdown",
   "metadata": {},
   "source": [
    "## 256"
   ]
  },
  {
   "cell_type": "code",
   "execution_count": 36,
   "metadata": {},
   "outputs": [
    {
     "name": "stdout",
     "output_type": "stream",
     "text": [
      "--2018-10-31 14:59:03--  https://s3.eu-west-3.amazonaws.com/4c-hpa/train256.zip\n",
      "Resolving s3.eu-west-3.amazonaws.com (s3.eu-west-3.amazonaws.com)... 52.95.154.21\n",
      "Connecting to s3.eu-west-3.amazonaws.com (s3.eu-west-3.amazonaws.com)|52.95.154.21|:443... connected.\n",
      "HTTP request sent, awaiting response... 200 OK\n",
      "Length: 4112433599 (3.8G) [application/zip]\n",
      "Saving to: ‘train256.zip’\n",
      "\n",
      "train256.zip        100%[===================>]   3.83G  22.8MB/s    in 2m 56s  \n",
      "\n",
      "2018-10-31 15:02:00 (22.3 MB/s) - ‘train256.zip’ saved [4112433599/4112433599]\n",
      "\n"
     ]
    }
   ],
   "source": [
    "!mkdir train256\n",
    "!wget https://s3.eu-west-3.amazonaws.com/4c-hpa/train256.zip"
   ]
  },
  {
   "cell_type": "code",
   "execution_count": 37,
   "metadata": {},
   "outputs": [],
   "source": [
    "!unzip -q train256.zip -d train256/"
   ]
  },
  {
   "cell_type": "code",
   "execution_count": 28,
   "metadata": {},
   "outputs": [
    {
     "name": "stdout",
     "output_type": "stream",
     "text": [
      "mkdir: cannot create directory ‘test256’: File exists\n",
      "--2018-10-31 09:21:04--  https://s3.eu-west-3.amazonaws.com/4c-hpa/test256.zip\n",
      "Resolving s3.eu-west-3.amazonaws.com (s3.eu-west-3.amazonaws.com)... 52.95.156.17\n",
      "Connecting to s3.eu-west-3.amazonaws.com (s3.eu-west-3.amazonaws.com)|52.95.156.17|:443... connected.\n",
      "HTTP request sent, awaiting response... 200 OK\n",
      "Length: 1391483599 (1.3G) [application/zip]\n",
      "Saving to: ‘test256.zip’\n",
      "\n",
      "test256.zip         100%[===================>]   1.30G  24.5MB/s    in 59s     \n",
      "\n",
      "2018-10-31 09:22:03 (22.6 MB/s) - ‘test256.zip’ saved [1391483599/1391483599]\n",
      "\n"
     ]
    }
   ],
   "source": [
    "!mkdir test256\n",
    "!wget https://s3.eu-west-3.amazonaws.com/4c-hpa/test256.zip"
   ]
  },
  {
   "cell_type": "code",
   "execution_count": 29,
   "metadata": {},
   "outputs": [],
   "source": [
    "!unzip -q test256.zip -d test256/"
   ]
  },
  {
   "cell_type": "code",
   "execution_count": 38,
   "metadata": {},
   "outputs": [],
   "source": [
    "!rm *.zip"
   ]
  },
  {
   "cell_type": "code",
   "execution_count": 39,
   "metadata": {},
   "outputs": [
    {
     "name": "stdout",
     "output_type": "stream",
     "text": [
      "README.md              my_submission.csv      train.csv  \u001b[0m\u001b[01;34mv0.7\u001b[0m/\r\n",
      "kaggle_setup.ipynb     paperspace_v1.ipynb    \u001b[01;34mtrain128\u001b[0m/  vastai.md\r\n",
      "\u001b[01;34mmodels\u001b[0m/                sample_submission.csv  \u001b[01;34mtrain256\u001b[0m/\r\n",
      "my_new_submission.csv  \u001b[01;34mtest256\u001b[0m/               \u001b[01;34mtrain64\u001b[0m/\r\n"
     ]
    }
   ],
   "source": [
    "ls"
   ]
  },
  {
   "cell_type": "markdown",
   "metadata": {},
   "source": [
    "# Kaggle"
   ]
  },
  {
   "cell_type": "markdown",
   "metadata": {},
   "source": [
    "not working all the time.... needs debug"
   ]
  },
  {
   "cell_type": "code",
   "execution_count": 4,
   "metadata": {},
   "outputs": [],
   "source": [
    "from kaggle.api.kaggle_api_extended import KaggleApi\n",
    "api = KaggleApi()"
   ]
  },
  {
   "cell_type": "code",
   "execution_count": 5,
   "metadata": {},
   "outputs": [],
   "source": [
    "api.authenticate()\n",
    "# api = KaggleApi('copy and paste kaggle.json content here')"
   ]
  },
  {
   "cell_type": "code",
   "execution_count": 3,
   "metadata": {},
   "outputs": [],
   "source": [
    "!chmod 600 /root/.kaggle/kaggle.json"
   ]
  },
  {
   "cell_type": "code",
   "execution_count": 6,
   "metadata": {},
   "outputs": [
    {
     "data": {
      "text/plain": [
       "[digit-recognizer,\n",
       " titanic,\n",
       " house-prices-advanced-regression-techniques,\n",
       " imagenet-object-localization-challenge,\n",
       " competitive-data-science-predict-future-sales,\n",
       " pubg-finish-placement-prediction,\n",
       " human-protein-atlas-image-classification,\n",
       " two-sigma-financial-news,\n",
       " PLAsTiCC-2018,\n",
       " quickdraw-doodle-recognition,\n",
       " ga-customer-revenue-prediction,\n",
       " airbus-ship-detection,\n",
       " inclusive-images-challenge,\n",
       " rsna-pneumonia-detection-challenge,\n",
       " tgs-salt-identification-challenge,\n",
       " new-york-city-taxi-fare-prediction,\n",
       " forest-cover-type-kernels-only,\n",
       " demand-forecasting-kernels-only,\n",
       " whats-cooking-kernels-only,\n",
       " flavours-of-physics-kernels-only]"
      ]
     },
     "execution_count": 6,
     "metadata": {},
     "output_type": "execute_result"
    }
   ],
   "source": [
    "api.competitions_list()"
   ]
  },
  {
   "cell_type": "code",
   "execution_count": 13,
   "metadata": {},
   "outputs": [
    {
     "data": {
      "text/plain": [
       "[sample_submission.csv, train.csv, test.zip, train.zip]"
      ]
     },
     "execution_count": 13,
     "metadata": {},
     "output_type": "execute_result"
    }
   ],
   "source": [
    "api.competition_list_files('human-protein-atlas-image-classification')"
   ]
  },
  {
   "cell_type": "code",
   "execution_count": 14,
   "metadata": {},
   "outputs": [
    {
     "name": "stdout",
     "output_type": "stream",
     "text": [
      "README.md              my_submission.csv        train.csv  \u001b[0m\u001b[01;34mv0.7\u001b[0m/\r\n",
      "\u001b[01;34m__pycache__\u001b[0m/           paperspace_v1.ipynb      \u001b[01;34mtrain128\u001b[0m/  vastai.md\r\n",
      "kaggle_setup.ipynb     reading_4_channel.ipynb  \u001b[01;34mtrain256\u001b[0m/  wrn4.py\r\n",
      "\u001b[01;34mmodels\u001b[0m/                sample_submission.csv    \u001b[01;34mtrain64\u001b[0m/\r\n",
      "my_new_submission.csv  \u001b[01;34mtest256\u001b[0m/                 utils.py\r\n"
     ]
    }
   ],
   "source": [
    "ls"
   ]
  },
  {
   "cell_type": "code",
   "execution_count": null,
   "metadata": {},
   "outputs": [],
   "source": [
    "files = api.competition_download_files(\"human-protein-atlas-image-classification\")"
   ]
  },
  {
   "cell_type": "code",
   "execution_count": 7,
   "metadata": {},
   "outputs": [],
   "source": [
    "!mkdir train"
   ]
  },
  {
   "cell_type": "code",
   "execution_count": 11,
   "metadata": {},
   "outputs": [],
   "source": [
    "!unzip -q train.zip -d train/"
   ]
  },
  {
   "cell_type": "code",
   "execution_count": 12,
   "metadata": {},
   "outputs": [],
   "source": [
    "!rm train.zip"
   ]
  },
  {
   "cell_type": "code",
   "execution_count": 8,
   "metadata": {},
   "outputs": [],
   "source": [
    "!mkdir test"
   ]
  },
  {
   "cell_type": "code",
   "execution_count": 9,
   "metadata": {},
   "outputs": [],
   "source": [
    "!unzip -q test.zip -d test/"
   ]
  },
  {
   "cell_type": "code",
   "execution_count": 10,
   "metadata": {},
   "outputs": [],
   "source": [
    "!rm test.zip"
   ]
  },
  {
   "cell_type": "code",
   "execution_count": null,
   "metadata": {},
   "outputs": [],
   "source": []
  }
 ],
 "metadata": {
  "kernelspec": {
   "display_name": "Python 3",
   "language": "python",
   "name": "python3"
  },
  "language_info": {
   "codemirror_mode": {
    "name": "ipython",
    "version": 3
   },
   "file_extension": ".py",
   "mimetype": "text/x-python",
   "name": "python",
   "nbconvert_exporter": "python",
   "pygments_lexer": "ipython3",
   "version": "3.7.0"
  }
 },
 "nbformat": 4,
 "nbformat_minor": 2
}
