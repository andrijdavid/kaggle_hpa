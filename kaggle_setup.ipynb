{
 "cells": [
  {
   "cell_type": "markdown",
   "metadata": {},
   "source": [
    "# S3"
   ]
  },
  {
   "cell_type": "markdown",
   "metadata": {},
   "source": [
    "remeber to install unzip !"
   ]
  },
  {
   "cell_type": "code",
   "execution_count": 17,
   "metadata": {},
   "outputs": [
    {
     "name": "stdout",
     "output_type": "stream",
     "text": [
      "--2018-10-31 09:11:35--  https://s3.eu-west-3.amazonaws.com/4c-hpa/train.csv\n",
      "Resolving s3.eu-west-3.amazonaws.com (s3.eu-west-3.amazonaws.com)... 52.95.156.1\n",
      "Connecting to s3.eu-west-3.amazonaws.com (s3.eu-west-3.amazonaws.com)|52.95.156.1|:443... connected.\n",
      "HTTP request sent, awaiting response... 200 OK\n",
      "Length: 1274400 (1.2M) [text/csv]\n",
      "Saving to: ‘train.csv’\n",
      "\n",
      "train.csv           100%[===================>]   1.21M   842KB/s    in 1.5s    \n",
      "\n",
      "2018-10-31 09:11:37 (842 KB/s) - ‘train.csv’ saved [1274400/1274400]\n",
      "\n"
     ]
    }
   ],
   "source": [
    "!wget https://s3.eu-west-3.amazonaws.com/4c-hpa/train.csv"
   ]
  },
  {
   "cell_type": "code",
   "execution_count": 26,
   "metadata": {},
   "outputs": [
    {
     "name": "stdout",
     "output_type": "stream",
     "text": [
      "--2018-10-31 09:16:53--  https://s3.eu-west-3.amazonaws.com/4c-hpa/sample_submission.csv\n",
      "Resolving s3.eu-west-3.amazonaws.com (s3.eu-west-3.amazonaws.com)... 52.95.155.5\n",
      "Connecting to s3.eu-west-3.amazonaws.com (s3.eu-west-3.amazonaws.com)|52.95.155.5|:443... connected.\n",
      "HTTP request sent, awaiting response... 200 OK\n",
      "Length: 456391 (446K) [text/csv]\n",
      "Saving to: ‘sample_submission.csv’\n",
      "\n",
      "sample_submission.c 100%[===================>] 445.69K   455KB/s    in 1.0s    \n",
      "\n",
      "2018-10-31 09:16:55 (455 KB/s) - ‘sample_submission.csv’ saved [456391/456391]\n",
      "\n"
     ]
    }
   ],
   "source": [
    "!wget https://s3.eu-west-3.amazonaws.com/4c-hpa/sample_submission.csv"
   ]
  },
  {
   "cell_type": "code",
   "execution_count": 31,
   "metadata": {},
   "outputs": [],
   "source": [
    "!mkdir train64\n",
    "!wget https://s3.eu-west-3.amazonaws.com/4c-hpa/train64.zip"
   ]
  },
  {
   "cell_type": "code",
   "execution_count": 32,
   "metadata": {},
   "outputs": [],
   "source": [
    "!unzip -q train64.zip -d train64/"
   ]
  },
  {
   "cell_type": "code",
   "execution_count": 27,
   "metadata": {},
   "outputs": [
    {
     "name": "stdout",
     "output_type": "stream",
     "text": [
      "mkdir: cannot create directory ‘train128’: File exists\n",
      "--2018-10-31 09:19:23--  https://s3.eu-west-3.amazonaws.com/4c-hpa/train128.zip\n",
      "Resolving s3.eu-west-3.amazonaws.com (s3.eu-west-3.amazonaws.com)... 52.95.156.13\n",
      "Connecting to s3.eu-west-3.amazonaws.com (s3.eu-west-3.amazonaws.com)|52.95.156.13|:443... connected.\n",
      "HTTP request sent, awaiting response... 200 OK\n",
      "Length: 1079657450 (1.0G) [application/zip]\n",
      "Saving to: ‘train128.zip’\n",
      "\n",
      "train128.zip        100%[===================>]   1.00G  18.2MB/s    in 55s     \n",
      "\n",
      "2018-10-31 09:20:19 (18.7 MB/s) - ‘train128.zip’ saved [1079657450/1079657450]\n",
      "\n"
     ]
    }
   ],
   "source": [
    "!mkdir train128\n",
    "!wget https://s3.eu-west-3.amazonaws.com/4c-hpa/train128.zip"
   ]
  },
  {
   "cell_type": "code",
   "execution_count": null,
   "metadata": {},
   "outputs": [],
   "source": [
    "!unzip -q train128.zip -d train128/"
   ]
  },
  {
   "cell_type": "code",
   "execution_count": 28,
   "metadata": {},
   "outputs": [
    {
     "name": "stdout",
     "output_type": "stream",
     "text": [
      "mkdir: cannot create directory ‘test256’: File exists\n",
      "--2018-10-31 09:21:04--  https://s3.eu-west-3.amazonaws.com/4c-hpa/test256.zip\n",
      "Resolving s3.eu-west-3.amazonaws.com (s3.eu-west-3.amazonaws.com)... 52.95.156.17\n",
      "Connecting to s3.eu-west-3.amazonaws.com (s3.eu-west-3.amazonaws.com)|52.95.156.17|:443... connected.\n",
      "HTTP request sent, awaiting response... 200 OK\n",
      "Length: 1391483599 (1.3G) [application/zip]\n",
      "Saving to: ‘test256.zip’\n",
      "\n",
      "test256.zip         100%[===================>]   1.30G  24.5MB/s    in 59s     \n",
      "\n",
      "2018-10-31 09:22:03 (22.6 MB/s) - ‘test256.zip’ saved [1391483599/1391483599]\n",
      "\n"
     ]
    }
   ],
   "source": [
    "!mkdir test256\n",
    "!wget https://s3.eu-west-3.amazonaws.com/4c-hpa/test256.zip"
   ]
  },
  {
   "cell_type": "code",
   "execution_count": 29,
   "metadata": {},
   "outputs": [],
   "source": [
    "!unzip -q test256.zip -d test256/"
   ]
  },
  {
   "cell_type": "code",
   "execution_count": 33,
   "metadata": {},
   "outputs": [],
   "source": [
    "!rm *.zip"
   ]
  },
  {
   "cell_type": "code",
   "execution_count": 34,
   "metadata": {},
   "outputs": [
    {
     "name": "stdout",
     "output_type": "stream",
     "text": [
      "64.h5            kaggle_setup.ipynb     \u001b[0m\u001b[01;34mtest256\u001b[0m/   vastai.md\r\n",
      "README.md        \u001b[01;34mmodels\u001b[0m/                train.csv  wrn.ipynb\r\n",
      "explore.ipynb    paperspace_v1.ipynb    \u001b[01;34mtrain128\u001b[0m/  wrn_128.h5\r\n",
      "exploring.ipynb  sample_submission.csv  \u001b[01;34mtrain64\u001b[0m/   wrn_64.h5\r\n"
     ]
    }
   ],
   "source": [
    "ls"
   ]
  },
  {
   "cell_type": "markdown",
   "metadata": {},
   "source": [
    "# Kaggle"
   ]
  },
  {
   "cell_type": "markdown",
   "metadata": {},
   "source": [
    "not working all the time.... needs debug"
   ]
  },
  {
   "cell_type": "code",
   "execution_count": 21,
   "metadata": {},
   "outputs": [],
   "source": [
    "from kaggle.api.kaggle_api_extended import KaggleApi\n",
    "api = KaggleApi({\"username\":\"tcapelle\",\"key\":\"d9d0a01da391de2a038f3bbfe603e7ad\"})"
   ]
  },
  {
   "cell_type": "code",
   "execution_count": 22,
   "metadata": {},
   "outputs": [],
   "source": [
    "api.authenticate()\n",
    "# api = KaggleApi('copy and paste kaggle.json content here')"
   ]
  },
  {
   "cell_type": "code",
   "execution_count": 23,
   "metadata": {},
   "outputs": [],
   "source": [
    "!chmod 600 /root/.kaggle/kaggle.json"
   ]
  },
  {
   "cell_type": "code",
   "execution_count": 25,
   "metadata": {},
   "outputs": [
    {
     "ename": "ApiException",
     "evalue": "(401)\nReason: Unauthorized\nHTTP response headers: HTTPHeaderDict({'Cache-Control': 'private', 'Content-Length': '37', 'Content-Type': 'application/json; charset=utf-8', 'X-MiniProfiler-Ids': '[\"1ca55e94-0274-4be0-9e40-41a4dd491838\",\"1f4e7f25-8c51-4fdd-b466-ad50a3a62098\",\"beea000d-7b97-4eb3-8a83-f7d9595ba5e0\",\"fa5314c2-2117-4f1a-9ebb-c3d29c870dfa\",\"24a61c3e-5379-41a1-b699-0700d1ff889e\",\"f8b3c4b0-95a4-4971-8892-810b2c524f08\"]', 'X-Frame-Options': 'SAMEORIGIN', 'Referrer-Policy': 'strict-origin-when-cross-origin', 'Set-Cookie': 'ARRAffinity=87506ffb959c51b2ba135ec75a7dffc3bc28e2948e5cb4ee012d8d916b147438;Path=/;HttpOnly;Domain=www.kaggle.com', 'Date': 'Wed, 31 Oct 2018 09:15:44 GMT'})\nHTTP response body: {\"code\":401,\"message\":\"Unauthorized\"}\n",
     "output_type": "error",
     "traceback": [
      "\u001b[0;31m\u001b[0m",
      "\u001b[0;31mApiException\u001b[0mTraceback (most recent call last)",
      "\u001b[0;32m<ipython-input-25-047707899de9>\u001b[0m in \u001b[0;36m<module>\u001b[0;34m\u001b[0m\n\u001b[0;32m----> 1\u001b[0;31m \u001b[0mapi\u001b[0m\u001b[0;34m.\u001b[0m\u001b[0mcompetitions_list\u001b[0m\u001b[0;34m(\u001b[0m\u001b[0;34m)\u001b[0m\u001b[0;34m\u001b[0m\u001b[0m\n\u001b[0m",
      "\u001b[0;32m/opt/conda/lib/python3.7/site-packages/kaggle/api/kaggle_api_extended.py\u001b[0m in \u001b[0;36mcompetitions_list\u001b[0;34m(self, group, category, sort_by, page, search)\u001b[0m\n",
      "\u001b[0;32m/opt/conda/lib/python3.7/site-packages/kaggle/api/kaggle_api.py\u001b[0m in \u001b[0;36mcompetitions_list_with_http_info\u001b[0;34m(self, **kwargs)\u001b[0m\n",
      "\u001b[0;32m/opt/conda/lib/python3.7/site-packages/kaggle/api_client.py\u001b[0m in \u001b[0;36mcall_api\u001b[0;34m(self, resource_path, method, path_params, query_params, header_params, body, post_params, files, response_type, auth_settings, async_req, _return_http_data_only, collection_formats, _preload_content, _request_timeout)\u001b[0m\n",
      "\u001b[0;32m/opt/conda/lib/python3.7/site-packages/kaggle/api_client.py\u001b[0m in \u001b[0;36m__call_api\u001b[0;34m(self, resource_path, method, path_params, query_params, header_params, body, post_params, files, response_type, auth_settings, _return_http_data_only, collection_formats, _preload_content, _request_timeout)\u001b[0m\n",
      "\u001b[0;32m/opt/conda/lib/python3.7/site-packages/kaggle/api_client.py\u001b[0m in \u001b[0;36mrequest\u001b[0;34m(self, method, url, query_params, headers, post_params, body, _preload_content, _request_timeout)\u001b[0m\n",
      "\u001b[0;32m/opt/conda/lib/python3.7/site-packages/kaggle/rest.py\u001b[0m in \u001b[0;36mGET\u001b[0;34m(self, url, headers, query_params, _preload_content, _request_timeout)\u001b[0m\n",
      "\u001b[0;32m/opt/conda/lib/python3.7/site-packages/kaggle/rest.py\u001b[0m in \u001b[0;36mrequest\u001b[0;34m(self, method, url, query_params, headers, body, post_params, _preload_content, _request_timeout)\u001b[0m\n",
      "\u001b[0;31mApiException\u001b[0m: (401)\nReason: Unauthorized\nHTTP response headers: HTTPHeaderDict({'Cache-Control': 'private', 'Content-Length': '37', 'Content-Type': 'application/json; charset=utf-8', 'X-MiniProfiler-Ids': '[\"1ca55e94-0274-4be0-9e40-41a4dd491838\",\"1f4e7f25-8c51-4fdd-b466-ad50a3a62098\",\"beea000d-7b97-4eb3-8a83-f7d9595ba5e0\",\"fa5314c2-2117-4f1a-9ebb-c3d29c870dfa\",\"24a61c3e-5379-41a1-b699-0700d1ff889e\",\"f8b3c4b0-95a4-4971-8892-810b2c524f08\"]', 'X-Frame-Options': 'SAMEORIGIN', 'Referrer-Policy': 'strict-origin-when-cross-origin', 'Set-Cookie': 'ARRAffinity=87506ffb959c51b2ba135ec75a7dffc3bc28e2948e5cb4ee012d8d916b147438;Path=/;HttpOnly;Domain=www.kaggle.com', 'Date': 'Wed, 31 Oct 2018 09:15:44 GMT'})\nHTTP response body: {\"code\":401,\"message\":\"Unauthorized\"}\n"
     ]
    }
   ],
   "source": [
    "api.competitions_list()"
   ]
  },
  {
   "cell_type": "code",
   "execution_count": 12,
   "metadata": {},
   "outputs": [
    {
     "ename": "ApiException",
     "evalue": "(401)\nReason: Unauthorized\nHTTP response headers: HTTPHeaderDict({'Cache-Control': 'private', 'Content-Length': '37', 'Content-Type': 'application/json; charset=utf-8', 'X-MiniProfiler-Ids': '[\"b91cf719-4183-4d8b-8b40-52e569a96c78\",\"2d67fe23-b746-4549-b002-3b4ba4392e4b\",\"bbad7374-f7bf-4e0a-8a55-1a131832c2d5\",\"c4149b95-4085-4749-a211-e290018f920f\",\"b5bdb015-4c64-4320-baf4-f2af1720b106\",\"eb4f0d36-2e18-4695-8518-485cd895fe94\"]', 'X-Frame-Options': 'SAMEORIGIN', 'Referrer-Policy': 'strict-origin-when-cross-origin', 'Set-Cookie': 'ARRAffinity=7406707089e36c76511069e302665a115a9d662346c50c8b5663561620a7f404;Path=/;HttpOnly;Domain=www.kaggle.com', 'Date': 'Wed, 31 Oct 2018 09:08:10 GMT'})\nHTTP response body: {\"code\":401,\"message\":\"Unauthorized\"}\n",
     "output_type": "error",
     "traceback": [
      "\u001b[0;31m\u001b[0m",
      "\u001b[0;31mApiException\u001b[0mTraceback (most recent call last)",
      "\u001b[0;32m<ipython-input-12-b3f4e5fba252>\u001b[0m in \u001b[0;36m<module>\u001b[0;34m\u001b[0m\n\u001b[0;32m----> 1\u001b[0;31m \u001b[0mapi\u001b[0m\u001b[0;34m.\u001b[0m\u001b[0mcompetition_list_files\u001b[0m\u001b[0;34m(\u001b[0m\u001b[0;34m'human-protein-atlas-image-classification'\u001b[0m\u001b[0;34m)\u001b[0m\u001b[0;34m\u001b[0m\u001b[0m\n\u001b[0m",
      "\u001b[0;32m/opt/conda/lib/python3.7/site-packages/kaggle/api/kaggle_api_extended.py\u001b[0m in \u001b[0;36mcompetition_list_files\u001b[0;34m(self, competition)\u001b[0m\n",
      "\u001b[0;32m/opt/conda/lib/python3.7/site-packages/kaggle/api/kaggle_api.py\u001b[0m in \u001b[0;36mcompetitions_data_list_files_with_http_info\u001b[0;34m(self, id, **kwargs)\u001b[0m\n",
      "\u001b[0;32m/opt/conda/lib/python3.7/site-packages/kaggle/api_client.py\u001b[0m in \u001b[0;36mcall_api\u001b[0;34m(self, resource_path, method, path_params, query_params, header_params, body, post_params, files, response_type, auth_settings, async_req, _return_http_data_only, collection_formats, _preload_content, _request_timeout)\u001b[0m\n",
      "\u001b[0;32m/opt/conda/lib/python3.7/site-packages/kaggle/api_client.py\u001b[0m in \u001b[0;36m__call_api\u001b[0;34m(self, resource_path, method, path_params, query_params, header_params, body, post_params, files, response_type, auth_settings, _return_http_data_only, collection_formats, _preload_content, _request_timeout)\u001b[0m\n",
      "\u001b[0;32m/opt/conda/lib/python3.7/site-packages/kaggle/api_client.py\u001b[0m in \u001b[0;36mrequest\u001b[0;34m(self, method, url, query_params, headers, post_params, body, _preload_content, _request_timeout)\u001b[0m\n",
      "\u001b[0;32m/opt/conda/lib/python3.7/site-packages/kaggle/rest.py\u001b[0m in \u001b[0;36mGET\u001b[0;34m(self, url, headers, query_params, _preload_content, _request_timeout)\u001b[0m\n",
      "\u001b[0;32m/opt/conda/lib/python3.7/site-packages/kaggle/rest.py\u001b[0m in \u001b[0;36mrequest\u001b[0;34m(self, method, url, query_params, headers, body, post_params, _preload_content, _request_timeout)\u001b[0m\n",
      "\u001b[0;31mApiException\u001b[0m: (401)\nReason: Unauthorized\nHTTP response headers: HTTPHeaderDict({'Cache-Control': 'private', 'Content-Length': '37', 'Content-Type': 'application/json; charset=utf-8', 'X-MiniProfiler-Ids': '[\"b91cf719-4183-4d8b-8b40-52e569a96c78\",\"2d67fe23-b746-4549-b002-3b4ba4392e4b\",\"bbad7374-f7bf-4e0a-8a55-1a131832c2d5\",\"c4149b95-4085-4749-a211-e290018f920f\",\"b5bdb015-4c64-4320-baf4-f2af1720b106\",\"eb4f0d36-2e18-4695-8518-485cd895fe94\"]', 'X-Frame-Options': 'SAMEORIGIN', 'Referrer-Policy': 'strict-origin-when-cross-origin', 'Set-Cookie': 'ARRAffinity=7406707089e36c76511069e302665a115a9d662346c50c8b5663561620a7f404;Path=/;HttpOnly;Domain=www.kaggle.com', 'Date': 'Wed, 31 Oct 2018 09:08:10 GMT'})\nHTTP response body: {\"code\":401,\"message\":\"Unauthorized\"}\n"
     ]
    }
   ],
   "source": [
    "api.competition_list_files('human-protein-atlas-image-classification')"
   ]
  },
  {
   "cell_type": "code",
   "execution_count": 13,
   "metadata": {},
   "outputs": [
    {
     "ename": "ApiException",
     "evalue": "(401)\nReason: Unauthorized\nHTTP response headers: HTTPHeaderDict({'Cache-Control': 'private', 'Content-Length': '37', 'Content-Type': 'application/json; charset=utf-8', 'X-MiniProfiler-Ids': '[\"2d67fe23-b746-4549-b002-3b4ba4392e4b\",\"bbad7374-f7bf-4e0a-8a55-1a131832c2d5\",\"c4149b95-4085-4749-a211-e290018f920f\",\"b5bdb015-4c64-4320-baf4-f2af1720b106\",\"eb4f0d36-2e18-4695-8518-485cd895fe94\",\"2b935641-7fb2-4493-aa27-a8221d6c05fd\"]', 'X-Frame-Options': 'SAMEORIGIN', 'Referrer-Policy': 'strict-origin-when-cross-origin', 'Set-Cookie': 'ARRAffinity=7406707089e36c76511069e302665a115a9d662346c50c8b5663561620a7f404;Path=/;HttpOnly;Domain=www.kaggle.com', 'Date': 'Wed, 31 Oct 2018 09:08:11 GMT'})\nHTTP response body: {\"code\":401,\"message\":\"Unauthorized\"}\n",
     "output_type": "error",
     "traceback": [
      "\u001b[0;31m\u001b[0m",
      "\u001b[0;31mApiException\u001b[0mTraceback (most recent call last)",
      "\u001b[0;32m<ipython-input-13-b4e7988930c4>\u001b[0m in \u001b[0;36m<module>\u001b[0;34m\u001b[0m\n\u001b[0;32m----> 1\u001b[0;31m \u001b[0mfiles\u001b[0m \u001b[0;34m=\u001b[0m \u001b[0mapi\u001b[0m\u001b[0;34m.\u001b[0m\u001b[0mcompetition_download_files\u001b[0m\u001b[0;34m(\u001b[0m\u001b[0;34m\"human-protein-atlas-image-classification\"\u001b[0m\u001b[0;34m)\u001b[0m\u001b[0;34m\u001b[0m\u001b[0m\n\u001b[0m",
      "\u001b[0;32m/opt/conda/lib/python3.7/site-packages/kaggle/api/kaggle_api_extended.py\u001b[0m in \u001b[0;36mcompetition_download_files\u001b[0;34m(self, competition, path, force, quiet)\u001b[0m\n",
      "\u001b[0;32m/opt/conda/lib/python3.7/site-packages/kaggle/api/kaggle_api_extended.py\u001b[0m in \u001b[0;36mcompetition_list_files\u001b[0;34m(self, competition)\u001b[0m\n",
      "\u001b[0;32m/opt/conda/lib/python3.7/site-packages/kaggle/api/kaggle_api.py\u001b[0m in \u001b[0;36mcompetitions_data_list_files_with_http_info\u001b[0;34m(self, id, **kwargs)\u001b[0m\n",
      "\u001b[0;32m/opt/conda/lib/python3.7/site-packages/kaggle/api_client.py\u001b[0m in \u001b[0;36mcall_api\u001b[0;34m(self, resource_path, method, path_params, query_params, header_params, body, post_params, files, response_type, auth_settings, async_req, _return_http_data_only, collection_formats, _preload_content, _request_timeout)\u001b[0m\n",
      "\u001b[0;32m/opt/conda/lib/python3.7/site-packages/kaggle/api_client.py\u001b[0m in \u001b[0;36m__call_api\u001b[0;34m(self, resource_path, method, path_params, query_params, header_params, body, post_params, files, response_type, auth_settings, _return_http_data_only, collection_formats, _preload_content, _request_timeout)\u001b[0m\n",
      "\u001b[0;32m/opt/conda/lib/python3.7/site-packages/kaggle/api_client.py\u001b[0m in \u001b[0;36mrequest\u001b[0;34m(self, method, url, query_params, headers, post_params, body, _preload_content, _request_timeout)\u001b[0m\n",
      "\u001b[0;32m/opt/conda/lib/python3.7/site-packages/kaggle/rest.py\u001b[0m in \u001b[0;36mGET\u001b[0;34m(self, url, headers, query_params, _preload_content, _request_timeout)\u001b[0m\n",
      "\u001b[0;32m/opt/conda/lib/python3.7/site-packages/kaggle/rest.py\u001b[0m in \u001b[0;36mrequest\u001b[0;34m(self, method, url, query_params, headers, body, post_params, _preload_content, _request_timeout)\u001b[0m\n",
      "\u001b[0;31mApiException\u001b[0m: (401)\nReason: Unauthorized\nHTTP response headers: HTTPHeaderDict({'Cache-Control': 'private', 'Content-Length': '37', 'Content-Type': 'application/json; charset=utf-8', 'X-MiniProfiler-Ids': '[\"2d67fe23-b746-4549-b002-3b4ba4392e4b\",\"bbad7374-f7bf-4e0a-8a55-1a131832c2d5\",\"c4149b95-4085-4749-a211-e290018f920f\",\"b5bdb015-4c64-4320-baf4-f2af1720b106\",\"eb4f0d36-2e18-4695-8518-485cd895fe94\",\"2b935641-7fb2-4493-aa27-a8221d6c05fd\"]', 'X-Frame-Options': 'SAMEORIGIN', 'Referrer-Policy': 'strict-origin-when-cross-origin', 'Set-Cookie': 'ARRAffinity=7406707089e36c76511069e302665a115a9d662346c50c8b5663561620a7f404;Path=/;HttpOnly;Domain=www.kaggle.com', 'Date': 'Wed, 31 Oct 2018 09:08:11 GMT'})\nHTTP response body: {\"code\":401,\"message\":\"Unauthorized\"}\n"
     ]
    }
   ],
   "source": [
    "files = api.competition_download_files(\"human-protein-atlas-image-classification\")"
   ]
  },
  {
   "cell_type": "code",
   "execution_count": null,
   "metadata": {},
   "outputs": [],
   "source": []
  }
 ],
 "metadata": {
  "kernelspec": {
   "display_name": "Python 3",
   "language": "python",
   "name": "python3"
  },
  "language_info": {
   "codemirror_mode": {
    "name": "ipython",
    "version": 3
   },
   "file_extension": ".py",
   "mimetype": "text/x-python",
   "name": "python",
   "nbconvert_exporter": "python",
   "pygments_lexer": "ipython3",
   "version": "3.7.0"
  }
 },
 "nbformat": 4,
 "nbformat_minor": 2
}
