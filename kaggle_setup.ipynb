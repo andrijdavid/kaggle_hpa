{
 "cells": [
  {
   "cell_type": "code",
   "execution_count": 1,
   "metadata": {},
   "outputs": [],
   "source": [
    "from kaggle.api.kaggle_api_extended import KaggleApi\n",
    "api = KaggleApi()"
   ]
  },
  {
   "cell_type": "code",
   "execution_count": 2,
   "metadata": {},
   "outputs": [],
   "source": [
    "api.authenticate()\n",
    "# api = KaggleApi('copy and paste kaggle.json content here')"
   ]
  },
  {
   "cell_type": "code",
   "execution_count": 3,
   "metadata": {},
   "outputs": [],
   "source": [
    "!chmod 600 /root/.kaggle/kaggle.json"
   ]
  },
  {
   "cell_type": "code",
   "execution_count": 5,
   "metadata": {},
   "outputs": [
    {
     "data": {
      "text/plain": [
       "[digit-recognizer,\n",
       " titanic,\n",
       " house-prices-advanced-regression-techniques,\n",
       " imagenet-object-localization-challenge,\n",
       " competitive-data-science-predict-future-sales,\n",
       " pubg-finish-placement-prediction,\n",
       " human-protein-atlas-image-classification,\n",
       " two-sigma-financial-news,\n",
       " PLAsTiCC-2018,\n",
       " quickdraw-doodle-recognition,\n",
       " ga-customer-revenue-prediction,\n",
       " airbus-ship-detection,\n",
       " inclusive-images-challenge,\n",
       " rsna-pneumonia-detection-challenge,\n",
       " tgs-salt-identification-challenge,\n",
       " new-york-city-taxi-fare-prediction,\n",
       " forest-cover-type-kernels-only,\n",
       " demand-forecasting-kernels-only,\n",
       " whats-cooking-kernels-only,\n",
       " flavours-of-physics-kernels-only]"
      ]
     },
     "execution_count": 5,
     "metadata": {},
     "output_type": "execute_result"
    }
   ],
   "source": [
    "api.competitions_list()"
   ]
  },
  {
   "cell_type": "code",
   "execution_count": 6,
   "metadata": {},
   "outputs": [
    {
     "data": {
      "text/plain": [
       "[sample_submission.csv, train.csv, test.zip, train.zip]"
      ]
     },
     "execution_count": 6,
     "metadata": {},
     "output_type": "execute_result"
    }
   ],
   "source": [
    "api.competition_list_files('human-protein-atlas-image-classification')"
   ]
  },
  {
   "cell_type": "code",
   "execution_count": null,
   "metadata": {},
   "outputs": [],
   "source": [
    "files = api.competition_download_files(\"human-protein-atlas-image-classification\")"
   ]
  },
  {
   "cell_type": "code",
   "execution_count": null,
   "metadata": {},
   "outputs": [],
   "source": []
  }
 ],
 "metadata": {
  "kernelspec": {
   "display_name": "Python 3",
   "language": "python",
   "name": "python3"
  },
  "language_info": {
   "codemirror_mode": {
    "name": "ipython",
    "version": 3
   },
   "file_extension": ".py",
   "mimetype": "text/x-python",
   "name": "python",
   "nbconvert_exporter": "python",
   "pygments_lexer": "ipython3",
   "version": "3.6.5"
  }
 },
 "nbformat": 4,
 "nbformat_minor": 2
}
